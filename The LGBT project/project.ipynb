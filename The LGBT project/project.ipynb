{
  "cells": [
    {
      "cell_type": "markdown",
      "metadata": {
        "id": "view-in-github",
        "colab_type": "text"
      },
      "source": [
        "<a href=\"https://colab.research.google.com/github/Petint/AI-and-DS/blob/main/The%20LGBT%20project/project.ipynb\" target=\"_parent\"><img src=\"https://colab.research.google.com/assets/colab-badge.svg\" alt=\"Open In Colab\"/></a>"
      ]
    },
    {
      "cell_type": "markdown",
      "metadata": {
        "id": "Dg4xMrKzo0Lg"
      },
      "source": [
        "# The LGBT project\n",
        "<svg xmlns=\"http://www.w3.org/2000/svg\" viewBox=\"0 0 5000 480\">\n",
        "  <path fill=\"#750787\" d=\"M0 0h777v480H0z\"/>\n",
        "  <path fill=\"#004dff\" d=\"M0 0h777v400H0z\"/>\n",
        "  <path fill=\"#008026\" d=\"M0 0h777v320H0z\"/>\n",
        "  <path fill=\"#ffed00\" d=\"M0 0h777v240H0z\"/>\n",
        "  <path fill=\"#ff8c00\" d=\"M0 0h777v160H0z\"/>\n",
        "  <path fill=\"#e40303\" d=\"M0 0h777v80H0z\"/>\n",
        "</svg>\n",
        "\n",
        "## The dataset\n",
        "> FRA (Fundamental Rights Agency) conducted an online survey to identify how lesbian, gay, bisexual and transgender (LGBT) people living in the European Union and Croatia experience the fulfilment of their fundamental rights. The evidence produced by the survey will support the development of more effective laws and policies to fight discrimination, violence and harassment, improving equal treatment across society. The need for such an EU-wide survey became evident after the publication in 2009 of the first FRA report on homophobia and discrimination on grounds of sexual orientation or gender identity, which highlighted the absence of comparable data. The European Commission then requested FRA to collect comparable data across the EU on this issue. FRA organised the data collection in the form of an online survey covering all EU Member States and Croatia. The respondents were persons aged 18 years and over, who identify themselves as lesbian, gay, bisexual or transgender, anonymously. The survey was made available online, from April to July 2012, in all 23 official EU languages (except Irish) plus Catalan, Croatian, Luxembourgish, Russian and Turkish. In total, 93,079 LGBT persons completed the survey. FRA’s inhouse experts designed the survey which was implemented by Gallup, one of the market leaders in large-scale surveys. In addition, civil society organisations including ILGA-Europe (European Region of the International Lesbian, Gay, Bisexual, Trans and Intersex Association) and Transgender Europe (TGEU) provided advice on how to best approach LGBT people.<br><br>Source: [kaggle](\"https://www.kaggle.com/datasets/ruslankl/european-union-lgbt-survey-2012\")"
      ]
    },
    {
      "cell_type": "code",
      "execution_count": 11,
      "metadata": {
        "id": "ZeWQwx5lo0Lj"
      },
      "outputs": [],
      "source": [
        "# Basic\n",
        "import numpy as np # linear algebra\n",
        "import pandas as pd # data processing, CSV file I/O (e.g. pd.read_csv)\n",
        "import matplotlib.pyplot as plt\n",
        "import matplotlib.gridspec as gs\n",
        "import seaborn as sns\n",
        "#import geoplotlib as geo\n",
        "\n",
        "from sklearn.preprocessing import MinMaxScaler\n",
        "\n",
        "import os\n",
        "files = [\"https://raw.githubusercontent.com/Petint/AI-and-DS/main/The%20LGBT%20project/raw_data/LGBT_Survey_DailyLife.csv\", \"https://raw.githubusercontent.com/Petint/AI-and-DS/main/The%20LGBT%20project/raw_data/LGBT_Survey_Discrimination.csv\",\n",
        "         \"https://raw.githubusercontent.com/Petint/AI-and-DS/main/The%20LGBT%20project/raw_data/LGBT_Survey_RightsAwareness.csv\", \"https://raw.githubusercontent.com/Petint/AI-and-DS/main/The%20LGBT%20project/raw_data/LGBT_Survey_SubsetSize.csv\",\n",
        "         \"https://raw.githubusercontent.com/Petint/AI-and-DS/main/The%20LGBT%20project/raw_data/LGBT_Survey_TransgenderSpecificQuestions.csv\", \"https://raw.githubusercontent.com/Petint/AI-and-DS/main/The%20LGBT%20project/raw_data/LGBT_Survey_ViolenceAndHarassment.csv\"]\n"
      ]
    },
    {
      "cell_type": "code",
      "execution_count": 12,
      "metadata": {
        "id": "ECdyXFpoq5Th"
      },
      "outputs": [],
      "source": [
        "pd.set_option('display.max_colwidth', None) #Dispaly full questions"
      ]
    },
    {
      "cell_type": "code",
      "execution_count": 13,
      "metadata": {
        "colab": {
          "base_uri": "https://localhost:8080/",
          "height": 89
        },
        "id": "TpQon3LLra1m",
        "outputId": "e91b3008-1838-4992-b031-521011ac33fb"
      },
      "outputs": [
        {
          "output_type": "display_data",
          "data": {
            "text/plain": [
              "<Figure size 504x72 with 1 Axes>"
            ],
            "image/png": "[encoded data removed]"
          },
          "metadata": {
            "needs_background": "light"
          }
        }
      ],
      "source": [
        "#Colors to be used in the plots\n",
        "colors=[\"#f94144\",\"#f3722c\",\"#f8961e\",\"#f9c74f\",\"#90be6d\",\"#43aa8b\",\"#577590\"]\n",
        "sns.palplot(colors)"
      ]
    },
    {
      "cell_type": "markdown",
      "metadata": {
        "id": "oNFr2Gzrrrph"
      },
      "source": [
        "## Load data\n",
        "* Opening files\n",
        "* Exploring data"
      ]
    },
    {
      "cell_type": "code",
      "execution_count": 14,
      "metadata": {
        "colab": {
          "base_uri": "https://localhost:8080/"
        },
        "id": "lV-lUQdxruzb",
        "outputId": "ed8386fd-5e63-4499-cf95-5ed80be03c64"
      },
      "outputs": [
        {
          "output_type": "execute_result",
          "data": {
            "text/plain": [
              "(34020, 7)"
            ]
          },
          "metadata": {},
          "execution_count": 14
        }
      ],
      "source": [
        "life_df = pd.read_csv(files[0])\n",
        "life_df.shape"
      ]
    },
    {
      "cell_type": "code",
      "execution_count": 15,
      "metadata": {
        "colab": {
          "base_uri": "https://localhost:8080/",
          "height": 206
        },
        "id": "hAlFgHifr8JW",
        "outputId": "d4e372dc-97ab-4563-ed64-6ecb6a7bb95b"
      },
      "outputs": [
        {
          "output_type": "execute_result",
          "data": {
            "text/plain": [
              "  CountryCode   subset question_code  \\\n",
              "0     Austria  Lesbian          b1_a   \n",
              "1     Austria  Lesbian          b1_a   \n",
              "2     Austria  Lesbian          b1_a   \n",
              "3     Austria  Lesbian          b1_a   \n",
              "4     Austria  Lesbian          b1_a   \n",
              "\n",
              "                                                                                                                                               question_label  \\\n",
              "0  In your opinion, how widespread is offensive language about lesbian, gay, bisexual and/or transgender people by politicians in the country where you live?   \n",
              "1  In your opinion, how widespread is offensive language about lesbian, gay, bisexual and/or transgender people by politicians in the country where you live?   \n",
              "2  In your opinion, how widespread is offensive language about lesbian, gay, bisexual and/or transgender people by politicians in the country where you live?   \n",
              "3  In your opinion, how widespread is offensive language about lesbian, gay, bisexual and/or transgender people by politicians in the country where you live?   \n",
              "4  In your opinion, how widespread is offensive language about lesbian, gay, bisexual and/or transgender people by politicians in the country where you live?   \n",
              "\n",
              "              answer percentage notes  \n",
              "0    Very widespread          8   NaN  \n",
              "1  Fairly widespread         34   NaN  \n",
              "2        Fairly rare         45   NaN  \n",
              "3          Very rare          9   NaN  \n",
              "4         Don`t know          4   [0]  "
            ],
            "text/html": [
              "\n",
              "  <div id=\"df-1ec53897-78ed-4970-a335-182954f4da9a\">\n",
              "    <div class=\"colab-df-container\">\n",
              "      <div>\n",
              "<style scoped>\n",
              "    .dataframe tbody tr th:only-of-type {\n",
              "        vertical-align: middle;\n",
              "    }\n",
              "\n",
              "    .dataframe tbody tr th {\n",
              "        vertical-align: top;\n",
              "    }\n",
              "\n",
              "    .dataframe thead th {\n",
              "        text-align: right;\n",
              "    }\n",
              "</style>\n",
              "<table border=\"1\" class=\"dataframe\">\n",
              "  <thead>\n",
              "    <tr style=\"text-align: right;\">\n",
              "      <th></th>\n",
              "      <th>CountryCode</th>\n",
              "      <th>subset</th>\n",
              "      <th>question_code</th>\n",
              "      <th>question_label</th>\n",
              "      <th>answer</th>\n",
              "      <th>percentage</th>\n",
              "      <th>notes</th>\n",
              "    </tr>\n",
              "  </thead>\n",
              "  <tbody>\n",
              "    <tr>\n",
              "      <th>0</th>\n",
              "      <td>Austria</td>\n",
              "      <td>Lesbian</td>\n",
              "      <td>b1_a</td>\n",
              "      <td>In your opinion, how widespread is offensive language about lesbian, gay, bisexual and/or transgender people by politicians in the country where you live?</td>\n",
              "      <td>Very widespread</td>\n",
              "      <td>8</td>\n",
              "      <td>NaN</td>\n",
              "    </tr>\n",
              "    <tr>\n",
              "      <th>1</th>\n",
              "      <td>Austria</td>\n",
              "      <td>Lesbian</td>\n",
              "      <td>b1_a</td>\n",
              "      <td>In your opinion, how widespread is offensive language about lesbian, gay, bisexual and/or transgender people by politicians in the country where you live?</td>\n",
              "      <td>Fairly widespread</td>\n",
              "      <td>34</td>\n",
              "      <td>NaN</td>\n",
              "    </tr>\n",
              "    <tr>\n",
              "      <th>2</th>\n",
              "      <td>Austria</td>\n",
              "      <td>Lesbian</td>\n",
              "      <td>b1_a</td>\n",
              "      <td>In your opinion, how widespread is offensive language about lesbian, gay, bisexual and/or transgender people by politicians in the country where you live?</td>\n",
              "      <td>Fairly rare</td>\n",
              "      <td>45</td>\n",
              "      <td>NaN</td>\n",
              "    </tr>\n",
              "    <tr>\n",
              "      <th>3</th>\n",
              "      <td>Austria</td>\n",
              "      <td>Lesbian</td>\n",
              "      <td>b1_a</td>\n",
              "      <td>In your opinion, how widespread is offensive language about lesbian, gay, bisexual and/or transgender people by politicians in the country where you live?</td>\n",
              "      <td>Very rare</td>\n",
              "      <td>9</td>\n",
              "      <td>NaN</td>\n",
              "    </tr>\n",
              "    <tr>\n",
              "      <th>4</th>\n",
              "      <td>Austria</td>\n",
              "      <td>Lesbian</td>\n",
              "      <td>b1_a</td>\n",
              "      <td>In your opinion, how widespread is offensive language about lesbian, gay, bisexual and/or transgender people by politicians in the country where you live?</td>\n",
              "      <td>Don`t know</td>\n",
              "      <td>4</td>\n",
              "      <td>[0]</td>\n",
              "    </tr>\n",
              "  </tbody>\n",
              "</table>\n",
              "</div>\n",
              "      <button class=\"colab-df-convert\" onclick=\"convertToInteractive('df-1ec53897-78ed-4970-a335-182954f4da9a')\"\n",
              "              title=\"Convert this dataframe to an interactive table.\"\n",
              "              style=\"display:none;\">\n",
              "        \n",
              "  <svg xmlns=\"http://www.w3.org/2000/svg\" height=\"24px\"viewBox=\"0 0 24 24\"\n",
              "       width=\"24px\">\n",
              "    <path d=\"M0 0h24v24H0V0z\" fill=\"none\"/>\n",
              "    <path d=\"M18.56 5.44l.94 2.06.94-2.06 2.06-.94-2.06-.94-.94-2.06-.94 2.06-2.06.94zm-11 1L8.5 8.5l.94-2.06 2.06-.94-2.06-.94L8.5 2.5l-.94 2.06-2.06.94zm10 10l.94 2.06.94-2.06 2.06-.94-2.06-.94-.94-2.06-.94 2.06-2.06.94z\"/><path d=\"M17.41 7.96l-1.37-1.37c-.4-.4-.92-.59-1.43-.59-.52 0-1.04.2-1.43.59L10.3 9.45l-7.72 7.72c-.78.78-.78 2.05 0 2.83L4 21.41c.39.39.9.59 1.41.59.51 0 1.02-.2 1.41-.59l7.78-7.78 2.81-2.81c.8-.78.8-2.07 0-2.86zM5.41 20L4 18.59l7.72-7.72 1.47 1.35L5.41 20z\"/>\n",
              "  </svg>\n",
              "      </button>\n",
              "      \n",
              "  <style>\n",
              "    .colab-df-container {\n",
              "      display:flex;\n",
              "      flex-wrap:wrap;\n",
              "      gap: 12px;\n",
              "    }\n",
              "\n",
              "    .colab-df-convert {\n",
              "      background-color: #E8F0FE;\n",
              "      border: none;\n",
              "      border-radius: 50%;\n",
              "      cursor: pointer;\n",
              "      display: none;\n",
              "      fill: #1967D2;\n",
              "      height: 32px;\n",
              "      padding: 0 0 0 0;\n",
              "      width: 32px;\n",
              "    }\n",
              "\n",
              "    .colab-df-convert:hover {\n",
              "      background-color: #E2EBFA;\n",
              "      box-shadow: 0px 1px 2px rgba(60, 64, 67, 0.3), 0px 1px 3px 1px rgba(60, 64, 67, 0.15);\n",
              "      fill: #174EA6;\n",
              "    }\n",
              "\n",
              "    [theme=dark] .colab-df-convert {\n",
              "      background-color: #3B4455;\n",
              "      fill: #D2E3FC;\n",
              "    }\n",
              "\n",
              "    [theme=dark] .colab-df-convert:hover {\n",
              "      background-color: #434B5C;\n",
              "      box-shadow: 0px 1px 3px 1px rgba(0, 0, 0, 0.15);\n",
              "      filter: drop-shadow(0px 1px 2px rgba(0, 0, 0, 0.3));\n",
              "      fill: #FFFFFF;\n",
              "    }\n",
              "  </style>\n",
              "\n",
              "      <script>\n",
              "        const buttonEl =\n",
              "          document.querySelector('#df-1ec53897-78ed-4970-a335-182954f4da9a button.colab-df-convert');\n",
              "        buttonEl.style.display =\n",
              "          google.colab.kernel.accessAllowed ? 'block' : 'none';\n",
              "\n",
              "        async function convertToInteractive(key) {\n",
              "          const element = document.querySelector('#df-1ec53897-78ed-4970-a335-182954f4da9a');\n",
              "          const dataTable =\n",
              "            await google.colab.kernel.invokeFunction('convertToInteractive',\n",
              "                                                     [key], {});\n",
              "          if (!dataTable) return;\n",
              "\n",
              "          const docLinkHtml = 'Like what you see? Visit the ' +\n",
              "            '<a target=\"_blank\" href=https://colab.research.google.com/notebooks/data_table.ipynb>data table notebook</a>'\n",
              "            + ' to learn more about interactive tables.';\n",
              "          element.innerHTML = '';\n",
              "          dataTable['output_type'] = 'display_data';\n",
              "          await google.colab.output.renderOutput(dataTable, element);\n",
              "          const docLink = document.createElement('div');\n",
              "          docLink.innerHTML = docLinkHtml;\n",
              "          element.appendChild(docLink);\n",
              "        }\n",
              "      </script>\n",
              "    </div>\n",
              "  </div>\n",
              "  "
            ]
          },
          "metadata": {},
          "execution_count": 15
        }
      ],
      "source": [
        "life_df.head()"
      ]
    },
    {
      "cell_type": "code",
      "execution_count": 16,
      "metadata": {
        "colab": {
          "base_uri": "https://localhost:8080/"
        },
        "id": "lpgNz21HsXuC",
        "outputId": "9b250eed-ab76-4f28-b91b-36f8c7c774d6"
      },
      "outputs": [
        {
          "output_type": "execute_result",
          "data": {
            "text/plain": [
              "array(['In your opinion, how widespread is offensive language about lesbian, gay, bisexual and/or transgender people by politicians in the country where you live?',\n",
              "       'In your opinion, how widespread are casual jokes in everyday life about lesbian, gay, bisexual and/or transgender people in the country you live?',\n",
              "       'In your opinion, how widespread are expressions of hatred and aversion towards lesbian, gay, bisexual and/or transgender in public in the country where you live?',\n",
              "       'In your opinion, how widespread are assaults and harassment against lesbian, gay, bisexual and/or transgender people in the country where you live?',\n",
              "       'In your opinion, how widespread is same-sex partners holding hands in public in the country where you live?',\n",
              "       'In your opinion, how widespread is heterosexual partners holding hands in public in the country where you live?',\n",
              "       'In your opinion, how widespread is public figures in politics, business, sports, etc being open about themselves being lesbian, gay, bisexual and/or transgender in the country where you live?',\n",
              "       'In your opinion, how widespread are positive measures to promote respect for the human rights of lesbian, gay or bisexual people in the country where you live? *',\n",
              "       'In your opinion, how widespread are positive measures to promote respect for the human rights of transgender people in the country where you live? *',\n",
              "       'What would allow you to be more comfortable living as a lesbian, gay or bisexual person in the country where you live? Anti-discrimination policies referring to sexual orientation at the workplace?',\n",
              "       'What would allow you to be more comfortable living as a lesbian, gay or bisexual person in the country where you live? Measures implemented at school to respect lesbian, gay and bisexual people?',\n",
              "       'What would allow you to be more comfortable living as a lesbian, gay or bisexual person in the country where you live? Public figures in politics, business, sports, etc openly speaking in support of lesbian, gay and bisexual people?',\n",
              "       'What would allow you to be more comfortable living as a lesbian, gay or bisexual person in the country where you live? National authorities who promote the rights of lesbian, gay and bisexual people?',\n",
              "       'What would allow you to be more comfortable living as a lesbian, gay or bisexual person in the country where you live? Training of public servants (eg police, teachers) on the rights of lesbian, gay and bisexual people?',\n",
              "       'What would allow you to be more comfortable living as a lesbian, gay or bisexual person in the country where you live? Better acceptance of differences in sexual orientations by religious leaders?',\n",
              "       'What would allow you to be more comfortable living as a lesbian, gay or bisexual person in the country where you live? The possibility to marry and/or register a partnership?',\n",
              "       'What would allow you to be more comfortable living as a lesbian, gay or bisexual person in the country where you live? The possibility to foster / adopt children?',\n",
              "       'Recognition of same-sex partnerships across the European Union - What would allow you to be more comfortable living as a lesbian, gay or bisexual person in the country where you live?',\n",
              "       'In your opinion, in the country where you live, how widespread is discrimination because a person is Lesbian?',\n",
              "       'In your opinion, in the country where you live, how widespread is discrimination because a person is Gay?',\n",
              "       'In your opinion, in the country where you live, how widespread is discrimination because a person is Bisexual?',\n",
              "       'In your opinion, in the country where you live, how widespread is discrimination because a person is Transgender?',\n",
              "       'For each of the following types of discrimination, could you please specify whether, in your opinion, it is very rare, fairly rare, fairly widespread or very widespread in the country where you live?',\n",
              "       'Does your current partner know that you are L, G, B or T?',\n",
              "       'In your opinion, how many people know that you are L, G, B or T? Family members (other than your partner(s))?',\n",
              "       'In your opinion, how many people know that you are L, G, B or T? Friends?',\n",
              "       'In your opinion, how many people know that you are L, G, B or T? Neighbours?',\n",
              "       'In your opinion, how many people know that you are L, G, B or T? Work colleagues / schoolmates?',\n",
              "       'To how many people among the following groups are you open about yourself being L, G, B or T? Family members (other than your partner(s))?',\n",
              "       'To how many people among the following groups are you open about yourself being L, G, B or T ? Friends ?',\n",
              "       'To how many people among the following groups are you open about yourself being L, G, B or T? Neighbours ?',\n",
              "       'To how many people among the following groups are you open about yourself being L, G, B or T? Work colleagues / schoolmates?',\n",
              "       'To how many people among the following groups are you open about yourself being L, G, B or T? Immediate superior/head of department',\n",
              "       'To how many people among the following groups are you open about yourself being L, G, B or T? Customers, clients, etc at work?',\n",
              "       'To how many people among the following groups are you open about yourself being L, G, B or T? Medical staff / health care providers?',\n",
              "       'You have been treated with less courtesy than other people - In the last six months, in your day-to-day life, how often have any of the following things happened to you because you are or are assumed to be lesbian, gay, bisexual and/or transgender?',\n",
              "       'You have been treated with less respect than other people - In the last six months, in your day-to-day life, how often have any of the following things happened to you because you are or are assumed to be lesbian, gay, bisexual and/or transgender?',\n",
              "       'You have received poorer services than others (eg in restaurants, shops) - In the last six months, in your day-to-day life, how often have any of the following things happened to you because you are or are assumed to be L,G,B,T',\n",
              "       'All things considered, how satisfied would you say you are with your life these days? *',\n",
              "       'In terms of your civil status in the country where you live, are you *',\n",
              "       'What best describes your current situation in the country where you live *',\n",
              "       'Have you ever moved to an EU country (and also taken up local residence) together with your same-sex partner, since you married or registered your partnership?',\n",
              "       'In the country where you have moved to (taken u p residence), have you or your partner been denied or restricted access to any benefits or services that would have been available for a different-sex spouse or partner because of you having a same-sex partner or spouse?',\n",
              "       'In the country where you live, do you consider yourself to be part of any of the following? *',\n",
              "       'Do any children (under the age of 18) live in your household?',\n",
              "       'Are you a parent or legal guardian of a child (or children)?',\n",
              "       'Is someone in the household a parent or legal guardian of a child (or children)?',\n",
              "       'how did you come to know about this survey?',\n",
              "       'Have you been open about you being L, G, B or T? *',\n",
              "       '4 levels of being open about LGBT background *'], dtype=object)"
            ]
          },
          "metadata": {},
          "execution_count": 16
        }
      ],
      "source": [
        "# Display all the questions\n",
        "life_df.question_label.unique()"
      ]
    },
    {
      "cell_type": "code",
      "execution_count": 17,
      "metadata": {
        "colab": {
          "base_uri": "https://localhost:8080/"
        },
        "id": "YOA_wgWusddu",
        "outputId": "ef9b151a-b01b-4a36-d77b-56dee28a5f28"
      },
      "outputs": [
        {
          "output_type": "execute_result",
          "data": {
            "text/plain": [
              "array(['b1_a', 'b1_b', 'b1_c', 'b1_d', 'b1_e', 'b1_f', 'b1_g', 'b1_h',\n",
              "       'b1_i', 'b2_a', 'b2_b', 'b2_c', 'b2_d', 'b2_e', 'b2_f', 'b2_g',\n",
              "       'b2_h', 'b2_i', 'c1a_a', 'c1a_b', 'c1a_c', 'c1a_d', 'c1_b', 'c1_c',\n",
              "       'g1_a', 'g2_a', 'g2_b', 'g2_c', 'g2_d', 'g3_a', 'g3_b', 'g3_c',\n",
              "       'g3_d', 'g3_e', 'g3_f', 'g3_g', 'g4_a', 'g4_b', 'g4_c', 'g5',\n",
              "       'h10', 'h11', 'h14', 'h15', 'h16', 'h9', 'h9_1', 'h9_2', 'i1',\n",
              "       'open_at_school', 'open_at_work', 'openness_cat4'], dtype=object)"
            ]
          },
          "metadata": {},
          "execution_count": 17
        }
      ],
      "source": [
        "life_df.question_code.unique()"
      ]
    },
    {
      "cell_type": "markdown",
      "metadata": {
        "id": "_AFTAcTSskTc"
      },
      "source": [
        "###### The questions seems to be organized into categories."
      ]
    },
    {
      "cell_type": "code",
      "execution_count": 18,
      "metadata": {
        "colab": {
          "base_uri": "https://localhost:8080/"
        },
        "id": "RgiMuNp7smul",
        "outputId": "2af4f63c-4a62-4101-bfbf-09ef77db3fd5"
      },
      "outputs": [
        {
          "output_type": "execute_result",
          "data": {
            "text/plain": [
              "array(['Very widespread', 'Fairly widespread', 'Fairly rare', 'Very rare',\n",
              "       'Don`t know', 'Strongly agree', 'Agree', 'Disagree',\n",
              "       'Strongly disagree', 'Current situation is fine', 'Yes', 'No',\n",
              "       'I do not have a partner (Does not apply to me)', 'None', 'A few',\n",
              "       'Most', 'All', 'Never happened in the last sixth months',\n",
              "       'Happened only once in the last six months',\n",
              "       '2-5 times in the last six months',\n",
              "       '6 times or more in the last six months', '1', '10', '2', '3', '4',\n",
              "       '5', '6', '7', '8', '9', 'Single',\n",
              "       'Married/in a registered partnership', 'Divorced', 'Separated',\n",
              "       'Widowed', 'Living together with a partner /spouse',\n",
              "       'Involved in a relationship without living together',\n",
              "       'Have no relationship / do not have a partner',\n",
              "       'I did not need or use any benefits or services',\n",
              "       'An ethnic minority (including of migrant background)',\n",
              "       'A sexual minority',\n",
              "       'A minority in terms of disability (excluding diagnosis of gender dysphoria/gender identity disorder)',\n",
              "       'A religious minority', 'Other minority group',\n",
              "       'None of the above',\n",
              "       'I read about it in a newspaper (online or printed)',\n",
              "       'I received an email from an organisation or online network',\n",
              "       'Somebody told me about it or sent me the link',\n",
              "       'Through social media (facebook, twitter or etc.)',\n",
              "       'I saw an advertisement (banner) online, please specify where:',\n",
              "       'Somewhere else', 'Always open', 'selectively open',\n",
              "       'hide LGBT identity', 'Never Open', 'Rarely Open', 'Fairly open',\n",
              "       'Very open'], dtype=object)"
            ]
          },
          "metadata": {},
          "execution_count": 18
        }
      ],
      "source": [
        "life_df.answer.unique()"
      ]
    },
    {
      "cell_type": "code",
      "execution_count": 19,
      "metadata": {
        "colab": {
          "base_uri": "https://localhost:8080/"
        },
        "id": "RhaDrLxZsqOW",
        "outputId": "71b1c5e9-031a-40ca-cde7-f8d3faff68e6"
      },
      "outputs": [
        {
          "output_type": "execute_result",
          "data": {
            "text/plain": [
              "array(['Very widespread', 'Fairly widespread', 'Fairly rare', 'Very rare',\n",
              "       'Don`t know'], dtype=object)"
            ]
          },
          "metadata": {},
          "execution_count": 19
        }
      ],
      "source": [
        "life_df.loc[life_df.question_code.str.contains(\"b1\")].answer.unique()"
      ]
    },
    {
      "cell_type": "markdown",
      "metadata": {
        "id": "bXLhrgGAsv4E"
      },
      "source": [
        "###### Each category seem to have it's set of possible answers"
      ]
    },
    {
      "cell_type": "code",
      "execution_count": 20,
      "metadata": {
        "colab": {
          "base_uri": "https://localhost:8080/"
        },
        "id": "cicDi10Nsz2w",
        "outputId": "58d5e43c-10a2-4f9b-eb09-93872d8f7605"
      },
      "outputs": [
        {
          "output_type": "execute_result",
          "data": {
            "text/plain": [
              "array(['Austria', 'Belgium', 'Bulgaria', 'Cyprus', 'Czech Republic',\n",
              "       'Germany', 'Denmark', 'Estonia', 'Greece', 'Spain', 'Finland',\n",
              "       'France', 'Croatia', 'Hungary', 'Ireland', 'Italy', 'Lithuania',\n",
              "       'Luxembourg', 'Latvia', 'Malta', 'Netherlands', 'Poland',\n",
              "       'Portugal', 'Romania', 'Sweden', 'Slovenia', 'Slovakia',\n",
              "       'United Kingdom', 'Average'], dtype=object)"
            ]
          },
          "metadata": {},
          "execution_count": 20
        }
      ],
      "source": [
        "life_df.CountryCode.unique()"
      ]
    },
    {
      "cell_type": "markdown",
      "metadata": {
        "id": "JLGJQVbSuBEm"
      },
      "source": [
        "28 countries + 1 Average\n",
        "\n",
        "Total amount of categories: 29 countries x5 subsets x4 question_code x5 answer = 725 rows"
      ]
    },
    {
      "cell_type": "code",
      "execution_count": 21,
      "metadata": {
        "colab": {
          "base_uri": "https://localhost:8080/"
        },
        "id": "Hk3XudRkuDMZ",
        "outputId": "8aeeb1d6-e369-4b43-fe21-ef1d16bea905"
      },
      "outputs": [
        {
          "output_type": "execute_result",
          "data": {
            "text/plain": [
              "CountryCode           0\n",
              "subset                0\n",
              "question_code         0\n",
              "question_label        0\n",
              "answer                0\n",
              "percentage            0\n",
              "notes             18724\n",
              "dtype: int64"
            ]
          },
          "metadata": {},
          "execution_count": 21
        }
      ],
      "source": [
        "life_df.isnull().sum()"
      ]
    },
    {
      "cell_type": "code",
      "execution_count": 22,
      "metadata": {
        "colab": {
          "base_uri": "https://localhost:8080/"
        },
        "id": "C1geUraJuIP9",
        "outputId": "336da4b6-16c2-48c5-db0d-7cc3490ff79e"
      },
      "outputs": [
        {
          "output_type": "execute_result",
          "data": {
            "text/plain": [
              "array([nan, '[0]', ' [1] '], dtype=object)"
            ]
          },
          "metadata": {},
          "execution_count": 22
        }
      ],
      "source": [
        "life_df.notes.unique()\n"
      ]
    },
    {
      "cell_type": "markdown",
      "metadata": {
        "id": "YpxIlPg0uPwh"
      },
      "source": [
        "The column \"notes\" doesn't seem to hold any significant value. We can drop it."
      ]
    },
    {
      "cell_type": "code",
      "execution_count": 23,
      "metadata": {
        "colab": {
          "base_uri": "https://localhost:8080/"
        },
        "id": "CieVbpTkuRAA",
        "outputId": "571b66cd-73a4-41fe-eb3b-b67bcb923520"
      },
      "outputs": [
        {
          "output_type": "execute_result",
          "data": {
            "text/plain": [
              "(34020, 6)"
            ]
          },
          "metadata": {},
          "execution_count": 23
        }
      ],
      "source": [
        "life_df = life_df.drop(\"notes\", axis=1)\n",
        "life_df.shape"
      ]
    },
    {
      "cell_type": "code",
      "execution_count": 24,
      "metadata": {
        "colab": {
          "base_uri": "https://localhost:8080/"
        },
        "id": "MUJlFYeCuUwd",
        "outputId": "86afdb6f-55a8-47e9-d458-ee7db446be0c"
      },
      "outputs": [
        {
          "output_type": "execute_result",
          "data": {
            "text/plain": [
              "CountryCode       object\n",
              "subset            object\n",
              "question_code     object\n",
              "question_label    object\n",
              "answer            object\n",
              "percentage        object\n",
              "dtype: object"
            ]
          },
          "metadata": {},
          "execution_count": 24
        }
      ],
      "source": [
        "life_df.dtypes"
      ]
    },
    {
      "cell_type": "markdown",
      "metadata": {
        "id": "XhQLHpT7uZdS"
      },
      "source": [
        "\"percentage\" should be a number"
      ]
    },
    {
      "cell_type": "code",
      "execution_count": 25,
      "metadata": {
        "colab": {
          "base_uri": "https://localhost:8080/"
        },
        "id": "KwWAR5ATubNr",
        "outputId": "0a3ba342-bc0a-4a12-b1db-4b85a2d3d139"
      },
      "outputs": [
        {
          "output_type": "execute_result",
          "data": {
            "text/plain": [
              "array(['8', '34', '45', '9', '4', '21', '52', '20', '29', '48', '6', '5',\n",
              "       '47', '25', '51', '13', '2', '12', '33', '1', '7', '40', '36',\n",
              "       '43', '42', '31', '32', '14', '18', '3', '39', '37', '17', '38',\n",
              "       '26', '24', '27', '30', '28', ':', '46', '19', '49', '11', '60',\n",
              "       '59', '22', '41', '50', '15', '0', '35', '44', '10', '23', '16',\n",
              "       '55', '61', '63', '56', '54', '64', '53', '67', '57', '72', '66',\n",
              "       '69', '68', '65', '58', '62', '88', '75', '90', '81', '85', '70',\n",
              "       '91', '80', '76', '86', '79', '89', '77', '78', '73', '71', '87',\n",
              "       '83', '74', '82', '84', '92', '93', '94', '95', '98', '96', '97',\n",
              "       '100', '99'], dtype=object)"
            ]
          },
          "metadata": {},
          "execution_count": 25
        }
      ],
      "source": [
        "life_df.percentage.unique()"
      ]
    },
    {
      "cell_type": "code",
      "execution_count": 26,
      "metadata": {
        "id": "ZMNqomPSueG5"
      },
      "outputs": [],
      "source": [
        "# Clean & Convert\n",
        "life_df.percentage = life_df.percentage.replace(\":\", 0)\n",
        "life_df.percentage = life_df.percentage.astype(int)"
      ]
    },
    {
      "cell_type": "markdown",
      "metadata": {
        "id": "UfIWJ0UyuhCW"
      },
      "source": [
        "## Openess\n",
        "### Category G1"
      ]
    },
    {
      "cell_type": "code",
      "execution_count": 27,
      "metadata": {
        "colab": {
          "base_uri": "https://localhost:8080/"
        },
        "id": "O4YZ7TU2umqT",
        "outputId": "ef20efdf-27ea-4f35-a203-dbca77e21315"
      },
      "outputs": [
        {
          "output_type": "execute_result",
          "data": {
            "text/plain": [
              "(580, 6)"
            ]
          },
          "metadata": {},
          "execution_count": 27
        }
      ],
      "source": [
        "g1_df = life_df.loc[life_df.question_code.str.contains(\"g1\")]\n",
        "g1_df.shape"
      ]
    },
    {
      "cell_type": "code",
      "execution_count": 28,
      "metadata": {
        "colab": {
          "base_uri": "https://localhost:8080/"
        },
        "id": "dl8ZE0sRu1kc",
        "outputId": "56506dfb-e80d-4087-d487-a3b22dbe4b58"
      },
      "outputs": [
        {
          "output_type": "execute_result",
          "data": {
            "text/plain": [
              "array(['Does your current partner know that you are L, G, B or T?'],\n",
              "      dtype=object)"
            ]
          },
          "metadata": {},
          "execution_count": 28
        }
      ],
      "source": [
        "g1_df.question_label.unique()"
      ]
    },
    {
      "cell_type": "code",
      "execution_count": 29,
      "metadata": {
        "colab": {
          "base_uri": "https://localhost:8080/"
        },
        "id": "cTeqzs9vvKgZ",
        "outputId": "73c7cad4-a197-4d8f-dd40-f380a2cbc5c1"
      },
      "outputs": [
        {
          "output_type": "execute_result",
          "data": {
            "text/plain": [
              "array(['Yes', 'No', 'I do not have a partner (Does not apply to me)',\n",
              "       'Don`t know'], dtype=object)"
            ]
          },
          "metadata": {},
          "execution_count": 29
        }
      ],
      "source": [
        "g1_df.answer.unique()"
      ]
    },
    {
      "cell_type": "code",
      "execution_count": 30,
      "metadata": {
        "colab": {
          "base_uri": "https://localhost:8080/"
        },
        "id": "5gIZOYGpvPyi",
        "outputId": "37b45aa3-bca4-42e2-fd06-228d5c516c8c"
      },
      "outputs": [
        {
          "output_type": "stream",
          "name": "stderr",
          "text": [
            "<ipython-input-30-b282c47f0ac9>:1: SettingWithCopyWarning: \n",
            "A value is trying to be set on a copy of a slice from a DataFrame.\n",
            "Try using .loc[row_indexer,col_indexer] = value instead\n",
            "\n",
            "See the caveats in the documentation: https://pandas.pydata.org/pandas-docs/stable/user_guide/indexing.html#returning-a-view-versus-a-copy\n",
            "  g1_df['score'] = np.zeros\n"
          ]
        }
      ],
      "source": [
        "g1_df['score'] = np.zeros"
      ]
    },
    {
      "cell_type": "code",
      "execution_count": 31,
      "metadata": {
        "colab": {
          "base_uri": "https://localhost:8080/"
        },
        "id": "6ur1R5YSvcLJ",
        "outputId": "59a76231-e923-423a-bfb6-7f8aef34fb6d"
      },
      "outputs": [
        {
          "output_type": "execute_result",
          "data": {
            "text/plain": [
              "CountryCode       object\n",
              "subset            object\n",
              "question_code     object\n",
              "question_label    object\n",
              "answer            object\n",
              "percentage         int64\n",
              "score             object\n",
              "dtype: object"
            ]
          },
          "metadata": {},
          "execution_count": 31
        }
      ],
      "source": [
        "g1_df.dtypes"
      ]
    },
    {
      "cell_type": "code",
      "execution_count": 32,
      "metadata": {
        "colab": {
          "base_uri": "https://localhost:8080/"
        },
        "id": "f6bv4yUCvgyl",
        "outputId": "18a3b251-5c13-4b30-adc1-d4a37902c539"
      },
      "outputs": [
        {
          "output_type": "stream",
          "name": "stderr",
          "text": [
            "/usr/local/lib/python3.8/dist-packages/pandas/core/generic.py:5516: SettingWithCopyWarning: \n",
            "A value is trying to be set on a copy of a slice from a DataFrame.\n",
            "Try using .loc[row_indexer,col_indexer] = value instead\n",
            "\n",
            "See the caveats in the documentation: https://pandas.pydata.org/pandas-docs/stable/user_guide/indexing.html#returning-a-view-versus-a-copy\n",
            "  self[name] = value\n"
          ]
        }
      ],
      "source": [
        "g1_df.percentage = g1_df.percentage.replace(\":\", 0)  # dropna\n",
        "g1_df.percentage = g1_df.percentage.astype(int) # Cast to int"
      ]
    },
    {
      "cell_type": "code",
      "execution_count": 33,
      "metadata": {
        "colab": {
          "base_uri": "https://localhost:8080/"
        },
        "id": "VqNpIeEPuiXH",
        "outputId": "73a81445-94e1-4f61-e442-0910f7a4cf6b"
      },
      "outputs": [
        {
          "output_type": "stream",
          "name": "stderr",
          "text": [
            "<ipython-input-33-d49c6fda4c77>:8: SettingWithCopyWarning: \n",
            "A value is trying to be set on a copy of a slice from a DataFrame.\n",
            "Try using .loc[row_indexer,col_indexer] = value instead\n",
            "\n",
            "See the caveats in the documentation: https://pandas.pydata.org/pandas-docs/stable/user_guide/indexing.html#returning-a-view-versus-a-copy\n",
            "  g1_df['score'] = g1_df.answer.map(scoring_g1).mul(g1_df.percentage)\n"
          ]
        }
      ],
      "source": [
        "# Define scoring for g1\n",
        "scoring_g1 = {\"Yes\": 1,\n",
        "              \"No\": -1,\n",
        "              \"I do not have a partner (Does not apply to me)\": 0,\n",
        "              \"Don`t know\": 0.5}\n",
        "\n",
        "# Apply scoring g1\n",
        "g1_df['score'] = g1_df.answer.map(scoring_g1).mul(g1_df.percentage)\n",
        "g1_df = g1_df.drop('percentage', axis=1)"
      ]
    },
    {
      "cell_type": "code",
      "execution_count": 34,
      "metadata": {
        "colab": {
          "base_uri": "https://localhost:8080/",
          "height": 206
        },
        "id": "5XGI-bMNvu92",
        "outputId": "7dd37e39-1661-4091-eed6-a65a9bf05cb6"
      },
      "outputs": [
        {
          "output_type": "execute_result",
          "data": {
            "text/plain": [
              "      CountryCode   subset question_code  \\\n",
              "17139     Austria  Lesbian          g1_a   \n",
              "17140     Austria  Lesbian          g1_a   \n",
              "17141     Austria  Lesbian          g1_a   \n",
              "17142     Austria  Lesbian          g1_a   \n",
              "17143     Austria      Gay          g1_a   \n",
              "\n",
              "                                                  question_label  \\\n",
              "17139  Does your current partner know that you are L, G, B or T?   \n",
              "17140  Does your current partner know that you are L, G, B or T?   \n",
              "17141  Does your current partner know that you are L, G, B or T?   \n",
              "17142  Does your current partner know that you are L, G, B or T?   \n",
              "17143  Does your current partner know that you are L, G, B or T?   \n",
              "\n",
              "                                               answer  score  \n",
              "17139                                             Yes   75.0  \n",
              "17140                                              No   -0.0  \n",
              "17141  I do not have a partner (Does not apply to me)    0.0  \n",
              "17142                                      Don`t know    0.0  \n",
              "17143                                             Yes   60.0  "
            ],
            "text/html": [
              "\n",
              "  <div id=\"df-df57c3db-b3b9-45ab-9cff-1923928c67c3\">\n",
              "    <div class=\"colab-df-container\">\n",
              "      <div>\n",
              "<style scoped>\n",
              "    .dataframe tbody tr th:only-of-type {\n",
              "        vertical-align: middle;\n",
              "    }\n",
              "\n",
              "    .dataframe tbody tr th {\n",
              "        vertical-align: top;\n",
              "    }\n",
              "\n",
              "    .dataframe thead th {\n",
              "        text-align: right;\n",
              "    }\n",
              "</style>\n",
              "<table border=\"1\" class=\"dataframe\">\n",
              "  <thead>\n",
              "    <tr style=\"text-align: right;\">\n",
              "      <th></th>\n",
              "      <th>CountryCode</th>\n",
              "      <th>subset</th>\n",
              "      <th>question_code</th>\n",
              "      <th>question_label</th>\n",
              "      <th>answer</th>\n",
              "      <th>score</th>\n",
              "    </tr>\n",
              "  </thead>\n",
              "  <tbody>\n",
              "    <tr>\n",
              "      <th>17139</th>\n",
              "      <td>Austria</td>\n",
              "      <td>Lesbian</td>\n",
              "      <td>g1_a</td>\n",
              "      <td>Does your current partner know that you are L, G, B or T?</td>\n",
              "      <td>Yes</td>\n",
              "      <td>75.0</td>\n",
              "    </tr>\n",
              "    <tr>\n",
              "      <th>17140</th>\n",
              "      <td>Austria</td>\n",
              "      <td>Lesbian</td>\n",
              "      <td>g1_a</td>\n",
              "      <td>Does your current partner know that you are L, G, B or T?</td>\n",
              "      <td>No</td>\n",
              "      <td>-0.0</td>\n",
              "    </tr>\n",
              "    <tr>\n",
              "      <th>17141</th>\n",
              "      <td>Austria</td>\n",
              "      <td>Lesbian</td>\n",
              "      <td>g1_a</td>\n",
              "      <td>Does your current partner know that you are L, G, B or T?</td>\n",
              "      <td>I do not have a partner (Does not apply to me)</td>\n",
              "      <td>0.0</td>\n",
              "    </tr>\n",
              "    <tr>\n",
              "      <th>17142</th>\n",
              "      <td>Austria</td>\n",
              "      <td>Lesbian</td>\n",
              "      <td>g1_a</td>\n",
              "      <td>Does your current partner know that you are L, G, B or T?</td>\n",
              "      <td>Don`t know</td>\n",
              "      <td>0.0</td>\n",
              "    </tr>\n",
              "    <tr>\n",
              "      <th>17143</th>\n",
              "      <td>Austria</td>\n",
              "      <td>Gay</td>\n",
              "      <td>g1_a</td>\n",
              "      <td>Does your current partner know that you are L, G, B or T?</td>\n",
              "      <td>Yes</td>\n",
              "      <td>60.0</td>\n",
              "    </tr>\n",
              "  </tbody>\n",
              "</table>\n",
              "</div>\n",
              "      <button class=\"colab-df-convert\" onclick=\"convertToInteractive('df-df57c3db-b3b9-45ab-9cff-1923928c67c3')\"\n",
              "              title=\"Convert this dataframe to an interactive table.\"\n",
              "              style=\"display:none;\">\n",
              "        \n",
              "  <svg xmlns=\"http://www.w3.org/2000/svg\" height=\"24px\"viewBox=\"0 0 24 24\"\n",
              "       width=\"24px\">\n",
              "    <path d=\"M0 0h24v24H0V0z\" fill=\"none\"/>\n",
              "    <path d=\"M18.56 5.44l.94 2.06.94-2.06 2.06-.94-2.06-.94-.94-2.06-.94 2.06-2.06.94zm-11 1L8.5 8.5l.94-2.06 2.06-.94-2.06-.94L8.5 2.5l-.94 2.06-2.06.94zm10 10l.94 2.06.94-2.06 2.06-.94-2.06-.94-.94-2.06-.94 2.06-2.06.94z\"/><path d=\"M17.41 7.96l-1.37-1.37c-.4-.4-.92-.59-1.43-.59-.52 0-1.04.2-1.43.59L10.3 9.45l-7.72 7.72c-.78.78-.78 2.05 0 2.83L4 21.41c.39.39.9.59 1.41.59.51 0 1.02-.2 1.41-.59l7.78-7.78 2.81-2.81c.8-.78.8-2.07 0-2.86zM5.41 20L4 18.59l7.72-7.72 1.47 1.35L5.41 20z\"/>\n",
              "  </svg>\n",
              "      </button>\n",
              "      \n",
              "  <style>\n",
              "    .colab-df-container {\n",
              "      display:flex;\n",
              "      flex-wrap:wrap;\n",
              "      gap: 12px;\n",
              "    }\n",
              "\n",
              "    .colab-df-convert {\n",
              "      background-color: #E8F0FE;\n",
              "      border: none;\n",
              "      border-radius: 50%;\n",
              "      cursor: pointer;\n",
              "      display: none;\n",
              "      fill: #1967D2;\n",
              "      height: 32px;\n",
              "      padding: 0 0 0 0;\n",
              "      width: 32px;\n",
              "    }\n",
              "\n",
              "    .colab-df-convert:hover {\n",
              "      background-color: #E2EBFA;\n",
              "      box-shadow: 0px 1px 2px rgba(60, 64, 67, 0.3), 0px 1px 3px 1px rgba(60, 64, 67, 0.15);\n",
              "      fill: #174EA6;\n",
              "    }\n",
              "\n",
              "    [theme=dark] .colab-df-convert {\n",
              "      background-color: #3B4455;\n",
              "      fill: #D2E3FC;\n",
              "    }\n",
              "\n",
              "    [theme=dark] .colab-df-convert:hover {\n",
              "      background-color: #434B5C;\n",
              "      box-shadow: 0px 1px 3px 1px rgba(0, 0, 0, 0.15);\n",
              "      filter: drop-shadow(0px 1px 2px rgba(0, 0, 0, 0.3));\n",
              "      fill: #FFFFFF;\n",
              "    }\n",
              "  </style>\n",
              "\n",
              "      <script>\n",
              "        const buttonEl =\n",
              "          document.querySelector('#df-df57c3db-b3b9-45ab-9cff-1923928c67c3 button.colab-df-convert');\n",
              "        buttonEl.style.display =\n",
              "          google.colab.kernel.accessAllowed ? 'block' : 'none';\n",
              "\n",
              "        async function convertToInteractive(key) {\n",
              "          const element = document.querySelector('#df-df57c3db-b3b9-45ab-9cff-1923928c67c3');\n",
              "          const dataTable =\n",
              "            await google.colab.kernel.invokeFunction('convertToInteractive',\n",
              "                                                     [key], {});\n",
              "          if (!dataTable) return;\n",
              "\n",
              "          const docLinkHtml = 'Like what you see? Visit the ' +\n",
              "            '<a target=\"_blank\" href=https://colab.research.google.com/notebooks/data_table.ipynb>data table notebook</a>'\n",
              "            + ' to learn more about interactive tables.';\n",
              "          element.innerHTML = '';\n",
              "          dataTable['output_type'] = 'display_data';\n",
              "          await google.colab.output.renderOutput(dataTable, element);\n",
              "          const docLink = document.createElement('div');\n",
              "          docLink.innerHTML = docLinkHtml;\n",
              "          element.appendChild(docLink);\n",
              "        }\n",
              "      </script>\n",
              "    </div>\n",
              "  </div>\n",
              "  "
            ]
          },
          "metadata": {},
          "execution_count": 34
        }
      ],
      "source": [
        "g1_df.head()"
      ]
    },
    {
      "cell_type": "code",
      "execution_count": 35,
      "metadata": {
        "id": "il7dnCBBwpmO"
      },
      "outputs": [],
      "source": [
        "g1_df = g1_df.loc[g1_df.subset.str.contains('Bisexual men|Bisexual women')]"
      ]
    },
    {
      "cell_type": "code",
      "execution_count": 36,
      "metadata": {
        "colab": {
          "base_uri": "https://localhost:8080/",
          "height": 311
        },
        "id": "0PC1IAk7vnKa",
        "outputId": "65bc1a95-3b94-4187-d842-5002655b5589"
      },
      "outputs": [
        {
          "output_type": "stream",
          "name": "stderr",
          "text": [
            "/usr/local/lib/python3.8/dist-packages/matplotlib/backends/backend_agg.py:214: RuntimeWarning: Glyph 9 missing from current font.\n",
            "  font.set_text(s, 0.0, flags=flags)\n",
            "/usr/local/lib/python3.8/dist-packages/matplotlib/backends/backend_agg.py:183: RuntimeWarning: Glyph 9 missing from current font.\n",
            "  font.set_text(s, 0, flags=flags)\n"
          ]
        },
        {
          "output_type": "display_data",
          "data": {
            "text/plain": [
              "<Figure size 1080x216 with 1 Axes>"
            ],
            "image/png": "[encoded data removed]"
          },
          "metadata": {
            "needs_background": "light"
          }
        }
      ],
      "source": [
        "fig=plt.figure(figsize=(15,3))\n",
        "plt.title(\"\tDoes your current partner know that you are L, G, B or T?\",family='Serif', weight='bold', size=15)\n",
        "ax = sns.barplot(x='score', y='CountryCode', hue='subset', data=g1_df.loc[g1_df.CountryCode.str.contains('Average')])"
      ]
    },
    {
      "cell_type": "code",
      "execution_count": 37,
      "metadata": {
        "colab": {
          "base_uri": "https://localhost:8080/",
          "height": 150
        },
        "id": "LRGVCSMcwr_M",
        "outputId": "21120a25-5558-42dd-f998-b7842023e9d2"
      },
      "outputs": [
        {
          "output_type": "execute_result",
          "data": {
            "text/plain": [
              "                score\n",
              "subset               \n",
              "Bisexual men     6.05\n",
              "Bisexual women  13.19"
            ],
            "text/html": [
              "\n",
              "  <div id=\"df-6f2ed3f8-748b-43a8-b8f8-acb1165f1977\">\n",
              "    <div class=\"colab-df-container\">\n",
              "      <div>\n",
              "<style scoped>\n",
              "    .dataframe tbody tr th:only-of-type {\n",
              "        vertical-align: middle;\n",
              "    }\n",
              "\n",
              "    .dataframe tbody tr th {\n",
              "        vertical-align: top;\n",
              "    }\n",
              "\n",
              "    .dataframe thead th {\n",
              "        text-align: right;\n",
              "    }\n",
              "</style>\n",
              "<table border=\"1\" class=\"dataframe\">\n",
              "  <thead>\n",
              "    <tr style=\"text-align: right;\">\n",
              "      <th></th>\n",
              "      <th>score</th>\n",
              "    </tr>\n",
              "    <tr>\n",
              "      <th>subset</th>\n",
              "      <th></th>\n",
              "    </tr>\n",
              "  </thead>\n",
              "  <tbody>\n",
              "    <tr>\n",
              "      <th>Bisexual men</th>\n",
              "      <td>6.05</td>\n",
              "    </tr>\n",
              "    <tr>\n",
              "      <th>Bisexual women</th>\n",
              "      <td>13.19</td>\n",
              "    </tr>\n",
              "  </tbody>\n",
              "</table>\n",
              "</div>\n",
              "      <button class=\"colab-df-convert\" onclick=\"convertToInteractive('df-6f2ed3f8-748b-43a8-b8f8-acb1165f1977')\"\n",
              "              title=\"Convert this dataframe to an interactive table.\"\n",
              "              style=\"display:none;\">\n",
              "        \n",
              "  <svg xmlns=\"http://www.w3.org/2000/svg\" height=\"24px\"viewBox=\"0 0 24 24\"\n",
              "       width=\"24px\">\n",
              "    <path d=\"M0 0h24v24H0V0z\" fill=\"none\"/>\n",
              "    <path d=\"M18.56 5.44l.94 2.06.94-2.06 2.06-.94-2.06-.94-.94-2.06-.94 2.06-2.06.94zm-11 1L8.5 8.5l.94-2.06 2.06-.94-2.06-.94L8.5 2.5l-.94 2.06-2.06.94zm10 10l.94 2.06.94-2.06 2.06-.94-2.06-.94-.94-2.06-.94 2.06-2.06.94z\"/><path d=\"M17.41 7.96l-1.37-1.37c-.4-.4-.92-.59-1.43-.59-.52 0-1.04.2-1.43.59L10.3 9.45l-7.72 7.72c-.78.78-.78 2.05 0 2.83L4 21.41c.39.39.9.59 1.41.59.51 0 1.02-.2 1.41-.59l7.78-7.78 2.81-2.81c.8-.78.8-2.07 0-2.86zM5.41 20L4 18.59l7.72-7.72 1.47 1.35L5.41 20z\"/>\n",
              "  </svg>\n",
              "      </button>\n",
              "      \n",
              "  <style>\n",
              "    .colab-df-container {\n",
              "      display:flex;\n",
              "      flex-wrap:wrap;\n",
              "      gap: 12px;\n",
              "    }\n",
              "\n",
              "    .colab-df-convert {\n",
              "      background-color: #E8F0FE;\n",
              "      border: none;\n",
              "      border-radius: 50%;\n",
              "      cursor: pointer;\n",
              "      display: none;\n",
              "      fill: #1967D2;\n",
              "      height: 32px;\n",
              "      padding: 0 0 0 0;\n",
              "      width: 32px;\n",
              "    }\n",
              "\n",
              "    .colab-df-convert:hover {\n",
              "      background-color: #E2EBFA;\n",
              "      box-shadow: 0px 1px 2px rgba(60, 64, 67, 0.3), 0px 1px 3px 1px rgba(60, 64, 67, 0.15);\n",
              "      fill: #174EA6;\n",
              "    }\n",
              "\n",
              "    [theme=dark] .colab-df-convert {\n",
              "      background-color: #3B4455;\n",
              "      fill: #D2E3FC;\n",
              "    }\n",
              "\n",
              "    [theme=dark] .colab-df-convert:hover {\n",
              "      background-color: #434B5C;\n",
              "      box-shadow: 0px 1px 3px 1px rgba(0, 0, 0, 0.15);\n",
              "      filter: drop-shadow(0px 1px 2px rgba(0, 0, 0, 0.3));\n",
              "      fill: #FFFFFF;\n",
              "    }\n",
              "  </style>\n",
              "\n",
              "      <script>\n",
              "        const buttonEl =\n",
              "          document.querySelector('#df-6f2ed3f8-748b-43a8-b8f8-acb1165f1977 button.colab-df-convert');\n",
              "        buttonEl.style.display =\n",
              "          google.colab.kernel.accessAllowed ? 'block' : 'none';\n",
              "\n",
              "        async function convertToInteractive(key) {\n",
              "          const element = document.querySelector('#df-6f2ed3f8-748b-43a8-b8f8-acb1165f1977');\n",
              "          const dataTable =\n",
              "            await google.colab.kernel.invokeFunction('convertToInteractive',\n",
              "                                                     [key], {});\n",
              "          if (!dataTable) return;\n",
              "\n",
              "          const docLinkHtml = 'Like what you see? Visit the ' +\n",
              "            '<a target=\"_blank\" href=https://colab.research.google.com/notebooks/data_table.ipynb>data table notebook</a>'\n",
              "            + ' to learn more about interactive tables.';\n",
              "          element.innerHTML = '';\n",
              "          dataTable['output_type'] = 'display_data';\n",
              "          await google.colab.output.renderOutput(dataTable, element);\n",
              "          const docLink = document.createElement('div');\n",
              "          docLink.innerHTML = docLinkHtml;\n",
              "          element.appendChild(docLink);\n",
              "        }\n",
              "      </script>\n",
              "    </div>\n",
              "  </div>\n",
              "  "
            ]
          },
          "metadata": {},
          "execution_count": 37
        }
      ],
      "source": [
        "g1_df.groupby('subset').mean().round(2)"
      ]
    },
    {
      "cell_type": "code",
      "execution_count": 38,
      "metadata": {
        "id": "TA6VF4mDxAq7"
      },
      "outputs": [],
      "source": [
        "g1_df_c = g1_df.groupby('CountryCode').mean()"
      ]
    },
    {
      "cell_type": "code",
      "execution_count": 39,
      "metadata": {
        "id": "ZpGWE1bBxGUm"
      },
      "outputs": [],
      "source": [
        "scaler = MinMaxScaler()\n",
        "\n",
        "g1_df_c['score_s'] = scaler.fit_transform(g1_df_c[['score']])"
      ]
    },
    {
      "cell_type": "code",
      "execution_count": 40,
      "metadata": {
        "colab": {
          "base_uri": "https://localhost:8080/"
        },
        "id": "Q9izE511xIcA",
        "outputId": "1c828393-37fd-4bd1-c850-bdaa783a4e27"
      },
      "outputs": [
        {
          "output_type": "execute_result",
          "data": {
            "text/plain": [
              "score      3.327205\n",
              "score_s    0.216404\n",
              "dtype: float64"
            ]
          },
          "metadata": {},
          "execution_count": 40
        }
      ],
      "source": [
        "np.std(g1_df_c)"
      ]
    },
    {
      "cell_type": "code",
      "execution_count": 41,
      "metadata": {
        "colab": {
          "base_uri": "https://localhost:8080/",
          "height": 1000
        },
        "id": "lHYGP4wTxKzH",
        "outputId": "530e6b35-f5f0-4c27-93c3-45b6000458d9"
      },
      "outputs": [
        {
          "output_type": "display_data",
          "data": {
            "text/plain": [
              "<Figure size 720x1440 with 1 Axes>"
            ],
            "image/png": "[encoded data removed]"
          },
          "metadata": {
            "needs_background": "light"
          }
        }
      ],
      "source": [
        "fig=plt.figure(figsize=(10,20))\n",
        "plt.title(\"Openess to a partner [%]\",family='Serif', weight='bold', size=15)\n",
        "ax = sns.barplot(x='score', y='CountryCode', data=g1_df_c.sort_values('score', ascending=False).reset_index())"
      ]
    },
    {
      "cell_type": "markdown",
      "metadata": {
        "id": "t2Hz5RPHxYSF"
      },
      "source": [
        "## Category G3"
      ]
    },
    {
      "cell_type": "code",
      "execution_count": 42,
      "metadata": {
        "colab": {
          "base_uri": "https://localhost:8080/"
        },
        "id": "D9EGfg0bxVTD",
        "outputId": "0906b553-e588-4dde-9bfe-5cc119a4a1d8"
      },
      "outputs": [
        {
          "output_type": "execute_result",
          "data": {
            "text/plain": [
              "(4060, 6)"
            ]
          },
          "metadata": {},
          "execution_count": 42
        }
      ],
      "source": [
        "g3_df = life_df.loc[life_df.question_code.str.contains(\"g3\")]\n",
        "g3_df.shape"
      ]
    },
    {
      "cell_type": "code",
      "execution_count": 43,
      "metadata": {
        "colab": {
          "base_uri": "https://localhost:8080/"
        },
        "id": "2KugFfkpxdtA",
        "outputId": "44cfbc2f-5da0-498e-ec3e-8b9be5d0cec4"
      },
      "outputs": [
        {
          "output_type": "execute_result",
          "data": {
            "text/plain": [
              "array(['To how many people among the following groups are you open about yourself being L, G, B or T? Family members (other than your partner(s))?',\n",
              "       'To how many people among the following groups are you open about yourself being L, G, B or T ? Friends ?',\n",
              "       'To how many people among the following groups are you open about yourself being L, G, B or T? Neighbours ?',\n",
              "       'To how many people among the following groups are you open about yourself being L, G, B or T? Work colleagues / schoolmates?',\n",
              "       'To how many people among the following groups are you open about yourself being L, G, B or T? Immediate superior/head of department',\n",
              "       'To how many people among the following groups are you open about yourself being L, G, B or T? Customers, clients, etc at work?',\n",
              "       'To how many people among the following groups are you open about yourself being L, G, B or T? Medical staff / health care providers?'],\n",
              "      dtype=object)"
            ]
          },
          "metadata": {},
          "execution_count": 43
        }
      ],
      "source": [
        "g3_df.question_label.unique()"
      ]
    },
    {
      "cell_type": "code",
      "execution_count": 44,
      "metadata": {
        "colab": {
          "base_uri": "https://localhost:8080/"
        },
        "id": "xGtCy_nFxpsk",
        "outputId": "af391c7c-68fb-462a-ad56-a0e3d7880c86"
      },
      "outputs": [
        {
          "output_type": "execute_result",
          "data": {
            "text/plain": [
              "array(['None', 'A few', 'Most', 'All'], dtype=object)"
            ]
          },
          "metadata": {},
          "execution_count": 44
        }
      ],
      "source": [
        "g3_df.answer.unique()"
      ]
    },
    {
      "cell_type": "code",
      "execution_count": 45,
      "metadata": {
        "colab": {
          "base_uri": "https://localhost:8080/"
        },
        "id": "IO8vwmqmxt9q",
        "outputId": "b5b29bb5-f7ba-4a08-d0b9-df0fc6d9d39a"
      },
      "outputs": [
        {
          "output_type": "stream",
          "name": "stderr",
          "text": [
            "<ipython-input-45-b250c1209ec5>:10: SettingWithCopyWarning: \n",
            "A value is trying to be set on a copy of a slice from a DataFrame.\n",
            "Try using .loc[row_indexer,col_indexer] = value instead\n",
            "\n",
            "See the caveats in the documentation: https://pandas.pydata.org/pandas-docs/stable/user_guide/indexing.html#returning-a-view-versus-a-copy\n",
            "  g3_df['score'] = g3_df.answer.map(scoring_g3).mul(g3_df.percentage)\n"
          ]
        }
      ],
      "source": [
        "# Define scoring for g3\n",
        "scoring_g3 = {\n",
        "            \"None\": 0,\n",
        "            \"A few\": 0.33,\n",
        "            \"Most\": 0.66,\n",
        "            \"All\": 1\n",
        "             }\n",
        "\n",
        "# Apply scoring g3\n",
        "g3_df['score'] = g3_df.answer.map(scoring_g3).mul(g3_df.percentage)\n",
        "g3_df = g3_df.drop('percentage', axis=1)"
      ]
    },
    {
      "cell_type": "code",
      "execution_count": 46,
      "metadata": {
        "colab": {
          "base_uri": "https://localhost:8080/",
          "height": 628
        },
        "id": "fXmPRadHyAu6",
        "outputId": "79c6a08b-a164-40d4-9d46-330b31233756"
      },
      "outputs": [
        {
          "output_type": "display_data",
          "data": {
            "text/plain": [
              "<Figure size 360x720 with 1 Axes>"
            ],
            "image/png": "[encoded data removed]"
          },
          "metadata": {
            "needs_background": "light"
          }
        }
      ],
      "source": [
        "fig=plt.figure(figsize=(5,10))\n",
        "plt.title(\"Openess\",family='Serif', weight='bold', size=20)\n",
        "ax = sns.barplot(x='CountryCode', y='score', hue='subset', \n",
        "                 data=g3_df.loc[g3_df.CountryCode.str.contains('Average')], ci=68, palette=colors)"
      ]
    },
    {
      "cell_type": "code",
      "execution_count": 47,
      "metadata": {
        "colab": {
          "base_uri": "https://localhost:8080/",
          "height": 143
        },
        "id": "UbNFLeAMyTRP",
        "outputId": "0ccc0634-0dfe-41aa-fd32-b5d27d05a60d"
      },
      "outputs": [
        {
          "output_type": "execute_result",
          "data": {
            "text/plain": [
              "              score\n",
              "subset             \n",
              "Bisexual men   4.31\n",
              "Gay           10.01"
            ],
            "text/html": [
              "\n",
              "  <div id=\"df-6957576f-09d3-4f03-b162-20f90edb6e6f\">\n",
              "    <div class=\"colab-df-container\">\n",
              "      <div>\n",
              "<style scoped>\n",
              "    .dataframe tbody tr th:only-of-type {\n",
              "        vertical-align: middle;\n",
              "    }\n",
              "\n",
              "    .dataframe tbody tr th {\n",
              "        vertical-align: top;\n",
              "    }\n",
              "\n",
              "    .dataframe thead th {\n",
              "        text-align: right;\n",
              "    }\n",
              "</style>\n",
              "<table border=\"1\" class=\"dataframe\">\n",
              "  <thead>\n",
              "    <tr style=\"text-align: right;\">\n",
              "      <th></th>\n",
              "      <th>score</th>\n",
              "    </tr>\n",
              "    <tr>\n",
              "      <th>subset</th>\n",
              "      <th></th>\n",
              "    </tr>\n",
              "  </thead>\n",
              "  <tbody>\n",
              "    <tr>\n",
              "      <th>Bisexual men</th>\n",
              "      <td>4.31</td>\n",
              "    </tr>\n",
              "    <tr>\n",
              "      <th>Gay</th>\n",
              "      <td>10.01</td>\n",
              "    </tr>\n",
              "  </tbody>\n",
              "</table>\n",
              "</div>\n",
              "      <button class=\"colab-df-convert\" onclick=\"convertToInteractive('df-6957576f-09d3-4f03-b162-20f90edb6e6f')\"\n",
              "              title=\"Convert this dataframe to an interactive table.\"\n",
              "              style=\"display:none;\">\n",
              "        \n",
              "  <svg xmlns=\"http://www.w3.org/2000/svg\" height=\"24px\"viewBox=\"0 0 24 24\"\n",
              "       width=\"24px\">\n",
              "    <path d=\"M0 0h24v24H0V0z\" fill=\"none\"/>\n",
              "    <path d=\"M18.56 5.44l.94 2.06.94-2.06 2.06-.94-2.06-.94-.94-2.06-.94 2.06-2.06.94zm-11 1L8.5 8.5l.94-2.06 2.06-.94-2.06-.94L8.5 2.5l-.94 2.06-2.06.94zm10 10l.94 2.06.94-2.06 2.06-.94-2.06-.94-.94-2.06-.94 2.06-2.06.94z\"/><path d=\"M17.41 7.96l-1.37-1.37c-.4-.4-.92-.59-1.43-.59-.52 0-1.04.2-1.43.59L10.3 9.45l-7.72 7.72c-.78.78-.78 2.05 0 2.83L4 21.41c.39.39.9.59 1.41.59.51 0 1.02-.2 1.41-.59l7.78-7.78 2.81-2.81c.8-.78.8-2.07 0-2.86zM5.41 20L4 18.59l7.72-7.72 1.47 1.35L5.41 20z\"/>\n",
              "  </svg>\n",
              "      </button>\n",
              "      \n",
              "  <style>\n",
              "    .colab-df-container {\n",
              "      display:flex;\n",
              "      flex-wrap:wrap;\n",
              "      gap: 12px;\n",
              "    }\n",
              "\n",
              "    .colab-df-convert {\n",
              "      background-color: #E8F0FE;\n",
              "      border: none;\n",
              "      border-radius: 50%;\n",
              "      cursor: pointer;\n",
              "      display: none;\n",
              "      fill: #1967D2;\n",
              "      height: 32px;\n",
              "      padding: 0 0 0 0;\n",
              "      width: 32px;\n",
              "    }\n",
              "\n",
              "    .colab-df-convert:hover {\n",
              "      background-color: #E2EBFA;\n",
              "      box-shadow: 0px 1px 2px rgba(60, 64, 67, 0.3), 0px 1px 3px 1px rgba(60, 64, 67, 0.15);\n",
              "      fill: #174EA6;\n",
              "    }\n",
              "\n",
              "    [theme=dark] .colab-df-convert {\n",
              "      background-color: #3B4455;\n",
              "      fill: #D2E3FC;\n",
              "    }\n",
              "\n",
              "    [theme=dark] .colab-df-convert:hover {\n",
              "      background-color: #434B5C;\n",
              "      box-shadow: 0px 1px 3px 1px rgba(0, 0, 0, 0.15);\n",
              "      filter: drop-shadow(0px 1px 2px rgba(0, 0, 0, 0.3));\n",
              "      fill: #FFFFFF;\n",
              "    }\n",
              "  </style>\n",
              "\n",
              "      <script>\n",
              "        const buttonEl =\n",
              "          document.querySelector('#df-6957576f-09d3-4f03-b162-20f90edb6e6f button.colab-df-convert');\n",
              "        buttonEl.style.display =\n",
              "          google.colab.kernel.accessAllowed ? 'block' : 'none';\n",
              "\n",
              "        async function convertToInteractive(key) {\n",
              "          const element = document.querySelector('#df-6957576f-09d3-4f03-b162-20f90edb6e6f');\n",
              "          const dataTable =\n",
              "            await google.colab.kernel.invokeFunction('convertToInteractive',\n",
              "                                                     [key], {});\n",
              "          if (!dataTable) return;\n",
              "\n",
              "          const docLinkHtml = 'Like what you see? Visit the ' +\n",
              "            '<a target=\"_blank\" href=https://colab.research.google.com/notebooks/data_table.ipynb>data table notebook</a>'\n",
              "            + ' to learn more about interactive tables.';\n",
              "          element.innerHTML = '';\n",
              "          dataTable['output_type'] = 'display_data';\n",
              "          await google.colab.output.renderOutput(dataTable, element);\n",
              "          const docLink = document.createElement('div');\n",
              "          docLink.innerHTML = docLinkHtml;\n",
              "          element.appendChild(docLink);\n",
              "        }\n",
              "      </script>\n",
              "    </div>\n",
              "  </div>\n",
              "  "
            ]
          },
          "metadata": {},
          "execution_count": 47
        }
      ],
      "source": [
        "g3_df.loc[g3_df.subset.str.contains('Gay|Bisexual men')].groupby('subset').mean().round(2)"
      ]
    },
    {
      "cell_type": "code",
      "source": [
        "res = g3_df.loc[g3_df.subset.str.contains('Bisexual men|Bisexual women')].mean() / g3_df.loc[g3_df.subset.str.contains('Gay|Lesbian')].mean()\n",
        "print(\"Bisexual people are less open about theirs sexuality by\", (res*100).round(2))"
      ],
      "metadata": {
        "colab": {
          "base_uri": "https://localhost:8080/"
        },
        "id": "xnZO6pSxoTH4",
        "outputId": "ee3de707-10bf-43fe-f582-f1edaa1f9573"
      },
      "execution_count": 48,
      "outputs": [
        {
          "output_type": "stream",
          "name": "stdout",
          "text": [
            "Bisexual people are less open about theirs sexuality by score    52.44\n",
            "dtype: float64\n"
          ]
        },
        {
          "output_type": "stream",
          "name": "stderr",
          "text": [
            "<ipython-input-48-7887bcb40349>:1: FutureWarning: Dropping of nuisance columns in DataFrame reductions (with 'numeric_only=None') is deprecated; in a future version this will raise TypeError.  Select only valid columns before calling the reduction.\n",
            "  res = g3_df.loc[g3_df.subset.str.contains('Bisexual men|Bisexual women')].mean() / g3_df.loc[g3_df.subset.str.contains('Gay|Lesbian')].mean()\n"
          ]
        }
      ]
    },
    {
      "cell_type": "code",
      "source": [
        "g3_df_c = g3_df.groupby('CountryCode').mean()\n",
        "np.std(g3_df_c)"
      ],
      "metadata": {
        "colab": {
          "base_uri": "https://localhost:8080/"
        },
        "id": "5PZ5a_NfoUuX",
        "outputId": "21358456-b8ed-4686-f57b-19edaa1d3de5"
      },
      "execution_count": 49,
      "outputs": [
        {
          "output_type": "execute_result",
          "data": {
            "text/plain": [
              "score    2.772045\n",
              "dtype: float64"
            ]
          },
          "metadata": {},
          "execution_count": 49
        }
      ]
    },
    {
      "cell_type": "code",
      "source": [
        "scaler = MinMaxScaler()\n",
        "\n",
        "g3_df_c['score_s'] = scaler.fit_transform(g3_df_c[['score']])\n",
        "fig=plt.figure(figsize=(10,20))\n",
        "plt.title(\"Openess (scaled)\",family='Serif', weight='bold', size=15)\n",
        "ax = sns.barplot(x='score_s', y='CountryCode', data=g3_df_c.sort_values('score_s', ascending=False).reset_index())"
      ],
      "metadata": {
        "colab": {
          "base_uri": "https://localhost:8080/",
          "height": 1000
        },
        "id": "-iJt4cqao576",
        "outputId": "c16a1641-45d4-4c3a-d33d-2a3492a93845"
      },
      "execution_count": 50,
      "outputs": [
        {
          "output_type": "display_data",
          "data": {
            "text/plain": [
              "<Figure size 720x1440 with 1 Axes>"
            ],
            "image/png": "[encoded data removed]"
          },
          "metadata": {
            "needs_background": "light"
          }
        }
      ]
    },
    {
      "cell_type": "markdown",
      "source": [
        "## B1 category"
      ],
      "metadata": {
        "id": "ILkGqHhfpCA4"
      }
    },
    {
      "cell_type": "code",
      "source": [
        "b1_df = life_df.loc[life_df.question_code.str.contains(\"b1\")]\n",
        "b1_df.shape"
      ],
      "metadata": {
        "colab": {
          "base_uri": "https://localhost:8080/"
        },
        "id": "5BSWtqKLo_ts",
        "outputId": "c50ed0f8-c7fa-4aed-b801-a4569f2487e1"
      },
      "execution_count": 51,
      "outputs": [
        {
          "output_type": "execute_result",
          "data": {
            "text/plain": [
              "(6525, 6)"
            ]
          },
          "metadata": {},
          "execution_count": 51
        }
      ]
    },
    {
      "cell_type": "code",
      "source": [
        "b1_df.question_label.unique()"
      ],
      "metadata": {
        "colab": {
          "base_uri": "https://localhost:8080/"
        },
        "id": "hpbIlL_ZpWDm",
        "outputId": "e5aa2e69-dc50-4b99-d4a1-4928eb531a93"
      },
      "execution_count": 52,
      "outputs": [
        {
          "output_type": "execute_result",
          "data": {
            "text/plain": [
              "array(['In your opinion, how widespread is offensive language about lesbian, gay, bisexual and/or transgender people by politicians in the country where you live?',\n",
              "       'In your opinion, how widespread are casual jokes in everyday life about lesbian, gay, bisexual and/or transgender people in the country you live?',\n",
              "       'In your opinion, how widespread are expressions of hatred and aversion towards lesbian, gay, bisexual and/or transgender in public in the country where you live?',\n",
              "       'In your opinion, how widespread are assaults and harassment against lesbian, gay, bisexual and/or transgender people in the country where you live?',\n",
              "       'In your opinion, how widespread is same-sex partners holding hands in public in the country where you live?',\n",
              "       'In your opinion, how widespread is heterosexual partners holding hands in public in the country where you live?',\n",
              "       'In your opinion, how widespread is public figures in politics, business, sports, etc being open about themselves being lesbian, gay, bisexual and/or transgender in the country where you live?',\n",
              "       'In your opinion, how widespread are positive measures to promote respect for the human rights of lesbian, gay or bisexual people in the country where you live? *',\n",
              "       'In your opinion, how widespread are positive measures to promote respect for the human rights of transgender people in the country where you live? *'],\n",
              "      dtype=object)"
            ]
          },
          "metadata": {},
          "execution_count": 52
        }
      ]
    },
    {
      "cell_type": "code",
      "source": [
        "b1_df.question_code.unique()"
      ],
      "metadata": {
        "colab": {
          "base_uri": "https://localhost:8080/"
        },
        "id": "qApcHYkIpa5W",
        "outputId": "a7a2fa1c-dce5-42bd-f4f8-0b234a2a758a"
      },
      "execution_count": 53,
      "outputs": [
        {
          "output_type": "execute_result",
          "data": {
            "text/plain": [
              "array(['b1_a', 'b1_b', 'b1_c', 'b1_d', 'b1_e', 'b1_f', 'b1_g', 'b1_h',\n",
              "       'b1_i'], dtype=object)"
            ]
          },
          "metadata": {},
          "execution_count": 53
        }
      ]
    },
    {
      "cell_type": "markdown",
      "source": [
        "Tolerance"
      ],
      "metadata": {
        "id": "XJWzYzHhpdfq"
      }
    },
    {
      "cell_type": "code",
      "source": [
        "b1_df1 = b1_df.loc[b1_df.question_code.str.contains(\"b1_a|b1_b|b1_c|b1_d\")]\n",
        "b1_df1.shape"
      ],
      "metadata": {
        "colab": {
          "base_uri": "https://localhost:8080/"
        },
        "id": "nhNyja-kpe3k",
        "outputId": "b2460dca-182b-4590-c8f3-2db5ec8d7304"
      },
      "execution_count": 54,
      "outputs": [
        {
          "output_type": "execute_result",
          "data": {
            "text/plain": [
              "(2900, 6)"
            ]
          },
          "metadata": {},
          "execution_count": 54
        }
      ]
    },
    {
      "cell_type": "code",
      "source": [
        "# Define scoring for b1_a to b1_d\n",
        "scoring_b1_df1 = {\"Very widespread\": -1,\n",
        "           \"Fairly widespread\": -0.5,\n",
        "           \"Fairly rare\": 0.5,\n",
        "           \"Very rare\": 1,\n",
        "           \"Don`t know\": 0}\n",
        "\n",
        "# Apply scoring\n",
        "b1_df1['score'] = b1_df1.answer.map(scoring_b1_df1).mul(b1_df1.percentage)\n",
        "b1_df1 = b1_df1.drop('percentage', axis=1)"
      ],
      "metadata": {
        "colab": {
          "base_uri": "https://localhost:8080/"
        },
        "id": "GbK2WAirphT8",
        "outputId": "5317f751-44d8-4abc-e4d1-19c0726cbb3c"
      },
      "execution_count": 55,
      "outputs": [
        {
          "output_type": "stream",
          "name": "stderr",
          "text": [
            "<ipython-input-55-230f8f9e1d3f>:9: SettingWithCopyWarning: \n",
            "A value is trying to be set on a copy of a slice from a DataFrame.\n",
            "Try using .loc[row_indexer,col_indexer] = value instead\n",
            "\n",
            "See the caveats in the documentation: https://pandas.pydata.org/pandas-docs/stable/user_guide/indexing.html#returning-a-view-versus-a-copy\n",
            "  b1_df1['score'] = b1_df1.answer.map(scoring_b1_df1).mul(b1_df1.percentage)\n"
          ]
        }
      ]
    },
    {
      "cell_type": "code",
      "source": [
        "# Plot the dataframe\n",
        "fig=plt.figure(figsize=(15,5))\n",
        "plt.title(\"LGBT Tolerance within EU by Subset\",family='Serif', weight='bold', size=20)\n",
        "ax = sns.boxplot(x='score', y='CountryCode', hue='subset',\n",
        "                 data=b1_df1.loc[b1_df1.CountryCode == 'Average'], palette=colors)"
      ],
      "metadata": {
        "colab": {
          "base_uri": "https://localhost:8080/",
          "height": 356
        },
        "id": "hUj_S-Mypkep",
        "outputId": "7b5c86f0-7165-4b21-b33f-9b3cc75cee27"
      },
      "execution_count": 56,
      "outputs": [
        {
          "output_type": "display_data",
          "data": {
            "text/plain": [
              "<Figure size 1080x360 with 1 Axes>"
            ],
            "image/png": "[encoded data removed]"
          },
          "metadata": {
            "needs_background": "light"
          }
        }
      ]
    },
    {
      "cell_type": "code",
      "source": [
        "# Hypothesis testing function\n",
        "from scipy.stats import ttest_ind, wilcoxon, ttest_rel\n",
        "\n",
        "def ho_test(sub1,sub2):\n",
        "    s1 = b1_df1[b1_df1['subset']==sub1]['score']\n",
        "    s2 = b1_df1[b1_df1['subset']==sub2]['score']\n",
        "    stats, p_value= ttest_ind(s1, s2)\n",
        "    \n",
        "    if p_value <0.05:\n",
        "        t2=\"p-value : {} is < 0.05, thus we can reject the Null Hypothesis\".format(np.round(p_value,3))\n",
        "    else:\n",
        "        t2=\"p-value: {} is >0.05, thus we can't reject the Null Hypothesis\".format(np.round(p_value,3))\n",
        "        \n",
        "    print(t2)"
      ],
      "metadata": {
        "id": "kPsSl-Hrp9zq"
      },
      "execution_count": 58,
      "outputs": []
    },
    {
      "cell_type": "code",
      "source": [
        "# Test the Ho\n",
        "ho_test(\"Gay\", \"Lesbian\")"
      ],
      "metadata": {
        "colab": {
          "base_uri": "https://localhost:8080/"
        },
        "id": "9_a-jiJvqCxy",
        "outputId": "14046324-5d88-4d87-bb2b-ddcf2d136e5d"
      },
      "execution_count": 59,
      "outputs": [
        {
          "output_type": "stream",
          "name": "stdout",
          "text": [
            "p-value : 0.017 is < 0.05, thus we can reject the Null Hypothesis\n"
          ]
        }
      ]
    },
    {
      "cell_type": "code",
      "source": [
        "# Test the Ho\n",
        "ho_test(\"Gay\", \"Transgender\")"
      ],
      "metadata": {
        "colab": {
          "base_uri": "https://localhost:8080/"
        },
        "id": "mb7opCTrqMVS",
        "outputId": "bb40065f-339e-47dc-ca76-68e733f4ba2f"
      },
      "execution_count": 60,
      "outputs": [
        {
          "output_type": "stream",
          "name": "stdout",
          "text": [
            "p-value : 0.002 is < 0.05, thus we can reject the Null Hypothesis\n"
          ]
        }
      ]
    },
    {
      "cell_type": "code",
      "source": [
        "b1_df1.loc[b1_df1.subset.str.contains('Gay|Lesbian')].groupby('subset').mean().round(2)"
      ],
      "metadata": {
        "colab": {
          "base_uri": "https://localhost:8080/",
          "height": 143
        },
        "id": "WQoeT-BlqQRW",
        "outputId": "93621bab-d69a-4fd1-dc79-fb4fdeaaf184"
      },
      "execution_count": 61,
      "outputs": [
        {
          "output_type": "execute_result",
          "data": {
            "text/plain": [
              "         score\n",
              "subset        \n",
              "Gay      -1.36\n",
              "Lesbian  -3.84"
            ],
            "text/html": [
              "\n",
              "  <div id=\"df-52720f5d-c089-47b4-8c56-60ec1bee926b\">\n",
              "    <div class=\"colab-df-container\">\n",
              "      <div>\n",
              "<style scoped>\n",
              "    .dataframe tbody tr th:only-of-type {\n",
              "        vertical-align: middle;\n",
              "    }\n",
              "\n",
              "    .dataframe tbody tr th {\n",
              "        vertical-align: top;\n",
              "    }\n",
              "\n",
              "    .dataframe thead th {\n",
              "        text-align: right;\n",
              "    }\n",
              "</style>\n",
              "<table border=\"1\" class=\"dataframe\">\n",
              "  <thead>\n",
              "    <tr style=\"text-align: right;\">\n",
              "      <th></th>\n",
              "      <th>score</th>\n",
              "    </tr>\n",
              "    <tr>\n",
              "      <th>subset</th>\n",
              "      <th></th>\n",
              "    </tr>\n",
              "  </thead>\n",
              "  <tbody>\n",
              "    <tr>\n",
              "      <th>Gay</th>\n",
              "      <td>-1.36</td>\n",
              "    </tr>\n",
              "    <tr>\n",
              "      <th>Lesbian</th>\n",
              "      <td>-3.84</td>\n",
              "    </tr>\n",
              "  </tbody>\n",
              "</table>\n",
              "</div>\n",
              "      <button class=\"colab-df-convert\" onclick=\"convertToInteractive('df-52720f5d-c089-47b4-8c56-60ec1bee926b')\"\n",
              "              title=\"Convert this dataframe to an interactive table.\"\n",
              "              style=\"display:none;\">\n",
              "        \n",
              "  <svg xmlns=\"http://www.w3.org/2000/svg\" height=\"24px\"viewBox=\"0 0 24 24\"\n",
              "       width=\"24px\">\n",
              "    <path d=\"M0 0h24v24H0V0z\" fill=\"none\"/>\n",
              "    <path d=\"M18.56 5.44l.94 2.06.94-2.06 2.06-.94-2.06-.94-.94-2.06-.94 2.06-2.06.94zm-11 1L8.5 8.5l.94-2.06 2.06-.94-2.06-.94L8.5 2.5l-.94 2.06-2.06.94zm10 10l.94 2.06.94-2.06 2.06-.94-2.06-.94-.94-2.06-.94 2.06-2.06.94z\"/><path d=\"M17.41 7.96l-1.37-1.37c-.4-.4-.92-.59-1.43-.59-.52 0-1.04.2-1.43.59L10.3 9.45l-7.72 7.72c-.78.78-.78 2.05 0 2.83L4 21.41c.39.39.9.59 1.41.59.51 0 1.02-.2 1.41-.59l7.78-7.78 2.81-2.81c.8-.78.8-2.07 0-2.86zM5.41 20L4 18.59l7.72-7.72 1.47 1.35L5.41 20z\"/>\n",
              "  </svg>\n",
              "      </button>\n",
              "      \n",
              "  <style>\n",
              "    .colab-df-container {\n",
              "      display:flex;\n",
              "      flex-wrap:wrap;\n",
              "      gap: 12px;\n",
              "    }\n",
              "\n",
              "    .colab-df-convert {\n",
              "      background-color: #E8F0FE;\n",
              "      border: none;\n",
              "      border-radius: 50%;\n",
              "      cursor: pointer;\n",
              "      display: none;\n",
              "      fill: #1967D2;\n",
              "      height: 32px;\n",
              "      padding: 0 0 0 0;\n",
              "      width: 32px;\n",
              "    }\n",
              "\n",
              "    .colab-df-convert:hover {\n",
              "      background-color: #E2EBFA;\n",
              "      box-shadow: 0px 1px 2px rgba(60, 64, 67, 0.3), 0px 1px 3px 1px rgba(60, 64, 67, 0.15);\n",
              "      fill: #174EA6;\n",
              "    }\n",
              "\n",
              "    [theme=dark] .colab-df-convert {\n",
              "      background-color: #3B4455;\n",
              "      fill: #D2E3FC;\n",
              "    }\n",
              "\n",
              "    [theme=dark] .colab-df-convert:hover {\n",
              "      background-color: #434B5C;\n",
              "      box-shadow: 0px 1px 3px 1px rgba(0, 0, 0, 0.15);\n",
              "      filter: drop-shadow(0px 1px 2px rgba(0, 0, 0, 0.3));\n",
              "      fill: #FFFFFF;\n",
              "    }\n",
              "  </style>\n",
              "\n",
              "      <script>\n",
              "        const buttonEl =\n",
              "          document.querySelector('#df-52720f5d-c089-47b4-8c56-60ec1bee926b button.colab-df-convert');\n",
              "        buttonEl.style.display =\n",
              "          google.colab.kernel.accessAllowed ? 'block' : 'none';\n",
              "\n",
              "        async function convertToInteractive(key) {\n",
              "          const element = document.querySelector('#df-52720f5d-c089-47b4-8c56-60ec1bee926b');\n",
              "          const dataTable =\n",
              "            await google.colab.kernel.invokeFunction('convertToInteractive',\n",
              "                                                     [key], {});\n",
              "          if (!dataTable) return;\n",
              "\n",
              "          const docLinkHtml = 'Like what you see? Visit the ' +\n",
              "            '<a target=\"_blank\" href=https://colab.research.google.com/notebooks/data_table.ipynb>data table notebook</a>'\n",
              "            + ' to learn more about interactive tables.';\n",
              "          element.innerHTML = '';\n",
              "          dataTable['output_type'] = 'display_data';\n",
              "          await google.colab.output.renderOutput(dataTable, element);\n",
              "          const docLink = document.createElement('div');\n",
              "          docLink.innerHTML = docLinkHtml;\n",
              "          element.appendChild(docLink);\n",
              "        }\n",
              "      </script>\n",
              "    </div>\n",
              "  </div>\n",
              "  "
            ]
          },
          "metadata": {},
          "execution_count": 61
        }
      ]
    },
    {
      "cell_type": "code",
      "source": [
        "b1_df1_c = b1_df1.groupby('CountryCode').mean()\n",
        "b1_df1_c['score_s'] = scaler.fit_transform(b1_df1_c[['score']])\n",
        "fig=plt.figure(figsize=(10,15))\n",
        "plt.title(\"Tolerance\",family='Serif', weight='bold', size=20)\n",
        "ax = sns.barplot(x='score', y='CountryCode', data=b1_df1_c.sort_values('score', ascending=False).reset_index())"
      ],
      "metadata": {
        "colab": {
          "base_uri": "https://localhost:8080/",
          "height": 899
        },
        "id": "zOCY8hoDqWhP",
        "outputId": "234f6397-e3ed-4068-d9d2-0d262a1d9b54"
      },
      "execution_count": 62,
      "outputs": [
        {
          "output_type": "display_data",
          "data": {
            "text/plain": [
              "<Figure size 720x1080 with 1 Axes>"
            ],
            "image/png": "[encoded data removed]"
          },
          "metadata": {
            "needs_background": "light"
          }
        }
      ]
    },
    {
      "cell_type": "code",
      "source": [
        "fig=plt.figure(figsize=(10,20))\n",
        "plt.title(\"Tolerance (scaled)\",family='Serif', weight='bold', size=20)\n",
        "ax = sns.barplot(x='score_s', y='CountryCode', data=b1_df1_c.sort_values('score', ascending=False).reset_index())"
      ],
      "metadata": {
        "colab": {
          "base_uri": "https://localhost:8080/",
          "height": 1000
        },
        "id": "rYtNPXgvsAI8",
        "outputId": "bbf214ab-25a8-4f04-cbc4-99c53751f46e"
      },
      "execution_count": 63,
      "outputs": [
        {
          "output_type": "display_data",
          "data": {
            "text/plain": [
              "<Figure size 720x1440 with 1 Axes>"
            ],
            "image/png": "[encoded data removed]"
          },
          "metadata": {
            "needs_background": "light"
          }
        }
      ]
    },
    {
      "cell_type": "markdown",
      "source": [
        "Holding hands"
      ],
      "metadata": {
        "id": "ltf34iIYsLAz"
      }
    },
    {
      "cell_type": "code",
      "source": [
        "b1_df2 = b1_df.loc[b1_df.question_code.str.contains(\"b1_e|b1_f\")]\n",
        "b1_df2.shape"
      ],
      "metadata": {
        "colab": {
          "base_uri": "https://localhost:8080/"
        },
        "id": "rr8HzZ5XsJto",
        "outputId": "47d1d82d-146b-4f3f-f68a-66d331d0568c"
      },
      "execution_count": 64,
      "outputs": [
        {
          "output_type": "execute_result",
          "data": {
            "text/plain": [
              "(1450, 6)"
            ]
          },
          "metadata": {},
          "execution_count": 64
        }
      ]
    },
    {
      "cell_type": "code",
      "source": [
        "b1_df2.question_label.unique()"
      ],
      "metadata": {
        "colab": {
          "base_uri": "https://localhost:8080/"
        },
        "id": "GnP53obCsTFX",
        "outputId": "6763b826-7e12-4d81-af7e-4cb6b3acfe5d"
      },
      "execution_count": 65,
      "outputs": [
        {
          "output_type": "execute_result",
          "data": {
            "text/plain": [
              "array(['In your opinion, how widespread is same-sex partners holding hands in public in the country where you live?',\n",
              "       'In your opinion, how widespread is heterosexual partners holding hands in public in the country where you live?'],\n",
              "      dtype=object)"
            ]
          },
          "metadata": {},
          "execution_count": 65
        }
      ]
    },
    {
      "cell_type": "code",
      "source": [
        "b1_df2.question_code = b1_df2.question_code.replace('b1_e', 'same-sex')\n",
        "b1_df2.question_code = b1_df2.question_code.replace('b1_f', 'heterosexual')"
      ],
      "metadata": {
        "colab": {
          "base_uri": "https://localhost:8080/"
        },
        "id": "vK4dxaZLsZAc",
        "outputId": "2d167e51-e0e2-4f8d-da2c-2c8d7958a7b3"
      },
      "execution_count": 66,
      "outputs": [
        {
          "output_type": "stream",
          "name": "stderr",
          "text": [
            "/usr/local/lib/python3.8/dist-packages/pandas/core/generic.py:5516: SettingWithCopyWarning: \n",
            "A value is trying to be set on a copy of a slice from a DataFrame.\n",
            "Try using .loc[row_indexer,col_indexer] = value instead\n",
            "\n",
            "See the caveats in the documentation: https://pandas.pydata.org/pandas-docs/stable/user_guide/indexing.html#returning-a-view-versus-a-copy\n",
            "  self[name] = value\n"
          ]
        }
      ]
    },
    {
      "cell_type": "code",
      "source": [
        "# Define scoring for b1_a to b1_d\n",
        "scoring_b1_df2 = {\"Very widespread\": 1,\n",
        "           \"Fairly widespread\": 0.75,\n",
        "           \"Fairly rare\": 0.5,\n",
        "           \"Very rare\": 0.25,\n",
        "           \"Don`t know\": 0}\n",
        "\n",
        "# Apply scoring\n",
        "b1_df2['score'] = b1_df2.answer.map(scoring_b1_df2).mul(b1_df2.percentage)\n",
        "b1_df2 = b1_df2.drop('percentage', axis=1)"
      ],
      "metadata": {
        "colab": {
          "base_uri": "https://localhost:8080/"
        },
        "id": "6IW3z3xmscvH",
        "outputId": "4f0b1c16-b932-41e4-a73f-07683a6a6f34"
      },
      "execution_count": 68,
      "outputs": [
        {
          "output_type": "stream",
          "name": "stderr",
          "text": [
            "<ipython-input-68-b7df8717c141>:9: SettingWithCopyWarning: \n",
            "A value is trying to be set on a copy of a slice from a DataFrame.\n",
            "Try using .loc[row_indexer,col_indexer] = value instead\n",
            "\n",
            "See the caveats in the documentation: https://pandas.pydata.org/pandas-docs/stable/user_guide/indexing.html#returning-a-view-versus-a-copy\n",
            "  b1_df2['score'] = b1_df2.answer.map(scoring_b1_df2).mul(b1_df2.percentage)\n"
          ]
        }
      ]
    },
    {
      "cell_type": "code",
      "source": [
        "fig, axes = plt.subplots(1, 2, sharex=True, figsize=(10,10))\n",
        "fig.suptitle('Holding hands', family='Serif', weight='bold', size=15)\n",
        "axes[0].set_title('Holding Hands (very widespread)')\n",
        "axes[1].set_title('Holding Hands (average)')\n",
        "ax0 = sns.barplot(ax=axes[0], x='question_code', y='score', data=b1_df2.loc[b1_df2.answer == 'Very widespread'])\n",
        "ax1 = sns.barplot(ax=axes[1], x='question_code', y='score', data=b1_df2)"
      ],
      "metadata": {
        "colab": {
          "base_uri": "https://localhost:8080/",
          "height": 678
        },
        "id": "B8OdMSQOspbL",
        "outputId": "e73bff21-f5b2-4e00-f8ca-7b30625dbfce"
      },
      "execution_count": 69,
      "outputs": [
        {
          "output_type": "display_data",
          "data": {
            "text/plain": [
              "<Figure size 720x720 with 2 Axes>"
            ],
            "image/png": "[encoded data removed]"
          },
          "metadata": {
            "needs_background": "light"
          }
        }
      ]
    },
    {
      "cell_type": "code",
      "source": [
        "ss = b1_df2['score'].loc[(b1_df2.answer == 'Very widespread') & (b1_df2.question_code == 'same-sex')].mean()/(2)\n",
        "ds = b1_df2['score'].loc[(b1_df2.answer == 'Very widespread') & (b1_df2.question_code == 'heterosexual')].mean()/(2)\n",
        "print(\"same-sex (very widespread) [%]:\", round(ss, 3))\n",
        "print(\"different-sex (very widespread) [%]:\", round(ds, 3))\n",
        "print(\"difference in respect to same-sex [ratio]:\", round(ss/ds, 3))"
      ],
      "metadata": {
        "colab": {
          "base_uri": "https://localhost:8080/"
        },
        "id": "4CzIRS-OtYAB",
        "outputId": "9bcbc719-b081-43d2-980d-dd836722d078"
      },
      "execution_count": 70,
      "outputs": [
        {
          "output_type": "stream",
          "name": "stdout",
          "text": [
            "same-sex (very widespread) [%]: 1.41\n",
            "different-sex (very widespread) [%]: 35.224\n",
            "difference in respect to same-sex [ratio]: 0.04\n"
          ]
        }
      ]
    },
    {
      "cell_type": "code",
      "source": [
        "df2_p = pd.pivot_table(b1_df2.loc[(b1_df2.answer == 'Very widespread')], values='score', index=['CountryCode'], columns='question_code', aggfunc='mean')\n",
        "df2_p['ratio'] = (df2_p['same-sex'] / df2_p['heterosexual']).round(3)\n",
        "df2_p = df2_p.drop(['heterosexual', 'same-sex'], axis=1)\n",
        "df2_p.sort_values('ratio').tail()"
      ],
      "metadata": {
        "colab": {
          "base_uri": "https://localhost:8080/",
          "height": 238
        },
        "id": "ZFBmcvLfta6N",
        "outputId": "6346b5cf-9729-4ec6-d370-38b655ac1d3e"
      },
      "execution_count": 71,
      "outputs": [
        {
          "output_type": "execute_result",
          "data": {
            "text/plain": [
              "question_code   ratio\n",
              "CountryCode          \n",
              "Denmark         0.068\n",
              "United Kingdom  0.072\n",
              "Netherlands     0.093\n",
              "Belgium         0.096\n",
              "Spain           0.118"
            ],
            "text/html": [
              "\n",
              "  <div id=\"df-2a6aed54-87e3-4be6-809c-3ab7099e1c16\">\n",
              "    <div class=\"colab-df-container\">\n",
              "      <div>\n",
              "<style scoped>\n",
              "    .dataframe tbody tr th:only-of-type {\n",
              "        vertical-align: middle;\n",
              "    }\n",
              "\n",
              "    .dataframe tbody tr th {\n",
              "        vertical-align: top;\n",
              "    }\n",
              "\n",
              "    .dataframe thead th {\n",
              "        text-align: right;\n",
              "    }\n",
              "</style>\n",
              "<table border=\"1\" class=\"dataframe\">\n",
              "  <thead>\n",
              "    <tr style=\"text-align: right;\">\n",
              "      <th>question_code</th>\n",
              "      <th>ratio</th>\n",
              "    </tr>\n",
              "    <tr>\n",
              "      <th>CountryCode</th>\n",
              "      <th></th>\n",
              "    </tr>\n",
              "  </thead>\n",
              "  <tbody>\n",
              "    <tr>\n",
              "      <th>Denmark</th>\n",
              "      <td>0.068</td>\n",
              "    </tr>\n",
              "    <tr>\n",
              "      <th>United Kingdom</th>\n",
              "      <td>0.072</td>\n",
              "    </tr>\n",
              "    <tr>\n",
              "      <th>Netherlands</th>\n",
              "      <td>0.093</td>\n",
              "    </tr>\n",
              "    <tr>\n",
              "      <th>Belgium</th>\n",
              "      <td>0.096</td>\n",
              "    </tr>\n",
              "    <tr>\n",
              "      <th>Spain</th>\n",
              "      <td>0.118</td>\n",
              "    </tr>\n",
              "  </tbody>\n",
              "</table>\n",
              "</div>\n",
              "      <button class=\"colab-df-convert\" onclick=\"convertToInteractive('df-2a6aed54-87e3-4be6-809c-3ab7099e1c16')\"\n",
              "              title=\"Convert this dataframe to an interactive table.\"\n",
              "              style=\"display:none;\">\n",
              "        \n",
              "  <svg xmlns=\"http://www.w3.org/2000/svg\" height=\"24px\"viewBox=\"0 0 24 24\"\n",
              "       width=\"24px\">\n",
              "    <path d=\"M0 0h24v24H0V0z\" fill=\"none\"/>\n",
              "    <path d=\"M18.56 5.44l.94 2.06.94-2.06 2.06-.94-2.06-.94-.94-2.06-.94 2.06-2.06.94zm-11 1L8.5 8.5l.94-2.06 2.06-.94-2.06-.94L8.5 2.5l-.94 2.06-2.06.94zm10 10l.94 2.06.94-2.06 2.06-.94-2.06-.94-.94-2.06-.94 2.06-2.06.94z\"/><path d=\"M17.41 7.96l-1.37-1.37c-.4-.4-.92-.59-1.43-.59-.52 0-1.04.2-1.43.59L10.3 9.45l-7.72 7.72c-.78.78-.78 2.05 0 2.83L4 21.41c.39.39.9.59 1.41.59.51 0 1.02-.2 1.41-.59l7.78-7.78 2.81-2.81c.8-.78.8-2.07 0-2.86zM5.41 20L4 18.59l7.72-7.72 1.47 1.35L5.41 20z\"/>\n",
              "  </svg>\n",
              "      </button>\n",
              "      \n",
              "  <style>\n",
              "    .colab-df-container {\n",
              "      display:flex;\n",
              "      flex-wrap:wrap;\n",
              "      gap: 12px;\n",
              "    }\n",
              "\n",
              "    .colab-df-convert {\n",
              "      background-color: #E8F0FE;\n",
              "      border: none;\n",
              "      border-radius: 50%;\n",
              "      cursor: pointer;\n",
              "      display: none;\n",
              "      fill: #1967D2;\n",
              "      height: 32px;\n",
              "      padding: 0 0 0 0;\n",
              "      width: 32px;\n",
              "    }\n",
              "\n",
              "    .colab-df-convert:hover {\n",
              "      background-color: #E2EBFA;\n",
              "      box-shadow: 0px 1px 2px rgba(60, 64, 67, 0.3), 0px 1px 3px 1px rgba(60, 64, 67, 0.15);\n",
              "      fill: #174EA6;\n",
              "    }\n",
              "\n",
              "    [theme=dark] .colab-df-convert {\n",
              "      background-color: #3B4455;\n",
              "      fill: #D2E3FC;\n",
              "    }\n",
              "\n",
              "    [theme=dark] .colab-df-convert:hover {\n",
              "      background-color: #434B5C;\n",
              "      box-shadow: 0px 1px 3px 1px rgba(0, 0, 0, 0.15);\n",
              "      filter: drop-shadow(0px 1px 2px rgba(0, 0, 0, 0.3));\n",
              "      fill: #FFFFFF;\n",
              "    }\n",
              "  </style>\n",
              "\n",
              "      <script>\n",
              "        const buttonEl =\n",
              "          document.querySelector('#df-2a6aed54-87e3-4be6-809c-3ab7099e1c16 button.colab-df-convert');\n",
              "        buttonEl.style.display =\n",
              "          google.colab.kernel.accessAllowed ? 'block' : 'none';\n",
              "\n",
              "        async function convertToInteractive(key) {\n",
              "          const element = document.querySelector('#df-2a6aed54-87e3-4be6-809c-3ab7099e1c16');\n",
              "          const dataTable =\n",
              "            await google.colab.kernel.invokeFunction('convertToInteractive',\n",
              "                                                     [key], {});\n",
              "          if (!dataTable) return;\n",
              "\n",
              "          const docLinkHtml = 'Like what you see? Visit the ' +\n",
              "            '<a target=\"_blank\" href=https://colab.research.google.com/notebooks/data_table.ipynb>data table notebook</a>'\n",
              "            + ' to learn more about interactive tables.';\n",
              "          element.innerHTML = '';\n",
              "          dataTable['output_type'] = 'display_data';\n",
              "          await google.colab.output.renderOutput(dataTable, element);\n",
              "          const docLink = document.createElement('div');\n",
              "          docLink.innerHTML = docLinkHtml;\n",
              "          element.appendChild(docLink);\n",
              "        }\n",
              "      </script>\n",
              "    </div>\n",
              "  </div>\n",
              "  "
            ]
          },
          "metadata": {},
          "execution_count": 71
        }
      ]
    },
    {
      "cell_type": "code",
      "source": [
        "df2_p['ratio_s'] = scaler.fit_transform(df2_p[['ratio']])\n",
        "fig=plt.figure(figsize=(10,20))\n",
        "plt.title(\"Holding hands (scaled)\",family='Serif', weight='bold', size=20)\n",
        "ax = sns.barplot(x='ratio_s', y='CountryCode', data=df2_p.sort_values('ratio_s', ascending=False).reset_index())"
      ],
      "metadata": {
        "colab": {
          "base_uri": "https://localhost:8080/",
          "height": 1000
        },
        "id": "4fmIiWQMtcSi",
        "outputId": "0c748382-aa24-4590-870f-3de68451cef5"
      },
      "execution_count": 72,
      "outputs": [
        {
          "output_type": "display_data",
          "data": {
            "text/plain": [
              "<Figure size 720x1440 with 1 Axes>"
            ],
            "image/png": "[encoded data removed]"
          },
          "metadata": {
            "needs_background": "light"
          }
        }
      ]
    },
    {
      "cell_type": "code",
      "source": [
        "# Plot the dataframe\n",
        "fig=plt.figure(figsize=(15,5))\n",
        "plt.title(\"Overall score by question in B1 category\",family='Serif', weight='bold', size=20)\n",
        "ax = sns.boxplot(x='score', y='CountryCode', hue='question_code',\n",
        "                 data=b1_df1.loc[b1_df1.CountryCode == 'Average'], palette=colors)"
      ],
      "metadata": {
        "colab": {
          "base_uri": "https://localhost:8080/",
          "height": 356
        },
        "id": "4FLNUpRzwvJ2",
        "outputId": "01afc644-4db8-4a62-da95-a26735546180"
      },
      "execution_count": 73,
      "outputs": [
        {
          "output_type": "display_data",
          "data": {
            "text/plain": [
              "<Figure size 1080x360 with 1 Axes>"
            ],
            "image/png": "[encoded data removed]"
          },
          "metadata": {
            "needs_background": "light"
          }
        }
      ]
    },
    {
      "cell_type": "code",
      "source": [
        "b1_df1['question_label'].loc[b1_df1.question_code == 'b1_b'].unique()  # Show more problematic question"
      ],
      "metadata": {
        "colab": {
          "base_uri": "https://localhost:8080/"
        },
        "id": "tLagj8sgw91J",
        "outputId": "5d67279c-f884-415f-bd71-70571699c01c"
      },
      "execution_count": 75,
      "outputs": [
        {
          "output_type": "execute_result",
          "data": {
            "text/plain": [
              "array(['In your opinion, how widespread are casual jokes in everyday life about lesbian, gay, bisexual and/or transgender people in the country you live?'],\n",
              "      dtype=object)"
            ]
          },
          "metadata": {},
          "execution_count": 75
        }
      ]
    },
    {
      "cell_type": "code",
      "source": [
        "fig=plt.figure(figsize=(15,5))\n",
        "plt.title(\"Overall score by question (B1 category)\", family='Serif', weight='bold', size=20)\n",
        "sns.kdeplot(b1_df1['score'], fill=True, hue=b1_df1['question_code'], color=colors, shade=True, linewidth=2, edgecolor='white', multiple='layer')\n",
        "plt.axvline(b1_df1['score'].mean(), c='black',ls='--')\n",
        "plt.text(x=b1_df1['score'].mean(), y=-0.01, s='mean', size=10)\n",
        "for s in ['left','right','top','bottom']:\n",
        "    plt.gca().spines[s].set_visible(False)"
      ],
      "metadata": {
        "colab": {
          "base_uri": "https://localhost:8080/",
          "height": 579
        },
        "id": "O3S_EsPixCle",
        "outputId": "147ec345-ac9d-403b-e71d-e0e448ac67d3"
      },
      "execution_count": 76,
      "outputs": [
        {
          "output_type": "display_data",
          "data": {
            "text/plain": [
              "<Figure size 1080x360 with 1 Axes>"
            ],
            "image/png": "[encoded data removed]"
          },
          "metadata": {
            "needs_background": "light"
          }
        }
      ]
    },
    {
      "cell_type": "code",
      "source": [
        "# Average acceptance for all subsets\n",
        "df1_p = pd.pivot_table(b1_df1, values='score', index='CountryCode', aggfunc='mean')\n",
        "\n",
        "print('Shape of the pivot table: ', df1_p.shape)\n",
        "df1_p.head()"
      ],
      "metadata": {
        "colab": {
          "base_uri": "https://localhost:8080/",
          "height": 255
        },
        "id": "OXFc8vZ1xGTw",
        "outputId": "cbd85a17-6856-46b9-988d-173a8fea4b6c"
      },
      "execution_count": 77,
      "outputs": [
        {
          "output_type": "stream",
          "name": "stdout",
          "text": [
            "Shape of the pivot table:  (29, 1)\n"
          ]
        },
        {
          "output_type": "execute_result",
          "data": {
            "text/plain": [
              "              score\n",
              "CountryCode        \n",
              "Austria       0.420\n",
              "Average      -2.810\n",
              "Belgium       2.480\n",
              "Bulgaria     -9.970\n",
              "Croatia     -10.305"
            ],
            "text/html": [
              "\n",
              "  <div id=\"df-cf10198b-4f12-45d3-a14d-b31906c91bac\">\n",
              "    <div class=\"colab-df-container\">\n",
              "      <div>\n",
              "<style scoped>\n",
              "    .dataframe tbody tr th:only-of-type {\n",
              "        vertical-align: middle;\n",
              "    }\n",
              "\n",
              "    .dataframe tbody tr th {\n",
              "        vertical-align: top;\n",
              "    }\n",
              "\n",
              "    .dataframe thead th {\n",
              "        text-align: right;\n",
              "    }\n",
              "</style>\n",
              "<table border=\"1\" class=\"dataframe\">\n",
              "  <thead>\n",
              "    <tr style=\"text-align: right;\">\n",
              "      <th></th>\n",
              "      <th>score</th>\n",
              "    </tr>\n",
              "    <tr>\n",
              "      <th>CountryCode</th>\n",
              "      <th></th>\n",
              "    </tr>\n",
              "  </thead>\n",
              "  <tbody>\n",
              "    <tr>\n",
              "      <th>Austria</th>\n",
              "      <td>0.420</td>\n",
              "    </tr>\n",
              "    <tr>\n",
              "      <th>Average</th>\n",
              "      <td>-2.810</td>\n",
              "    </tr>\n",
              "    <tr>\n",
              "      <th>Belgium</th>\n",
              "      <td>2.480</td>\n",
              "    </tr>\n",
              "    <tr>\n",
              "      <th>Bulgaria</th>\n",
              "      <td>-9.970</td>\n",
              "    </tr>\n",
              "    <tr>\n",
              "      <th>Croatia</th>\n",
              "      <td>-10.305</td>\n",
              "    </tr>\n",
              "  </tbody>\n",
              "</table>\n",
              "</div>\n",
              "      <button class=\"colab-df-convert\" onclick=\"convertToInteractive('df-cf10198b-4f12-45d3-a14d-b31906c91bac')\"\n",
              "              title=\"Convert this dataframe to an interactive table.\"\n",
              "              style=\"display:none;\">\n",
              "        \n",
              "  <svg xmlns=\"http://www.w3.org/2000/svg\" height=\"24px\"viewBox=\"0 0 24 24\"\n",
              "       width=\"24px\">\n",
              "    <path d=\"M0 0h24v24H0V0z\" fill=\"none\"/>\n",
              "    <path d=\"M18.56 5.44l.94 2.06.94-2.06 2.06-.94-2.06-.94-.94-2.06-.94 2.06-2.06.94zm-11 1L8.5 8.5l.94-2.06 2.06-.94-2.06-.94L8.5 2.5l-.94 2.06-2.06.94zm10 10l.94 2.06.94-2.06 2.06-.94-2.06-.94-.94-2.06-.94 2.06-2.06.94z\"/><path d=\"M17.41 7.96l-1.37-1.37c-.4-.4-.92-.59-1.43-.59-.52 0-1.04.2-1.43.59L10.3 9.45l-7.72 7.72c-.78.78-.78 2.05 0 2.83L4 21.41c.39.39.9.59 1.41.59.51 0 1.02-.2 1.41-.59l7.78-7.78 2.81-2.81c.8-.78.8-2.07 0-2.86zM5.41 20L4 18.59l7.72-7.72 1.47 1.35L5.41 20z\"/>\n",
              "  </svg>\n",
              "      </button>\n",
              "      \n",
              "  <style>\n",
              "    .colab-df-container {\n",
              "      display:flex;\n",
              "      flex-wrap:wrap;\n",
              "      gap: 12px;\n",
              "    }\n",
              "\n",
              "    .colab-df-convert {\n",
              "      background-color: #E8F0FE;\n",
              "      border: none;\n",
              "      border-radius: 50%;\n",
              "      cursor: pointer;\n",
              "      display: none;\n",
              "      fill: #1967D2;\n",
              "      height: 32px;\n",
              "      padding: 0 0 0 0;\n",
              "      width: 32px;\n",
              "    }\n",
              "\n",
              "    .colab-df-convert:hover {\n",
              "      background-color: #E2EBFA;\n",
              "      box-shadow: 0px 1px 2px rgba(60, 64, 67, 0.3), 0px 1px 3px 1px rgba(60, 64, 67, 0.15);\n",
              "      fill: #174EA6;\n",
              "    }\n",
              "\n",
              "    [theme=dark] .colab-df-convert {\n",
              "      background-color: #3B4455;\n",
              "      fill: #D2E3FC;\n",
              "    }\n",
              "\n",
              "    [theme=dark] .colab-df-convert:hover {\n",
              "      background-color: #434B5C;\n",
              "      box-shadow: 0px 1px 3px 1px rgba(0, 0, 0, 0.15);\n",
              "      filter: drop-shadow(0px 1px 2px rgba(0, 0, 0, 0.3));\n",
              "      fill: #FFFFFF;\n",
              "    }\n",
              "  </style>\n",
              "\n",
              "      <script>\n",
              "        const buttonEl =\n",
              "          document.querySelector('#df-cf10198b-4f12-45d3-a14d-b31906c91bac button.colab-df-convert');\n",
              "        buttonEl.style.display =\n",
              "          google.colab.kernel.accessAllowed ? 'block' : 'none';\n",
              "\n",
              "        async function convertToInteractive(key) {\n",
              "          const element = document.querySelector('#df-cf10198b-4f12-45d3-a14d-b31906c91bac');\n",
              "          const dataTable =\n",
              "            await google.colab.kernel.invokeFunction('convertToInteractive',\n",
              "                                                     [key], {});\n",
              "          if (!dataTable) return;\n",
              "\n",
              "          const docLinkHtml = 'Like what you see? Visit the ' +\n",
              "            '<a target=\"_blank\" href=https://colab.research.google.com/notebooks/data_table.ipynb>data table notebook</a>'\n",
              "            + ' to learn more about interactive tables.';\n",
              "          element.innerHTML = '';\n",
              "          dataTable['output_type'] = 'display_data';\n",
              "          await google.colab.output.renderOutput(dataTable, element);\n",
              "          const docLink = document.createElement('div');\n",
              "          docLink.innerHTML = docLinkHtml;\n",
              "          element.appendChild(docLink);\n",
              "        }\n",
              "      </script>\n",
              "    </div>\n",
              "  </div>\n",
              "  "
            ]
          },
          "metadata": {},
          "execution_count": 77
        }
      ]
    },
    {
      "cell_type": "code",
      "source": [
        "# Calculate acceptance score\n",
        "df1_p['score_s'] = scaler.fit_transform(df1_p[['score']])"
      ],
      "metadata": {
        "id": "ekj33JC7xNpC"
      },
      "execution_count": 78,
      "outputs": []
    },
    {
      "cell_type": "code",
      "source": [
        "plt.figure(figsize=(15,10))\n",
        "\n",
        "ax = sns.barplot(x=df1_p.score, y=df1_p.index, order=df1_p.sort_values('score', ascending=False).index)\n",
        "\n",
        "plt.xlabel(\"Rainbow Score\", size=15)\n",
        "plt.ylabel(\"Country\", size=15)\n",
        "plt.title(\"LGBT Tolerance within EU\", size=18)\n",
        "plt.tight_layout()\n",
        "plt.savefig(\"Acceptance_lgbt_eu_RainbowScore.png\", dpi=100)"
      ],
      "metadata": {
        "colab": {
          "base_uri": "https://localhost:8080/",
          "height": 729
        },
        "id": "uRNwIIrFxPZC",
        "outputId": "c7f2f9be-2e4a-4fbf-8fb7-d560135ac1b3"
      },
      "execution_count": 79,
      "outputs": [
        {
          "output_type": "display_data",
          "data": {
            "text/plain": [
              "<Figure size 1080x720 with 1 Axes>"
            ],
            "image/png": "[encoded data removed]"
          },
          "metadata": {
            "needs_background": "light"
          }
        }
      ]
    },
    {
      "cell_type": "markdown",
      "source": [
        "Rainbow Score is a numerical representation of how lgbt responders subjectively view behaviour towards them."
      ],
      "metadata": {
        "id": "dpl2P9duxbfO"
      }
    },
    {
      "cell_type": "code",
      "source": [
        "plt.figure(figsize=(15,10))\n",
        "\n",
        "ax = sns.barplot(x=df1_p.score_s, y=df1_p.index, order=df1_p.sort_values('score_s', ascending=False).index)\n",
        "\n",
        "plt.xlabel(\"Relative Score\", size=15)\n",
        "plt.ylabel(\"Country\", size=15)\n",
        "plt.title(\"LGBT Acceptance within EU\", size=18)\n",
        "plt.tight_layout()\n",
        "plt.savefig(\"Acceptance_lgbt_eu_RelativeScore.png\", dpi=100)"
      ],
      "metadata": {
        "colab": {
          "base_uri": "https://localhost:8080/",
          "height": 729
        },
        "id": "Xamr0aHRxdIB",
        "outputId": "e3488a74-6546-4f72-bf63-022789d0889d"
      },
      "execution_count": 80,
      "outputs": [
        {
          "output_type": "display_data",
          "data": {
            "text/plain": [
              "<Figure size 1080x720 with 1 Axes>"
            ],
            "image/png": "[encoded data removed]"
          },
          "metadata": {
            "needs_background": "light"
          }
        }
      ]
    },
    {
      "cell_type": "markdown",
      "source": [
        "Relative Score is a numerical representation of how accepting invidual countries seem within EU, based on the questionary."
      ],
      "metadata": {
        "id": "YuqG9577xnD4"
      }
    },
    {
      "cell_type": "code",
      "source": [
        "# Plot the dataframe\n",
        "fig=plt.figure(figsize=(15,5))\n",
        "plt.title(\"Overall score by question\",family='Serif', weight='bold', size=20)\n",
        "ax = sns.boxplot(x='score', y='CountryCode', hue='question_code',\n",
        "                 data=b1_df1.loc[b1_df1.CountryCode == 'Czech Republic'], palette=colors)"
      ],
      "metadata": {
        "colab": {
          "base_uri": "https://localhost:8080/",
          "height": 356
        },
        "id": "GdesX6Vcxqr7",
        "outputId": "cac5805a-b60e-4281-d082-1090f60da23e"
      },
      "execution_count": 81,
      "outputs": [
        {
          "output_type": "display_data",
          "data": {
            "text/plain": [
              "<Figure size 1080x360 with 1 Axes>"
            ],
            "image/png": "[encoded data removed]"
          },
          "metadata": {
            "needs_background": "light"
          }
        }
      ]
    }
  ],
  "metadata": {
    "colab": {
      "provenance": [],
      "include_colab_link": true
    },
    "kernelspec": {
      "display_name": "env",
      "language": "python",
      "name": "python3"
    },
    "language_info": {
      "codemirror_mode": {
        "name": "ipython",
        "version": 3
      },
      "file_extension": ".py",
      "mimetype": "text/x-python",
      "name": "python",
      "nbconvert_exporter": "python",
      "pygments_lexer": "ipython3",
      "version": "3.11.1"
    },
    "orig_nbformat": 4,
    "vscode": {
      "interpreter": {
        "hash": "7b2ee9b949dda8457f98bf909cd2e0e769552971eecca2c51ae048ca552305da"
      }
    }
  },
  "nbformat": 4,
  "nbformat_minor": 0
}