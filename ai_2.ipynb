{
  "nbformat": 4,
  "nbformat_minor": 0,
  "metadata": {
    "colab": {
      "provenance": [],
      "authorship_tag": "ABX9TyMhVzfOGtyy2AkGBe1CdHHC",
      "include_colab_link": true
    },
    "kernelspec": {
      "name": "python3",
      "display_name": "Python 3"
    },
    "language_info": {
      "name": "python"
    }
  },
  "cells": [
    {
      "cell_type": "markdown",
      "metadata": {
        "id": "view-in-github",
        "colab_type": "text"
      },
      "source": [
        "<a href=\"https://colab.research.google.com/github/Petint/AI-and-DS/blob/main/ai_2.ipynb\" target=\"_parent\"><img src=\"https://colab.research.google.com/assets/colab-badge.svg\" alt=\"Open In Colab\"/></a>"
      ]
    },
    {
      "cell_type": "markdown",
      "source": [
        "# AI-2"
      ],
      "metadata": {
        "id": "TPOEgAYIsF19"
      }
    },
    {
      "cell_type": "code",
      "execution_count": 12,
      "metadata": {
        "id": "17cLlFlosDCy"
      },
      "outputs": [],
      "source": [
        "# Import all necessary\n",
        "import numpy as np\n",
        "import matplotlib.pyplot as plt\n",
        "import os\n",
        "import cv2 as cv\n",
        "\n",
        "from sklearn.preprocessing import LabelBinarizer\n",
        "from sklearn.model_selection import train_test_split\n",
        "\n",
        "from keras.models import Sequential\n",
        "from keras.layers import Conv2D, Dense, Flatten, MaxPooling2D\n",
        "from keras.layers import BatchNormalization, Activation, Dropout\n",
        "from keras.preprocessing.image import ImageDataGenerator"
      ]
    },
    {
      "cell_type": "markdown",
      "source": [
        "# Connect to drive"
      ],
      "metadata": {
        "id": "xI6mnQmqthIb"
      }
    },
    {
      "cell_type": "code",
      "source": [],
      "metadata": {
        "id": "KvBlufiHtE6b"
      },
      "execution_count": 12,
      "outputs": []
    },
    {
      "cell_type": "code",
      "source": [
        "from google.colab import drive\n",
        "drive.mount('/content/drive')"
      ],
      "metadata": {
        "colab": {
          "base_uri": "https://localhost:8080/"
        },
        "id": "oNOSNJdOtkh8",
        "outputId": "024605a7-1b03-4d97-a736-dbd6716c8cae"
      },
      "execution_count": 13,
      "outputs": [
        {
          "output_type": "stream",
          "name": "stdout",
          "text": [
            "Drive already mounted at /content/drive; to attempt to forcibly remount, call drive.mount(\"/content/drive\", force_remount=True).\n"
          ]
        }
      ]
    },
    {
      "cell_type": "markdown",
      "source": [
        "# Dara prep"
      ],
      "metadata": {
        "id": "mumRppexuNcM"
      }
    },
    {
      "cell_type": "code",
      "source": [
        "path = '/content/drive/MyDrive/cropped_images/'\n",
        "input_shape = (96, 96, 3)\n",
        "x = []\n",
        "y = []\n",
        "\n",
        "for folder in os.listdir(path):\n",
        "  for images in os.listdir(os.path.join(path, folder)):\n",
        "    imagepath = os.path.join(path, folder, images)\n",
        "    image = cv.imread(imagepath)\n",
        "    image = cv.resize(image, (input_shape[1], input_shape[0]))\n",
        "    label = folder.replace('_', ' ')\n",
        "    x.append(image)\n",
        "    y.append(label)"
      ],
      "metadata": {
        "id": "U96X20MMuPVH"
      },
      "execution_count": 14,
      "outputs": []
    },
    {
      "cell_type": "markdown",
      "source": [
        "# Norm"
      ],
      "metadata": {
        "id": "YZR5wMKjy61h"
      }
    },
    {
      "cell_type": "code",
      "source": [
        "x = np.array(x) / 255.0\n",
        "y = np.array(y)\n",
        "# Herbalizer\n",
        "names = np.unique(y)\n",
        "print(names)\n",
        "print(y[60])\n",
        "mlb = LabelBinarizer()\n",
        "y = mlb.fit_transform(y)\n",
        "print(y[60])\n"
      ],
      "metadata": {
        "colab": {
          "base_uri": "https://localhost:8080/"
        },
        "id": "EAQsduVmy8f4",
        "outputId": "1e04458e-9bee-4e4a-8d1f-d12a6b2baa9e"
      },
      "execution_count": 15,
      "outputs": [
        {
          "output_type": "stream",
          "name": "stdout",
          "text": [
            "['chris evans' 'chris hemsworth' 'mark ruffalo' 'robert downey jr'\n",
            " 'scarlett johansson']\n",
            "robert downey jr\n",
            "[0 0 0 1 0]\n"
          ]
        }
      ]
    },
    {
      "cell_type": "markdown",
      "source": [
        "# Train - test - validate"
      ],
      "metadata": {
        "id": "5mwEGqQDz1SI"
      }
    },
    {
      "cell_type": "code",
      "source": [
        "x, x_test, y, y_test, =train_test_split(x, y, test_size=0.1, random_state=1)\n",
        "x_train, x_val, y_train, y_val, =train_test_split(x, y, test_size=0.2, random_state=1)\n",
        "\n",
        "print(x.shape, x_test.shape, y.shape, y_test.shape)\n",
        "print(x_train.shape, x_val.shape, y_train.shape, y_val.shape)"
      ],
      "metadata": {
        "colab": {
          "base_uri": "https://localhost:8080/"
        },
        "id": "o8ntvyYNz8HE",
        "outputId": "3f5d6dc0-aa4a-4072-b2ec-a46e3fa1a440"
      },
      "execution_count": 16,
      "outputs": [
        {
          "output_type": "stream",
          "name": "stdout",
          "text": [
            "(246, 96, 96, 3) (28, 96, 96, 3) (246, 5) (28, 5)\n",
            "(196, 96, 96, 3) (50, 96, 96, 3) (196, 5) (50, 5)\n"
          ]
        }
      ]
    },
    {
      "cell_type": "markdown",
      "source": [
        "# Datagen"
      ],
      "metadata": {
        "id": "WBgerwb62qYq"
      }
    },
    {
      "cell_type": "code",
      "source": [
        "datagen = ImageDataGenerator(\n",
        "    rotation_range=45,\n",
        "    width_shift_range=0.1,\n",
        "    height_shift_range=0.1,\n",
        "    zoom_range=0.2,\n",
        "    horizontal_flip=True,\n",
        "    validation_split=0.2,\n",
        ")"
      ],
      "metadata": {
        "id": "vQA1PDpZ2sEI"
      },
      "execution_count": 17,
      "outputs": []
    },
    {
      "cell_type": "markdown",
      "source": [
        "# Make Shrek have layers"
      ],
      "metadata": {
        "id": "X32QT5y86xLb"
      }
    },
    {
      "cell_type": "code",
      "source": [
        "onion = Sequential()\n",
        "# Layer 1\n",
        "onion.add(Conv2D(32, 3, input_shape=input_shape, activation='relu'))\n",
        "onion.add(MaxPooling2D(3))\n",
        "onion.add(Dropout(0.25))\n",
        "# Layer 2\n",
        "onion.add(Conv2D(64, 3, padding='same', activation='relu'))\n",
        "onion.add(Conv2D(64, 3, padding='same', activation='relu'))\n",
        "onion.add(MaxPooling2D())\n",
        "onion.add(Dropout(0.25))\n",
        "# Layer 3\n",
        "onion.add(Conv2D(128, 3, padding='same', activation='relu'))\n",
        "onion.add(Conv2D(128, 2, padding='same', activation='relu'))\n",
        "onion.add(MaxPooling2D())\n",
        "onion.add(Dropout(0.25))\n",
        "# Layer 4\n",
        "onion.add(Flatten())\n",
        "onion.add(Dense(1024, activation='relu'))\n",
        "# Layer 5\n",
        "onion.add(Dense(len(mlb.classes_), activation='softmax'))\n",
        "\n",
        "onion.summary()"
      ],
      "metadata": {
        "colab": {
          "base_uri": "https://localhost:8080/"
        },
        "id": "59pIfqrb62WW",
        "outputId": "8c820bc0-ed1b-45d7-b17b-69763e3e16a8"
      },
      "execution_count": 18,
      "outputs": [
        {
          "output_type": "stream",
          "name": "stdout",
          "text": [
            "Model: \"sequential\"\n",
            "_________________________________________________________________\n",
            " Layer (type)                Output Shape              Param #   \n",
            "=================================================================\n",
            " conv2d (Conv2D)             (None, 94, 94, 32)        896       \n",
            "                                                                 \n",
            " max_pooling2d (MaxPooling2D  (None, 31, 31, 32)       0         \n",
            " )                                                               \n",
            "                                                                 \n",
            " dropout (Dropout)           (None, 31, 31, 32)        0         \n",
            "                                                                 \n",
            " conv2d_1 (Conv2D)           (None, 31, 31, 64)        18496     \n",
            "                                                                 \n",
            " conv2d_2 (Conv2D)           (None, 31, 31, 64)        36928     \n",
            "                                                                 \n",
            " max_pooling2d_1 (MaxPooling  (None, 15, 15, 64)       0         \n",
            " 2D)                                                             \n",
            "                                                                 \n",
            " dropout_1 (Dropout)         (None, 15, 15, 64)        0         \n",
            "                                                                 \n",
            " conv2d_3 (Conv2D)           (None, 15, 15, 128)       73856     \n",
            "                                                                 \n",
            " conv2d_4 (Conv2D)           (None, 15, 15, 128)       65664     \n",
            "                                                                 \n",
            " max_pooling2d_2 (MaxPooling  (None, 7, 7, 128)        0         \n",
            " 2D)                                                             \n",
            "                                                                 \n",
            " dropout_2 (Dropout)         (None, 7, 7, 128)         0         \n",
            "                                                                 \n",
            " flatten (Flatten)           (None, 6272)              0         \n",
            "                                                                 \n",
            " dense (Dense)               (None, 1024)              6423552   \n",
            "                                                                 \n",
            " dense_1 (Dense)             (None, 5)                 5125      \n",
            "                                                                 \n",
            "=================================================================\n",
            "Total params: 6,624,517\n",
            "Trainable params: 6,624,517\n",
            "Non-trainable params: 0\n",
            "_________________________________________________________________\n"
          ]
        }
      ]
    },
    {
      "cell_type": "markdown",
      "source": [
        "# Fti moddel"
      ],
      "metadata": {
        "id": "45_r_vPr9sW6"
      }
    },
    {
      "cell_type": "code",
      "source": [
        "onion.compile(optimizer='adam', loss='categorical_crossentropy', metrics=['accuracy', 'AUC'])\n",
        "onion.fit(datagen.flow(x_train, y_train, batch_size=128), validation_data=(x_val, y_val), epochs=100)"
      ],
      "metadata": {
        "colab": {
          "base_uri": "https://localhost:8080/"
        },
        "id": "PjweIf8K9r53",
        "outputId": "b7224e75-4227-4400-8397-0bfb0614028c"
      },
      "execution_count": 22,
      "outputs": [
        {
          "output_type": "stream",
          "name": "stdout",
          "text": [
            "Epoch 1/100\n",
            "2/2 [==============================] - 6s 3s/step - loss: 2.0635 - accuracy: 0.1786 - auc: 0.4656 - val_loss: 1.6094 - val_accuracy: 0.2800 - val_auc: 0.5538\n",
            "Epoch 2/100\n",
            "2/2 [==============================] - 5s 3s/step - loss: 1.6737 - accuracy: 0.2449 - auc: 0.5267 - val_loss: 1.6065 - val_accuracy: 0.2800 - val_auc: 0.5336\n",
            "Epoch 3/100\n",
            "2/2 [==============================] - 6s 2s/step - loss: 1.6212 - accuracy: 0.2449 - auc: 0.5225 - val_loss: 1.6088 - val_accuracy: 0.2800 - val_auc: 0.4949\n",
            "Epoch 4/100\n",
            "2/2 [==============================] - 5s 3s/step - loss: 1.6071 - accuracy: 0.2449 - auc: 0.5245 - val_loss: 1.6086 - val_accuracy: 0.2800 - val_auc: 0.5094\n",
            "Epoch 5/100\n",
            "2/2 [==============================] - 5s 3s/step - loss: 1.6059 - accuracy: 0.2449 - auc: 0.5371 - val_loss: 1.6070 - val_accuracy: 0.2800 - val_auc: 0.5614\n",
            "Epoch 6/100\n",
            "2/2 [==============================] - 7s 4s/step - loss: 1.6067 - accuracy: 0.2449 - auc: 0.5309 - val_loss: 1.6057 - val_accuracy: 0.2800 - val_auc: 0.5422\n",
            "Epoch 7/100\n",
            "2/2 [==============================] - 7s 4s/step - loss: 1.6033 - accuracy: 0.2449 - auc: 0.5388 - val_loss: 1.6032 - val_accuracy: 0.2800 - val_auc: 0.5428\n",
            "Epoch 8/100\n",
            "2/2 [==============================] - 7s 4s/step - loss: 1.6040 - accuracy: 0.2449 - auc: 0.5260 - val_loss: 1.6002 - val_accuracy: 0.2800 - val_auc: 0.5217\n",
            "Epoch 9/100\n",
            "2/2 [==============================] - 8s 6s/step - loss: 1.6024 - accuracy: 0.2449 - auc: 0.5347 - val_loss: 1.6010 - val_accuracy: 0.2800 - val_auc: 0.5210\n",
            "Epoch 10/100\n",
            "2/2 [==============================] - 6s 2s/step - loss: 1.6029 - accuracy: 0.2449 - auc: 0.5371 - val_loss: 1.6022 - val_accuracy: 0.2800 - val_auc: 0.5246\n",
            "Epoch 11/100\n",
            "2/2 [==============================] - 8s 3s/step - loss: 1.6028 - accuracy: 0.2449 - auc: 0.5329 - val_loss: 1.6044 - val_accuracy: 0.2800 - val_auc: 0.5208\n",
            "Epoch 12/100\n",
            "2/2 [==============================] - 5s 2s/step - loss: 1.6021 - accuracy: 0.2449 - auc: 0.5441 - val_loss: 1.6045 - val_accuracy: 0.2800 - val_auc: 0.5172\n",
            "Epoch 13/100\n",
            "2/2 [==============================] - 6s 5s/step - loss: 1.6030 - accuracy: 0.2449 - auc: 0.5420 - val_loss: 1.6009 - val_accuracy: 0.2800 - val_auc: 0.5908\n",
            "Epoch 14/100\n",
            "2/2 [==============================] - 6s 2s/step - loss: 1.6016 - accuracy: 0.2449 - auc: 0.5504 - val_loss: 1.5997 - val_accuracy: 0.2800 - val_auc: 0.5852\n",
            "Epoch 15/100\n",
            "2/2 [==============================] - 5s 2s/step - loss: 1.6019 - accuracy: 0.2449 - auc: 0.5435 - val_loss: 1.6007 - val_accuracy: 0.2800 - val_auc: 0.5833\n",
            "Epoch 16/100\n",
            "2/2 [==============================] - 5s 2s/step - loss: 1.6039 - accuracy: 0.2449 - auc: 0.5344 - val_loss: 1.6023 - val_accuracy: 0.2800 - val_auc: 0.5504\n",
            "Epoch 17/100\n",
            "2/2 [==============================] - 5s 2s/step - loss: 1.6032 - accuracy: 0.2449 - auc: 0.5454 - val_loss: 1.6096 - val_accuracy: 0.2800 - val_auc: 0.5302\n",
            "Epoch 18/100\n",
            "2/2 [==============================] - 5s 2s/step - loss: 1.6025 - accuracy: 0.2449 - auc: 0.5513 - val_loss: 1.6106 - val_accuracy: 0.2800 - val_auc: 0.5119\n",
            "Epoch 19/100\n",
            "2/2 [==============================] - 6s 2s/step - loss: 1.6017 - accuracy: 0.2449 - auc: 0.5533 - val_loss: 1.6099 - val_accuracy: 0.2800 - val_auc: 0.5143\n",
            "Epoch 20/100\n",
            "2/2 [==============================] - 6s 2s/step - loss: 1.6003 - accuracy: 0.2449 - auc: 0.5726 - val_loss: 1.6072 - val_accuracy: 0.2800 - val_auc: 0.5312\n",
            "Epoch 21/100\n",
            "2/2 [==============================] - 6s 3s/step - loss: 1.5985 - accuracy: 0.2449 - auc: 0.5882 - val_loss: 1.6013 - val_accuracy: 0.2800 - val_auc: 0.5196\n",
            "Epoch 22/100\n",
            "2/2 [==============================] - 6s 4s/step - loss: 1.5976 - accuracy: 0.2449 - auc: 0.5768 - val_loss: 1.6015 - val_accuracy: 0.2800 - val_auc: 0.5372\n",
            "Epoch 23/100\n",
            "2/2 [==============================] - 7s 4s/step - loss: 1.6002 - accuracy: 0.2449 - auc: 0.5528 - val_loss: 1.5994 - val_accuracy: 0.2800 - val_auc: 0.5340\n",
            "Epoch 24/100\n",
            "2/2 [==============================] - 8s 5s/step - loss: 1.6007 - accuracy: 0.2449 - auc: 0.5602 - val_loss: 1.6000 - val_accuracy: 0.2800 - val_auc: 0.5196\n",
            "Epoch 25/100\n",
            "2/2 [==============================] - 6s 2s/step - loss: 1.6010 - accuracy: 0.2449 - auc: 0.5654 - val_loss: 1.6025 - val_accuracy: 0.2800 - val_auc: 0.5331\n",
            "Epoch 26/100\n",
            "2/2 [==============================] - 5s 2s/step - loss: 1.5962 - accuracy: 0.2449 - auc: 0.5845 - val_loss: 1.6113 - val_accuracy: 0.2800 - val_auc: 0.5246\n",
            "Epoch 27/100\n",
            "2/2 [==============================] - 5s 3s/step - loss: 1.5942 - accuracy: 0.2449 - auc: 0.5796 - val_loss: 1.6113 - val_accuracy: 0.2800 - val_auc: 0.5322\n",
            "Epoch 28/100\n",
            "2/2 [==============================] - 5s 3s/step - loss: 1.5922 - accuracy: 0.2449 - auc: 0.6057 - val_loss: 1.6066 - val_accuracy: 0.2800 - val_auc: 0.5321\n",
            "Epoch 29/100\n",
            "2/2 [==============================] - 5s 3s/step - loss: 1.5929 - accuracy: 0.2551 - auc: 0.5978 - val_loss: 1.6086 - val_accuracy: 0.2800 - val_auc: 0.5290\n",
            "Epoch 30/100\n",
            "2/2 [==============================] - 8s 3s/step - loss: 1.5920 - accuracy: 0.2653 - auc: 0.5898 - val_loss: 1.6047 - val_accuracy: 0.2800 - val_auc: 0.5404\n",
            "Epoch 31/100\n",
            "2/2 [==============================] - 5s 3s/step - loss: 1.5918 - accuracy: 0.2500 - auc: 0.5867 - val_loss: 1.6046 - val_accuracy: 0.2800 - val_auc: 0.5400\n",
            "Epoch 32/100\n",
            "2/2 [==============================] - 5s 2s/step - loss: 1.5870 - accuracy: 0.2500 - auc: 0.5947 - val_loss: 1.6065 - val_accuracy: 0.2800 - val_auc: 0.5495\n",
            "Epoch 33/100\n",
            "2/2 [==============================] - 5s 2s/step - loss: 1.5878 - accuracy: 0.2602 - auc: 0.5825 - val_loss: 1.6136 - val_accuracy: 0.2600 - val_auc: 0.5377\n",
            "Epoch 34/100\n",
            "2/2 [==============================] - 5s 3s/step - loss: 1.6002 - accuracy: 0.2653 - auc: 0.5441 - val_loss: 1.6209 - val_accuracy: 0.2600 - val_auc: 0.5289\n",
            "Epoch 35/100\n",
            "2/2 [==============================] - 5s 2s/step - loss: 1.5812 - accuracy: 0.2551 - auc: 0.5893 - val_loss: 1.5690 - val_accuracy: 0.3000 - val_auc: 0.6361\n",
            "Epoch 36/100\n",
            "2/2 [==============================] - 5s 2s/step - loss: 1.5850 - accuracy: 0.2755 - auc: 0.5799 - val_loss: 1.5877 - val_accuracy: 0.3200 - val_auc: 0.5541\n",
            "Epoch 37/100\n",
            "2/2 [==============================] - 5s 2s/step - loss: 1.5815 - accuracy: 0.2959 - auc: 0.5921 - val_loss: 1.6339 - val_accuracy: 0.2200 - val_auc: 0.5199\n",
            "Epoch 38/100\n",
            "2/2 [==============================] - 5s 3s/step - loss: 1.5861 - accuracy: 0.2857 - auc: 0.5830 - val_loss: 1.6266 - val_accuracy: 0.2600 - val_auc: 0.5294\n",
            "Epoch 39/100\n",
            "2/2 [==============================] - 5s 3s/step - loss: 1.5713 - accuracy: 0.3010 - auc: 0.6098 - val_loss: 1.5801 - val_accuracy: 0.2600 - val_auc: 0.5869\n",
            "Epoch 40/100\n",
            "2/2 [==============================] - 5s 2s/step - loss: 1.5877 - accuracy: 0.2449 - auc: 0.5904 - val_loss: 1.5668 - val_accuracy: 0.2600 - val_auc: 0.6313\n",
            "Epoch 41/100\n",
            "2/2 [==============================] - 5s 3s/step - loss: 1.5705 - accuracy: 0.3061 - auc: 0.6047 - val_loss: 1.6256 - val_accuracy: 0.2600 - val_auc: 0.5290\n",
            "Epoch 42/100\n",
            "2/2 [==============================] - 5s 3s/step - loss: 1.5856 - accuracy: 0.2449 - auc: 0.5740 - val_loss: 1.6284 - val_accuracy: 0.1400 - val_auc: 0.5144\n",
            "Epoch 43/100\n",
            "2/2 [==============================] - 5s 3s/step - loss: 1.5634 - accuracy: 0.3010 - auc: 0.6189 - val_loss: 1.5801 - val_accuracy: 0.3200 - val_auc: 0.5878\n",
            "Epoch 44/100\n",
            "2/2 [==============================] - 5s 3s/step - loss: 1.5585 - accuracy: 0.2908 - auc: 0.6344 - val_loss: 1.5804 - val_accuracy: 0.3000 - val_auc: 0.5808\n",
            "Epoch 45/100\n",
            "2/2 [==============================] - 5s 2s/step - loss: 1.5577 - accuracy: 0.3010 - auc: 0.6299 - val_loss: 1.6028 - val_accuracy: 0.2800 - val_auc: 0.5416\n",
            "Epoch 46/100\n",
            "2/2 [==============================] - 5s 2s/step - loss: 1.5511 - accuracy: 0.2959 - auc: 0.6470 - val_loss: 1.6060 - val_accuracy: 0.2800 - val_auc: 0.5490\n",
            "Epoch 47/100\n",
            "2/2 [==============================] - 5s 2s/step - loss: 1.5492 - accuracy: 0.3214 - auc: 0.6333 - val_loss: 1.5854 - val_accuracy: 0.2800 - val_auc: 0.5723\n",
            "Epoch 48/100\n",
            "2/2 [==============================] - 5s 3s/step - loss: 1.5634 - accuracy: 0.2959 - auc: 0.6156 - val_loss: 1.5555 - val_accuracy: 0.3000 - val_auc: 0.6133\n",
            "Epoch 49/100\n",
            "2/2 [==============================] - 5s 2s/step - loss: 1.5288 - accuracy: 0.3316 - auc: 0.6500 - val_loss: 1.6182 - val_accuracy: 0.2800 - val_auc: 0.5507\n",
            "Epoch 50/100\n",
            "2/2 [==============================] - 5s 3s/step - loss: 1.5263 - accuracy: 0.3469 - auc: 0.6492 - val_loss: 1.4943 - val_accuracy: 0.3800 - val_auc: 0.6957\n",
            "Epoch 51/100\n",
            "2/2 [==============================] - 5s 3s/step - loss: 1.5395 - accuracy: 0.3418 - auc: 0.6295 - val_loss: 1.6081 - val_accuracy: 0.2600 - val_auc: 0.5610\n",
            "Epoch 52/100\n",
            "2/2 [==============================] - 5s 2s/step - loss: 1.5670 - accuracy: 0.2704 - auc: 0.6091 - val_loss: 1.5051 - val_accuracy: 0.3200 - val_auc: 0.6732\n",
            "Epoch 53/100\n",
            "2/2 [==============================] - 5s 2s/step - loss: 1.5245 - accuracy: 0.3010 - auc: 0.6472 - val_loss: 1.4876 - val_accuracy: 0.4200 - val_auc: 0.7025\n",
            "Epoch 54/100\n",
            "2/2 [==============================] - 5s 3s/step - loss: 1.5190 - accuracy: 0.3112 - auc: 0.6528 - val_loss: 1.6157 - val_accuracy: 0.2600 - val_auc: 0.5584\n",
            "Epoch 55/100\n",
            "2/2 [==============================] - 5s 3s/step - loss: 1.5209 - accuracy: 0.3265 - auc: 0.6502 - val_loss: 1.5336 - val_accuracy: 0.3200 - val_auc: 0.6465\n",
            "Epoch 56/100\n",
            "2/2 [==============================] - 5s 3s/step - loss: 1.5188 - accuracy: 0.3724 - auc: 0.6600 - val_loss: 1.5084 - val_accuracy: 0.3400 - val_auc: 0.6759\n",
            "Epoch 57/100\n",
            "2/2 [==============================] - 5s 3s/step - loss: 1.4837 - accuracy: 0.3827 - auc: 0.6849 - val_loss: 1.5205 - val_accuracy: 0.3000 - val_auc: 0.6610\n",
            "Epoch 58/100\n",
            "2/2 [==============================] - 5s 2s/step - loss: 1.5040 - accuracy: 0.3571 - auc: 0.6661 - val_loss: 1.6297 - val_accuracy: 0.2200 - val_auc: 0.5535\n",
            "Epoch 59/100\n",
            "2/2 [==============================] - 5s 3s/step - loss: 1.4953 - accuracy: 0.3622 - auc: 0.6764 - val_loss: 1.4253 - val_accuracy: 0.4400 - val_auc: 0.7272\n",
            "Epoch 60/100\n",
            "2/2 [==============================] - 5s 2s/step - loss: 1.4712 - accuracy: 0.3724 - auc: 0.6833 - val_loss: 1.6037 - val_accuracy: 0.2200 - val_auc: 0.5919\n",
            "Epoch 61/100\n",
            "2/2 [==============================] - 5s 2s/step - loss: 1.4844 - accuracy: 0.3163 - auc: 0.6758 - val_loss: 1.3774 - val_accuracy: 0.4400 - val_auc: 0.7479\n",
            "Epoch 62/100\n",
            "2/2 [==============================] - 5s 2s/step - loss: 1.5119 - accuracy: 0.3367 - auc: 0.6551 - val_loss: 1.6416 - val_accuracy: 0.2800 - val_auc: 0.5778\n",
            "Epoch 63/100\n",
            "2/2 [==============================] - 5s 2s/step - loss: 1.5028 - accuracy: 0.3367 - auc: 0.6626 - val_loss: 1.4038 - val_accuracy: 0.4200 - val_auc: 0.7488\n",
            "Epoch 64/100\n",
            "2/2 [==============================] - 5s 2s/step - loss: 1.4983 - accuracy: 0.3520 - auc: 0.6693 - val_loss: 1.5210 - val_accuracy: 0.3600 - val_auc: 0.6497\n",
            "Epoch 65/100\n",
            "2/2 [==============================] - 5s 2s/step - loss: 1.5241 - accuracy: 0.3469 - auc: 0.6505 - val_loss: 1.4252 - val_accuracy: 0.4400 - val_auc: 0.7238\n",
            "Epoch 66/100\n",
            "2/2 [==============================] - 5s 3s/step - loss: 1.4752 - accuracy: 0.3571 - auc: 0.6816 - val_loss: 1.3935 - val_accuracy: 0.4400 - val_auc: 0.7502\n",
            "Epoch 67/100\n",
            "2/2 [==============================] - 5s 2s/step - loss: 1.4981 - accuracy: 0.3163 - auc: 0.6651 - val_loss: 1.4463 - val_accuracy: 0.3400 - val_auc: 0.7174\n",
            "Epoch 68/100\n",
            "2/2 [==============================] - 5s 2s/step - loss: 1.4697 - accuracy: 0.3878 - auc: 0.6944 - val_loss: 1.5534 - val_accuracy: 0.2600 - val_auc: 0.6199\n",
            "Epoch 69/100\n",
            "2/2 [==============================] - 5s 3s/step - loss: 1.5008 - accuracy: 0.2704 - auc: 0.6537 - val_loss: 1.6511 - val_accuracy: 0.2200 - val_auc: 0.5237\n",
            "Epoch 70/100\n",
            "2/2 [==============================] - 5s 2s/step - loss: 1.5057 - accuracy: 0.3163 - auc: 0.6609 - val_loss: 1.5363 - val_accuracy: 0.2600 - val_auc: 0.6393\n",
            "Epoch 71/100\n",
            "2/2 [==============================] - 5s 3s/step - loss: 1.4549 - accuracy: 0.3827 - auc: 0.7022 - val_loss: 1.4373 - val_accuracy: 0.3600 - val_auc: 0.7349\n",
            "Epoch 72/100\n",
            "2/2 [==============================] - 5s 2s/step - loss: 1.4666 - accuracy: 0.3929 - auc: 0.6997 - val_loss: 1.5140 - val_accuracy: 0.2800 - val_auc: 0.6628\n",
            "Epoch 73/100\n",
            "2/2 [==============================] - 5s 2s/step - loss: 1.4320 - accuracy: 0.3878 - auc: 0.7161 - val_loss: 1.6528 - val_accuracy: 0.1800 - val_auc: 0.5511\n",
            "Epoch 74/100\n",
            "2/2 [==============================] - 5s 2s/step - loss: 1.4451 - accuracy: 0.4031 - auc: 0.7038 - val_loss: 1.3597 - val_accuracy: 0.4600 - val_auc: 0.7541\n",
            "Epoch 75/100\n",
            "2/2 [==============================] - 5s 3s/step - loss: 1.4930 - accuracy: 0.3776 - auc: 0.6897 - val_loss: 1.5585 - val_accuracy: 0.3000 - val_auc: 0.6528\n",
            "Epoch 76/100\n",
            "2/2 [==============================] - 5s 3s/step - loss: 1.5633 - accuracy: 0.2857 - auc: 0.6418 - val_loss: 1.4278 - val_accuracy: 0.3600 - val_auc: 0.7145\n",
            "Epoch 77/100\n",
            "2/2 [==============================] - 5s 3s/step - loss: 1.4470 - accuracy: 0.3878 - auc: 0.7033 - val_loss: 1.3568 - val_accuracy: 0.5600 - val_auc: 0.7736\n",
            "Epoch 78/100\n",
            "2/2 [==============================] - 5s 3s/step - loss: 1.4388 - accuracy: 0.4031 - auc: 0.7029 - val_loss: 1.4340 - val_accuracy: 0.3800 - val_auc: 0.7168\n",
            "Epoch 79/100\n",
            "2/2 [==============================] - 5s 3s/step - loss: 1.4502 - accuracy: 0.3724 - auc: 0.6967 - val_loss: 1.5851 - val_accuracy: 0.2400 - val_auc: 0.6005\n",
            "Epoch 80/100\n",
            "2/2 [==============================] - 5s 2s/step - loss: 1.4240 - accuracy: 0.3776 - auc: 0.7147 - val_loss: 1.3757 - val_accuracy: 0.3800 - val_auc: 0.7500\n",
            "Epoch 81/100\n",
            "2/2 [==============================] - 5s 2s/step - loss: 1.3757 - accuracy: 0.4745 - auc: 0.7354 - val_loss: 1.2978 - val_accuracy: 0.4600 - val_auc: 0.7897\n",
            "Epoch 82/100\n",
            "2/2 [==============================] - 5s 3s/step - loss: 1.3549 - accuracy: 0.4694 - auc: 0.7423 - val_loss: 1.3906 - val_accuracy: 0.4000 - val_auc: 0.7427\n",
            "Epoch 83/100\n",
            "2/2 [==============================] - 6s 3s/step - loss: 1.3348 - accuracy: 0.5000 - auc: 0.7559 - val_loss: 1.3348 - val_accuracy: 0.5000 - val_auc: 0.7635\n",
            "Epoch 84/100\n",
            "2/2 [==============================] - 5s 2s/step - loss: 1.3749 - accuracy: 0.4184 - auc: 0.7397 - val_loss: 1.1694 - val_accuracy: 0.5400 - val_auc: 0.8300\n",
            "Epoch 85/100\n",
            "2/2 [==============================] - 7s 5s/step - loss: 1.4026 - accuracy: 0.4541 - auc: 0.7228 - val_loss: 1.2985 - val_accuracy: 0.4600 - val_auc: 0.7818\n",
            "Epoch 86/100\n",
            "2/2 [==============================] - 7s 4s/step - loss: 1.3681 - accuracy: 0.4184 - auc: 0.7451 - val_loss: 1.2245 - val_accuracy: 0.6000 - val_auc: 0.8321\n",
            "Epoch 87/100\n",
            "2/2 [==============================] - 7s 4s/step - loss: 1.3031 - accuracy: 0.4745 - auc: 0.7772 - val_loss: 1.3038 - val_accuracy: 0.5400 - val_auc: 0.7907\n",
            "Epoch 88/100\n",
            "2/2 [==============================] - 9s 2s/step - loss: 1.3260 - accuracy: 0.4388 - auc: 0.7717 - val_loss: 1.2589 - val_accuracy: 0.4600 - val_auc: 0.7907\n",
            "Epoch 89/100\n",
            "2/2 [==============================] - 5s 3s/step - loss: 1.3414 - accuracy: 0.4541 - auc: 0.7542 - val_loss: 1.1916 - val_accuracy: 0.5200 - val_auc: 0.8083\n",
            "Epoch 90/100\n",
            "2/2 [==============================] - 7s 2s/step - loss: 1.2486 - accuracy: 0.4949 - auc: 0.7969 - val_loss: 1.2775 - val_accuracy: 0.5400 - val_auc: 0.7885\n",
            "Epoch 91/100\n",
            "2/2 [==============================] - 7s 3s/step - loss: 1.2771 - accuracy: 0.4694 - auc: 0.7755 - val_loss: 1.2020 - val_accuracy: 0.6200 - val_auc: 0.8208\n",
            "Epoch 92/100\n",
            "2/2 [==============================] - 6s 2s/step - loss: 1.2880 - accuracy: 0.4796 - auc: 0.7807 - val_loss: 1.2693 - val_accuracy: 0.4200 - val_auc: 0.7789\n",
            "Epoch 93/100\n",
            "2/2 [==============================] - 5s 3s/step - loss: 1.2554 - accuracy: 0.5000 - auc: 0.7883 - val_loss: 1.2367 - val_accuracy: 0.5000 - val_auc: 0.7911\n",
            "Epoch 94/100\n",
            "2/2 [==============================] - 6s 2s/step - loss: 1.2187 - accuracy: 0.5255 - auc: 0.8011 - val_loss: 1.0972 - val_accuracy: 0.5600 - val_auc: 0.8449\n",
            "Epoch 95/100\n",
            "2/2 [==============================] - 7s 5s/step - loss: 1.1527 - accuracy: 0.5255 - auc: 0.8259 - val_loss: 1.2960 - val_accuracy: 0.4800 - val_auc: 0.8067\n",
            "Epoch 96/100\n",
            "2/2 [==============================] - 7s 4s/step - loss: 1.1752 - accuracy: 0.5357 - auc: 0.8192 - val_loss: 1.1658 - val_accuracy: 0.5400 - val_auc: 0.8400\n",
            "Epoch 97/100\n",
            "2/2 [==============================] - 5s 2s/step - loss: 1.2061 - accuracy: 0.5051 - auc: 0.8087 - val_loss: 1.1724 - val_accuracy: 0.5200 - val_auc: 0.8220\n",
            "Epoch 98/100\n",
            "2/2 [==============================] - 5s 3s/step - loss: 1.1578 - accuracy: 0.5459 - auc: 0.8154 - val_loss: 1.2444 - val_accuracy: 0.5200 - val_auc: 0.8082\n",
            "Epoch 99/100\n",
            "2/2 [==============================] - 5s 3s/step - loss: 1.1605 - accuracy: 0.5561 - auc: 0.8295 - val_loss: 1.1103 - val_accuracy: 0.5200 - val_auc: 0.8433\n",
            "Epoch 100/100\n",
            "2/2 [==============================] - 7s 3s/step - loss: 1.1645 - accuracy: 0.5204 - auc: 0.8282 - val_loss: 1.2473 - val_accuracy: 0.5400 - val_auc: 0.8167\n"
          ]
        },
        {
          "output_type": "execute_result",
          "data": {
            "text/plain": [
              "<keras.callbacks.History at 0x7fd7227995b0>"
            ]
          },
          "metadata": {},
          "execution_count": 22
        }
      ]
    },
    {
      "cell_type": "markdown",
      "source": [
        "# Eval"
      ],
      "metadata": {
        "id": "DpUbp_-m_GjE"
      }
    },
    {
      "cell_type": "code",
      "source": [
        "loss, acc, auc = onion.evaluate(x_test, y_test, batch_size=100)\n",
        "print('\\nTest accuracy: %.1f%%' % (100.0 * acc))\n",
        "print('\\nTest AUC: %.1f%%' % (100.0 * auc))"
      ],
      "metadata": {
        "colab": {
          "base_uri": "https://localhost:8080/"
        },
        "id": "5qeraKzQ_IQH",
        "outputId": "5bd94cc0-d76c-4e62-ea05-f2b3bf72643f"
      },
      "execution_count": 24,
      "outputs": [
        {
          "output_type": "stream",
          "name": "stdout",
          "text": [
            "1/1 [==============================] - 0s 160ms/step - loss: 1.1414 - accuracy: 0.5357 - auc: 0.8219\n",
            "\n",
            "Test accuracy: 53.6%\n",
            "\n",
            "Test AUC: 82.2%\n"
          ]
        }
      ]
    },
    {
      "cell_type": "code",
      "source": [
        "yfit = onion.predict(x_test)\n",
        "y_prediction = []\n",
        "for i in yfit:\n",
        "  i=list(i)\n",
        "  y_prediction.append(i.index(max(i)))\n",
        "print(y_prediction)\n",
        "\n",
        "y_real=[]\n",
        "for j in y_test:\n",
        "  j = list(j)\n",
        "  y_real.append(j.index(max(j)))\n",
        "print(y_real)"
      ],
      "metadata": {
        "colab": {
          "base_uri": "https://localhost:8080/"
        },
        "id": "kxm_DH2TAtvT",
        "outputId": "718c0ad3-9e16-4c57-b369-76b9b585cb25"
      },
      "execution_count": 26,
      "outputs": [
        {
          "output_type": "stream",
          "name": "stdout",
          "text": [
            "1/1 [==============================] - 0s 493ms/step\n",
            "[3, 0, 4, 2, 3, 4, 0, 2, 1, 1, 3, 3, 4, 0, 4, 3, 4, 4, 0, 3, 3, 3, 3, 4, 0, 2, 2, 4]\n",
            "[3, 3, 1, 2, 4, 4, 0, 2, 1, 2, 3, 1, 0, 0, 4, 3, 4, 4, 1, 0, 1, 0, 3, 1, 4, 0, 2, 4]\n"
          ]
        }
      ]
    },
    {
      "cell_type": "code",
      "source": [
        "from sklearn.metrics import confusion_matrix\n",
        "import seaborn as sns\n",
        "\n",
        "mat = confusion_matrix(y_real, y_prediction)\n",
        "sns.heatmap(mat.T, square=True, annot=True,fmt='d',cbar=False, xticklabels=np.unique(names), yticklabels=np.unique(names))\n",
        "\n",
        "plt.xlabel('True table')\n",
        "plt.ylabel('Predicted label')"
      ],
      "metadata": {
        "colab": {
          "base_uri": "https://localhost:8080/",
          "height": 378
        },
        "id": "0VreGOdRCeoJ",
        "outputId": "7cc8209d-782a-4e8e-8d64-6624480d70f6"
      },
      "execution_count": 31,
      "outputs": [
        {
          "output_type": "execute_result",
          "data": {
            "text/plain": [
              "Text(91.68, 0.5, 'Predicted label')"
            ]
          },
          "metadata": {},
          "execution_count": 31
        },
        {
          "output_type": "display_data",
          "data": {
            "text/plain": [
              "<Figure size 432x288 with 1 Axes>"
            ],
            "image/png": "[encoded data removed]"
          },
          "metadata": {
            "needs_background": "light"
          }
        }
      ]
    }
  ]
}