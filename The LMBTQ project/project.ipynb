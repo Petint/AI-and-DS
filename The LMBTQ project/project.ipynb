{
 "cells": [
  {
   "attachments": {},
   "cell_type": "markdown",
   "metadata": {},
   "source": [
    "# The LMBTQ project\n",
    "<svg xmlns=\"http://www.w3.org/2000/svg\" viewBox=\"0 0 5000 480\">\n",
    "  <path fill=\"#750787\" d=\"M0 0h777v480H0z\"/>\n",
    "  <path fill=\"#004dff\" d=\"M0 0h777v400H0z\"/>\n",
    "  <path fill=\"#008026\" d=\"M0 0h777v320H0z\"/>\n",
    "  <path fill=\"#ffed00\" d=\"M0 0h777v240H0z\"/>\n",
    "  <path fill=\"#ff8c00\" d=\"M0 0h777v160H0z\"/>\n",
    "  <path fill=\"#e40303\" d=\"M0 0h777v80H0z\"/>\n",
    "</svg>\n"
   ]
  },
  {
   "cell_type": "code",
   "execution_count": null,
   "metadata": {},
   "outputs": [],
   "source": []
  }
 ],
 "metadata": {
  "kernelspec": {
   "display_name": "Python 3",
   "language": "python",
   "name": "python3"
  },
  "language_info": {
   "name": "python",
   "version": "3.11.1 (tags/v3.11.1:a7a450f, Dec  6 2022, 19:58:39) [MSC v.1934 64 bit (AMD64)]"
  },
  "orig_nbformat": 4,
  "vscode": {
   "interpreter": {
    "hash": "1432c27067456d9c602523e5e936aced0263109f5a71177d7cb50b721b862e5e"
   }
  }
 },
 "nbformat": 4,
 "nbformat_minor": 2
}
