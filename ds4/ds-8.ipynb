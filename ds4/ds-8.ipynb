{
 "cells": [
  {
   "cell_type": "markdown",
   "metadata": {},
   "source": [
    "# DS-8"
   ]
  },
  {
   "cell_type": "code",
   "execution_count": null,
   "metadata": {},
   "outputs": [],
   "source": [
    "import pandas as pd\n",
    "from matplotlib import pyplot as plt\n",
    "\n",
    "lidl_vasarlok = pd.read_csv(\"172-monor.csv\")\n",
    "df = lidl_vasarlok[['Age', 'Annual Income (k$)', 'Spending Score (1-100)']]\n",
    "lidl_vasarlok.head()"
   ]
  },
  {
   "cell_type": "code",
   "execution_count": null,
   "metadata": {},
   "outputs": [],
   "source": [
    "df.columns = ['id', 'age', 'Income', 'score', 'female', 'male']\n",
    "df.head"
   ]
  },
  {
   "cell_type": "code",
   "execution_count": null,
   "metadata": {},
   "outputs": [],
   "source": [
    "from sklearn.preprocessing import MinMaxScaler\n",
    "scaler = MinMaxScaler()\n",
    "df = scaler.fit(df, 0, 1)\n",
    "df.columns = ['id', 'age', 'Income', 'score', 'female', 'male']\n",
    "df.head()"
   ]
  },
  {
   "cell_type": "code",
   "execution_count": null,
   "metadata": {},
   "outputs": [],
   "source": [
    "plt.scatter(df['income'], df['score'])\n",
    "plt.xlabel('Income')\n",
    "plt.ylabel('Score')\n",
    "plt.title('Spending - Income score')"
   ]
  },
  {
   "cell_type": "markdown",
   "metadata": {},
   "source": [
    "##  DBskan"
   ]
  },
  {
   "cell_type": "code",
   "execution_count": null,
   "metadata": {},
   "outputs": [],
   "source": [
    "from sklearn.cluster import DBSCAN\n",
    "anomaly_detector = DBSCAN(eps=0.2, metric='euclidean', min_samples=3)\n",
    "clusters = anomaly_detector.fit_predict(df)"
   ]
  },
  {
   "cell_type": "code",
   "execution_count": null,
   "metadata": {},
   "outputs": [],
   "source": [
    "colours = []\n",
    "for i in clusters:\n",
    "    if i == -1:\n",
    "        colours.append(1)\n",
    "    else:\n",
    "        colours.append(2)\n",
    "colours.count(1)"
   ]
  },
  {
   "cell_type": "code",
   "execution_count": null,
   "metadata": {},
   "outputs": [],
   "source": [
    "from matplotlib import cm\n",
    "\n",
    "cmap = cm.get_cmap('Set1')\n",
    "plt.scatter(df['Income'], df['score'], c =colours, cmap=cmap)\n",
    "plt.xlabel('Income')\n",
    "plt.ylabel('Score')\n",
    "plt.title('dbscan cingudse')"
   ]
  },
  {
   "cell_type": "code",
   "execution_count": null,
   "metadata": {},
   "outputs": [],
   "source": [
    "from sklearn.ensemble import IsolationForest\n",
    "\n",
    "clf = IsolationForest(max_samples=100,random_state=45, contamination=.1)\n",
    "clf.fit(df)"
   ]
  },
  {
   "cell_type": "code",
   "execution_count": null,
   "metadata": {},
   "outputs": [],
   "source": [
    "## svm ouzlinr"
   ]
  },
  {
   "cell_type": "code",
   "execution_count": null,
   "metadata": {},
   "outputs": [],
   "source": [
    "from sklearn import svm\n",
    "cig =svm.OneClassSVM(RU =0.5)\n",
    "cig.fit(df)\n",
    "ypred= cig.predict(df)\n"
   ]
  },
  {
   "cell_type": "code",
   "execution_count": null,
   "metadata": {},
   "outputs": [],
   "source": []
  }
 ],
 "metadata": {
  "kernelspec": {
   "display_name": "Python 3.9.13 64-bit (microsoft store)",
   "language": "python",
   "name": "python3"
  },
  "language_info": {
   "codemirror_mode": {
    "name": "ipython",
    "version": 3
   },
   "file_extension": ".py",
   "mimetype": "text/x-python",
   "name": "python",
   "nbconvert_exporter": "python",
   "pygments_lexer": "ipython3",
   "version": "3.9.13"
  },
  "orig_nbformat": 4,
  "vscode": {
   "interpreter": {
    "hash": "8f600195697513566cfd9921234c84dcffd7ac51592eaa46493c69d7051ed246"
   }
  }
 },
 "nbformat": 4,
 "nbformat_minor": 2
}
