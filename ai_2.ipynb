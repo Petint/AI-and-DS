{
  "nbformat": 4,
  "nbformat_minor": 0,
  "metadata": {
    "colab": {
      "provenance": [],
      "authorship_tag": "ABX9TyN0O3zLoOxwfSQina++doGg",
      "include_colab_link": true
    },
    "kernelspec": {
      "name": "python3",
      "display_name": "Python 3"
    },
    "language_info": {
      "name": "python"
    }
  },
  "cells": [
    {
      "cell_type": "markdown",
      "metadata": {
        "id": "view-in-github",
        "colab_type": "text"
      },
      "source": [
        "<a href=\"https://colab.research.google.com/github/Petint/AI-and-DS/blob/main/ai_2.ipynb\" target=\"_parent\"><img src=\"https://colab.research.google.com/assets/colab-badge.svg\" alt=\"Open In Colab\"/></a>"
      ]
    },
    {
      "cell_type": "markdown",
      "source": [
        "# AI-2"
      ],
      "metadata": {
        "id": "TPOEgAYIsF19"
      }
    },
    {
      "cell_type": "code",
      "execution_count": null,
      "metadata": {
        "id": "17cLlFlosDCy"
      },
      "outputs": [],
      "source": [
        "# Import all necessary\n",
        "import numpy as np\n",
        "import matplotlib.pyplot as plt\n",
        "import os\n",
        "import cv2 as cv\n",
        "\n",
        "from sklearn.preprocessing import LabelBinarizer\n",
        "from sklearn.model_selection import train_test_split\n",
        "\n",
        "from keras.models import Sequential\n",
        "from keras.layers import Conv2D, Dense, Flatten, MaxPooling2D\n",
        "from keras.layers import BatchNormalization, Activation, Dropout\n",
        "from keras.preprocessing.image import ImageDataGenerator"
      ]
    },
    {
      "cell_type": "markdown",
      "source": [
        "# Connect to drive"
      ],
      "metadata": {
        "id": "xI6mnQmqthIb"
      }
    },
    {
      "cell_type": "code",
      "source": [],
      "metadata": {
        "id": "KvBlufiHtE6b"
      },
      "execution_count": null,
      "outputs": []
    },
    {
      "cell_type": "code",
      "source": [
        "from google.colab import drive\n",
        "drive.mount('/content/drive')"
      ],
      "metadata": {
        "colab": {
          "base_uri": "https://localhost:8080/"
        },
        "id": "oNOSNJdOtkh8",
        "outputId": "aab4fc52-77f2-441e-e989-f88f9a373d13"
      },
      "execution_count": 4,
      "outputs": [
        {
          "output_type": "stream",
          "name": "stdout",
          "text": [
            "Drive already mounted at /content/drive; to attempt to forcibly remount, call drive.mount(\"/content/drive\", force_remount=True).\n"
          ]
        }
      ]
    },
    {
      "cell_type": "markdown",
      "source": [
        "# Dara prep"
      ],
      "metadata": {
        "id": "mumRppexuNcM"
      }
    },
    {
      "cell_type": "code",
      "source": [
        "path = '/content/drive/MyDrive/cropped_images/'\n",
        "input_shape = (96, 96, 3)\n",
        "x = []\n",
        "y = []\n",
        "\n",
        "for folder in os.listdir(path):\n",
        "  for images in os.listdir(os.path.join(path, folder)):\n",
        "    imagepath = os.path.join(path, folder, images)\n",
        "    image = cv.imread(imagepath)\n",
        "    image = cv.resize(image, (input_shape[1], input_shape[0]))\n",
        "    label = folder.replace('_', ' ')\n",
        "    x.append(image)\n",
        "    y.append(label)"
      ],
      "metadata": {
        "id": "U96X20MMuPVH"
      },
      "execution_count": 5,
      "outputs": []
    },
    {
      "cell_type": "markdown",
      "source": [
        "# Norm"
      ],
      "metadata": {
        "id": "YZR5wMKjy61h"
      }
    },
    {
      "cell_type": "code",
      "source": [
        "x = np.array(x) / 255.0\n",
        "y = np.array(y)\n",
        "# Herbalizer\n",
        "names = np.unique(y)\n",
        "print(names)\n",
        "print(y[60])\n",
        "mlb = LabelBinarizer()\n",
        "y = mlb.fit_transform(y)\n",
        "print(y[60])\n"
      ],
      "metadata": {
        "colab": {
          "base_uri": "https://localhost:8080/"
        },
        "id": "EAQsduVmy8f4",
        "outputId": "094c8255-4347-48ff-aa32-c9374eb96478"
      },
      "execution_count": 6,
      "outputs": [
        {
          "output_type": "stream",
          "name": "stdout",
          "text": [
            "['chris evans' 'chris hemsworth' 'mark ruffalo' 'robert downey jr'\n",
            " 'scarlett johansson']\n",
            "robert downey jr\n",
            "[0 0 0 1 0]\n"
          ]
        }
      ]
    },
    {
      "cell_type": "markdown",
      "source": [
        "# Train - test - validate"
      ],
      "metadata": {
        "id": "5mwEGqQDz1SI"
      }
    },
    {
      "cell_type": "code",
      "source": [
        "x, x_test, y, y_test, =train_test_split(x, y, test_size=0.1, random_state=1)\n",
        "x_train, x_val, y_train, y_val, =train_test_split(x, y, test_size=0.2, random_state=1)\n",
        "\n",
        "print(x.shape, x_test.shape, y.shape, y_test.shape)\n",
        "print(x_train.shape, x_val.shape, y_train.shape, y_val.shape)"
      ],
      "metadata": {
        "colab": {
          "base_uri": "https://localhost:8080/"
        },
        "id": "o8ntvyYNz8HE",
        "outputId": "268f8c74-f51f-48f6-c5fd-da8452c2a6d4"
      },
      "execution_count": 8,
      "outputs": [
        {
          "output_type": "stream",
          "name": "stdout",
          "text": [
            "(221, 96, 96, 3) (25, 96, 96, 3) (221, 5) (25, 5)\n",
            "(176, 96, 96, 3) (45, 96, 96, 3) (176, 5) (45, 5)\n"
          ]
        }
      ]
    },
    {
      "cell_type": "markdown",
      "source": [
        "# Datagen"
      ],
      "metadata": {
        "id": "WBgerwb62qYq"
      }
    },
    {
      "cell_type": "code",
      "source": [
        "datagen = ImageDataGenerator(\n",
        "    rotation_range=45,\n",
        "    width_shift_range=0.1,\n",
        "    height_shift_range=0.1,\n",
        "    zoom_range=0.2,\n",
        "    horizontal_flip=True,\n",
        "    validation_split=0.2,\n",
        ")"
      ],
      "metadata": {
        "id": "vQA1PDpZ2sEI"
      },
      "execution_count": 11,
      "outputs": []
    }
  ]
}