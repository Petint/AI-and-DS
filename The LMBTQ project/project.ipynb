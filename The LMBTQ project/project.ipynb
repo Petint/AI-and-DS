{
  "cells": [
    {
      "cell_type": "markdown",
      "metadata": {
        "id": "view-in-github",
        "colab_type": "text"
      },
      "source": [
        "<a href=\"https://colab.research.google.com/github/Petint/AI-and-DS/blob/main/The%20LMBTQ%20project/project.ipynb\" target=\"_parent\"><img src=\"https://colab.research.google.com/assets/colab-badge.svg\" alt=\"Open In Colab\"/></a>"
      ]
    },
    {
      "cell_type": "markdown",
      "metadata": {
        "id": "Dg4xMrKzo0Lg"
      },
      "source": [
        "# The LMBTQ project\n",
        "<svg xmlns=\"http://www.w3.org/2000/svg\" viewBox=\"0 0 5000 480\">\n",
        "  <path fill=\"#750787\" d=\"M0 0h777v480H0z\"/>\n",
        "  <path fill=\"#004dff\" d=\"M0 0h777v400H0z\"/>\n",
        "  <path fill=\"#008026\" d=\"M0 0h777v320H0z\"/>\n",
        "  <path fill=\"#ffed00\" d=\"M0 0h777v240H0z\"/>\n",
        "  <path fill=\"#ff8c00\" d=\"M0 0h777v160H0z\"/>\n",
        "  <path fill=\"#e40303\" d=\"M0 0h777v80H0z\"/>\n",
        "</svg>\n",
        "\n",
        "## The dataset\n",
        "> FRA (Fundamental Rights Agency) conducted an online survey to identify how lesbian, gay, bisexual and transgender (LGBT) people living in the European Union and Croatia experience the fulfilment of their fundamental rights. The evidence produced by the survey will support the development of more effective laws and policies to fight discrimination, violence and harassment, improving equal treatment across society. The need for such an EU-wide survey became evident after the publication in 2009 of the first FRA report on homophobia and discrimination on grounds of sexual orientation or gender identity, which highlighted the absence of comparable data. The European Commission then requested FRA to collect comparable data across the EU on this issue. FRA organised the data collection in the form of an online survey covering all EU Member States and Croatia. The respondents were persons aged 18 years and over, who identify themselves as lesbian, gay, bisexual or transgender, anonymously. The survey was made available online, from April to July 2012, in all 23 official EU languages (except Irish) plus Catalan, Croatian, Luxembourgish, Russian and Turkish. In total, 93,079 LGBT persons completed the survey. FRA’s inhouse experts designed the survey which was implemented by Gallup, one of the market leaders in large-scale surveys. In addition, civil society organisations including ILGA-Europe (European Region of the International Lesbian, Gay, Bisexual, Trans and Intersex Association) and Transgender Europe (TGEU) provided advice on how to best approach LGBT people.<br><br>Source: [kaggle](\"https://www.kaggle.com/datasets/ruslankl/european-union-lgbt-survey-2012\")"
      ]
    },
    {
      "cell_type": "code",
      "execution_count": null,
      "metadata": {
        "vscode": {
          "languageId": "shellscript"
        },
        "id": "PrNyCTAko0Li",
        "outputId": "fdcbe6d0-b6d5-4aed-ef72-365dfe9a4400"
      },
      "outputs": [
        {
          "ename": "SyntaxError",
          "evalue": "invalid syntax (382792282.py, line 1)",
          "output_type": "error",
          "traceback": [
            "\u001b[1;36m  Cell \u001b[1;32mIn[5], line 1\u001b[1;36m\u001b[0m\n\u001b[1;33m    pip install numpy\u001b[0m\n\u001b[1;37m        ^\u001b[0m\n\u001b[1;31mSyntaxError\u001b[0m\u001b[1;31m:\u001b[0m invalid syntax\n"
          ]
        }
      ],
      "source": [
        "pip install numpy\n",
        "pip install pandas\n",
        "pip install matplotlib\n",
        "pip install seaborn\n",
        "pip install sklearn"
      ]
    },
    {
      "cell_type": "code",
      "execution_count": 6,
      "metadata": {
        "id": "ZeWQwx5lo0Lj"
      },
      "outputs": [],
      "source": [
        "# Basic\n",
        "import numpy as np # linear algebra\n",
        "import pandas as pd # data processing, CSV file I/O (e.g. pd.read_csv)\n",
        "import matplotlib.pyplot as plt\n",
        "import matplotlib.gridspec as gs\n",
        "import seaborn as sns\n",
        "#import geoplotlib as geo\n",
        "\n",
        "from sklearn.preprocessing import MinMaxScaler\n",
        "\n",
        "import os\n",
        "files = [\"https://raw.githubusercontent.com/Petint/AI-and-DS/main/The%20LMBTQ%20project/raw_data/LGBT_Survey_DailyLife.csv\", \"https://raw.githubusercontent.com/Petint/AI-and-DS/main/The%20LMBTQ%20project/raw_data/LGBT_Survey_Discrimination.csv\",\n",
        "         \"https://raw.githubusercontent.com/Petint/AI-and-DS/main/The%20LMBTQ%20project/raw_data/LGBT_Survey_RightsAwareness.csv\", \"https://raw.githubusercontent.com/Petint/AI-and-DS/main/The%20LMBTQ%20project/raw_data/LGBT_Survey_SubsetSize.csv\",\n",
        "         \"https://raw.githubusercontent.com/Petint/AI-and-DS/main/The%20LMBTQ%20project/raw_data/LGBT_Survey_TransgenderSpecificQuestions.csv\", \"https://raw.githubusercontent.com/Petint/AI-and-DS/main/The%20LMBTQ%20project/raw_data/LGBT_Survey_ViolenceAndHarassment.csv\"]"
      ]
    },
    {
      "cell_type": "code",
      "source": [
        "pd.set_option('display.max_colwidth', None) #Dispaly full questions"
      ],
      "metadata": {
        "id": "ECdyXFpoq5Th"
      },
      "execution_count": 5,
      "outputs": []
    },
    {
      "cell_type": "code",
      "source": [
        "#Colors to be used in the plots\n",
        "colors=[\"#f94144\",\"#f3722c\",\"#f8961e\",\"#f9c74f\",\"#90be6d\",\"#43aa8b\",\"#577590\"]\n",
        "sns.palplot(colors)"
      ],
      "metadata": {
        "colab": {
          "base_uri": "https://localhost:8080/",
          "height": 89
        },
        "id": "TpQon3LLra1m",
        "outputId": "39a1011a-78b1-49b6-c607-d77b5bfb04ff"
      },
      "execution_count": 7,
      "outputs": [
        {
          "output_type": "display_data",
          "data": {
            "text/plain": [
              "<Figure size 504x72 with 1 Axes>"
            ],
            "image/png": "[encoded data removed]"
          },
          "metadata": {
            "needs_background": "light"
          }
        }
      ]
    },
    {
      "cell_type": "markdown",
      "source": [
        "## Load data\n",
        "* Opening files\n",
        "* Exploring data"
      ],
      "metadata": {
        "id": "oNFr2Gzrrrph"
      }
    },
    {
      "cell_type": "code",
      "source": [
        "life_df = pd.read_csv(files[0])\n",
        "life_df.shape"
      ],
      "metadata": {
        "colab": {
          "base_uri": "https://localhost:8080/"
        },
        "id": "lV-lUQdxruzb",
        "outputId": "0b1174f1-59d6-4768-867e-86f3027f0bc2"
      },
      "execution_count": 8,
      "outputs": [
        {
          "output_type": "execute_result",
          "data": {
            "text/plain": [
              "(34020, 7)"
            ]
          },
          "metadata": {},
          "execution_count": 8
        }
      ]
    },
    {
      "cell_type": "code",
      "source": [
        "life_df.head()"
      ],
      "metadata": {
        "colab": {
          "base_uri": "https://localhost:8080/",
          "height": 215
        },
        "id": "hAlFgHifr8JW",
        "outputId": "787d0256-9197-4d28-a9a2-8dcd7f64e595"
      },
      "execution_count": 9,
      "outputs": [
        {
          "output_type": "execute_result",
          "data": {
            "text/plain": [
              "  CountryCode   subset question_code  \\\n",
              "0     Austria  Lesbian          b1_a   \n",
              "1     Austria  Lesbian          b1_a   \n",
              "2     Austria  Lesbian          b1_a   \n",
              "3     Austria  Lesbian          b1_a   \n",
              "4     Austria  Lesbian          b1_a   \n",
              "\n",
              "                                                                                                                                               question_label  \\\n",
              "0  In your opinion, how widespread is offensive language about lesbian, gay, bisexual and/or transgender people by politicians in the country where you live?   \n",
              "1  In your opinion, how widespread is offensive language about lesbian, gay, bisexual and/or transgender people by politicians in the country where you live?   \n",
              "2  In your opinion, how widespread is offensive language about lesbian, gay, bisexual and/or transgender people by politicians in the country where you live?   \n",
              "3  In your opinion, how widespread is offensive language about lesbian, gay, bisexual and/or transgender people by politicians in the country where you live?   \n",
              "4  In your opinion, how widespread is offensive language about lesbian, gay, bisexual and/or transgender people by politicians in the country where you live?   \n",
              "\n",
              "              answer percentage notes  \n",
              "0    Very widespread          8   NaN  \n",
              "1  Fairly widespread         34   NaN  \n",
              "2        Fairly rare         45   NaN  \n",
              "3          Very rare          9   NaN  \n",
              "4         Don`t know          4   [0]  "
            ],
            "text/html": [
              "\n",
              "  <div id=\"df-acca1d48-707d-4d00-bfe0-d039d9545d0d\">\n",
              "    <div class=\"colab-df-container\">\n",
              "      <div>\n",
              "<style scoped>\n",
              "    .dataframe tbody tr th:only-of-type {\n",
              "        vertical-align: middle;\n",
              "    }\n",
              "\n",
              "    .dataframe tbody tr th {\n",
              "        vertical-align: top;\n",
              "    }\n",
              "\n",
              "    .dataframe thead th {\n",
              "        text-align: right;\n",
              "    }\n",
              "</style>\n",
              "<table border=\"1\" class=\"dataframe\">\n",
              "  <thead>\n",
              "    <tr style=\"text-align: right;\">\n",
              "      <th></th>\n",
              "      <th>CountryCode</th>\n",
              "      <th>subset</th>\n",
              "      <th>question_code</th>\n",
              "      <th>question_label</th>\n",
              "      <th>answer</th>\n",
              "      <th>percentage</th>\n",
              "      <th>notes</th>\n",
              "    </tr>\n",
              "  </thead>\n",
              "  <tbody>\n",
              "    <tr>\n",
              "      <th>0</th>\n",
              "      <td>Austria</td>\n",
              "      <td>Lesbian</td>\n",
              "      <td>b1_a</td>\n",
              "      <td>In your opinion, how widespread is offensive language about lesbian, gay, bisexual and/or transgender people by politicians in the country where you live?</td>\n",
              "      <td>Very widespread</td>\n",
              "      <td>8</td>\n",
              "      <td>NaN</td>\n",
              "    </tr>\n",
              "    <tr>\n",
              "      <th>1</th>\n",
              "      <td>Austria</td>\n",
              "      <td>Lesbian</td>\n",
              "      <td>b1_a</td>\n",
              "      <td>In your opinion, how widespread is offensive language about lesbian, gay, bisexual and/or transgender people by politicians in the country where you live?</td>\n",
              "      <td>Fairly widespread</td>\n",
              "      <td>34</td>\n",
              "      <td>NaN</td>\n",
              "    </tr>\n",
              "    <tr>\n",
              "      <th>2</th>\n",
              "      <td>Austria</td>\n",
              "      <td>Lesbian</td>\n",
              "      <td>b1_a</td>\n",
              "      <td>In your opinion, how widespread is offensive language about lesbian, gay, bisexual and/or transgender people by politicians in the country where you live?</td>\n",
              "      <td>Fairly rare</td>\n",
              "      <td>45</td>\n",
              "      <td>NaN</td>\n",
              "    </tr>\n",
              "    <tr>\n",
              "      <th>3</th>\n",
              "      <td>Austria</td>\n",
              "      <td>Lesbian</td>\n",
              "      <td>b1_a</td>\n",
              "      <td>In your opinion, how widespread is offensive language about lesbian, gay, bisexual and/or transgender people by politicians in the country where you live?</td>\n",
              "      <td>Very rare</td>\n",
              "      <td>9</td>\n",
              "      <td>NaN</td>\n",
              "    </tr>\n",
              "    <tr>\n",
              "      <th>4</th>\n",
              "      <td>Austria</td>\n",
              "      <td>Lesbian</td>\n",
              "      <td>b1_a</td>\n",
              "      <td>In your opinion, how widespread is offensive language about lesbian, gay, bisexual and/or transgender people by politicians in the country where you live?</td>\n",
              "      <td>Don`t know</td>\n",
              "      <td>4</td>\n",
              "      <td>[0]</td>\n",
              "    </tr>\n",
              "  </tbody>\n",
              "</table>\n",
              "</div>\n",
              "      <button class=\"colab-df-convert\" onclick=\"convertToInteractive('df-acca1d48-707d-4d00-bfe0-d039d9545d0d')\"\n",
              "              title=\"Convert this dataframe to an interactive table.\"\n",
              "              style=\"display:none;\">\n",
              "        \n",
              "  <svg xmlns=\"http://www.w3.org/2000/svg\" height=\"24px\"viewBox=\"0 0 24 24\"\n",
              "       width=\"24px\">\n",
              "    <path d=\"M0 0h24v24H0V0z\" fill=\"none\"/>\n",
              "    <path d=\"M18.56 5.44l.94 2.06.94-2.06 2.06-.94-2.06-.94-.94-2.06-.94 2.06-2.06.94zm-11 1L8.5 8.5l.94-2.06 2.06-.94-2.06-.94L8.5 2.5l-.94 2.06-2.06.94zm10 10l.94 2.06.94-2.06 2.06-.94-2.06-.94-.94-2.06-.94 2.06-2.06.94z\"/><path d=\"M17.41 7.96l-1.37-1.37c-.4-.4-.92-.59-1.43-.59-.52 0-1.04.2-1.43.59L10.3 9.45l-7.72 7.72c-.78.78-.78 2.05 0 2.83L4 21.41c.39.39.9.59 1.41.59.51 0 1.02-.2 1.41-.59l7.78-7.78 2.81-2.81c.8-.78.8-2.07 0-2.86zM5.41 20L4 18.59l7.72-7.72 1.47 1.35L5.41 20z\"/>\n",
              "  </svg>\n",
              "      </button>\n",
              "      \n",
              "  <style>\n",
              "    .colab-df-container {\n",
              "      display:flex;\n",
              "      flex-wrap:wrap;\n",
              "      gap: 12px;\n",
              "    }\n",
              "\n",
              "    .colab-df-convert {\n",
              "      background-color: #E8F0FE;\n",
              "      border: none;\n",
              "      border-radius: 50%;\n",
              "      cursor: pointer;\n",
              "      display: none;\n",
              "      fill: #1967D2;\n",
              "      height: 32px;\n",
              "      padding: 0 0 0 0;\n",
              "      width: 32px;\n",
              "    }\n",
              "\n",
              "    .colab-df-convert:hover {\n",
              "      background-color: #E2EBFA;\n",
              "      box-shadow: 0px 1px 2px rgba(60, 64, 67, 0.3), 0px 1px 3px 1px rgba(60, 64, 67, 0.15);\n",
              "      fill: #174EA6;\n",
              "    }\n",
              "\n",
              "    [theme=dark] .colab-df-convert {\n",
              "      background-color: #3B4455;\n",
              "      fill: #D2E3FC;\n",
              "    }\n",
              "\n",
              "    [theme=dark] .colab-df-convert:hover {\n",
              "      background-color: #434B5C;\n",
              "      box-shadow: 0px 1px 3px 1px rgba(0, 0, 0, 0.15);\n",
              "      filter: drop-shadow(0px 1px 2px rgba(0, 0, 0, 0.3));\n",
              "      fill: #FFFFFF;\n",
              "    }\n",
              "  </style>\n",
              "\n",
              "      <script>\n",
              "        const buttonEl =\n",
              "          document.querySelector('#df-acca1d48-707d-4d00-bfe0-d039d9545d0d button.colab-df-convert');\n",
              "        buttonEl.style.display =\n",
              "          google.colab.kernel.accessAllowed ? 'block' : 'none';\n",
              "\n",
              "        async function convertToInteractive(key) {\n",
              "          const element = document.querySelector('#df-acca1d48-707d-4d00-bfe0-d039d9545d0d');\n",
              "          const dataTable =\n",
              "            await google.colab.kernel.invokeFunction('convertToInteractive',\n",
              "                                                     [key], {});\n",
              "          if (!dataTable) return;\n",
              "\n",
              "          const docLinkHtml = 'Like what you see? Visit the ' +\n",
              "            '<a target=\"_blank\" href=https://colab.research.google.com/notebooks/data_table.ipynb>data table notebook</a>'\n",
              "            + ' to learn more about interactive tables.';\n",
              "          element.innerHTML = '';\n",
              "          dataTable['output_type'] = 'display_data';\n",
              "          await google.colab.output.renderOutput(dataTable, element);\n",
              "          const docLink = document.createElement('div');\n",
              "          docLink.innerHTML = docLinkHtml;\n",
              "          element.appendChild(docLink);\n",
              "        }\n",
              "      </script>\n",
              "    </div>\n",
              "  </div>\n",
              "  "
            ]
          },
          "metadata": {},
          "execution_count": 9
        }
      ]
    },
    {
      "cell_type": "code",
      "source": [
        "# Display all the questions\n",
        "life_df.question_label.unique()"
      ],
      "metadata": {
        "colab": {
          "base_uri": "https://localhost:8080/"
        },
        "id": "lpgNz21HsXuC",
        "outputId": "f3cfc86b-c8b0-4b4d-a461-e2cf65e67836"
      },
      "execution_count": 10,
      "outputs": [
        {
          "output_type": "execute_result",
          "data": {
            "text/plain": [
              "array(['In your opinion, how widespread is offensive language about lesbian, gay, bisexual and/or transgender people by politicians in the country where you live?',\n",
              "       'In your opinion, how widespread are casual jokes in everyday life about lesbian, gay, bisexual and/or transgender people in the country you live?',\n",
              "       'In your opinion, how widespread are expressions of hatred and aversion towards lesbian, gay, bisexual and/or transgender in public in the country where you live?',\n",
              "       'In your opinion, how widespread are assaults and harassment against lesbian, gay, bisexual and/or transgender people in the country where you live?',\n",
              "       'In your opinion, how widespread is same-sex partners holding hands in public in the country where you live?',\n",
              "       'In your opinion, how widespread is heterosexual partners holding hands in public in the country where you live?',\n",
              "       'In your opinion, how widespread is public figures in politics, business, sports, etc being open about themselves being lesbian, gay, bisexual and/or transgender in the country where you live?',\n",
              "       'In your opinion, how widespread are positive measures to promote respect for the human rights of lesbian, gay or bisexual people in the country where you live? *',\n",
              "       'In your opinion, how widespread are positive measures to promote respect for the human rights of transgender people in the country where you live? *',\n",
              "       'What would allow you to be more comfortable living as a lesbian, gay or bisexual person in the country where you live? Anti-discrimination policies referring to sexual orientation at the workplace?',\n",
              "       'What would allow you to be more comfortable living as a lesbian, gay or bisexual person in the country where you live? Measures implemented at school to respect lesbian, gay and bisexual people?',\n",
              "       'What would allow you to be more comfortable living as a lesbian, gay or bisexual person in the country where you live? Public figures in politics, business, sports, etc openly speaking in support of lesbian, gay and bisexual people?',\n",
              "       'What would allow you to be more comfortable living as a lesbian, gay or bisexual person in the country where you live? National authorities who promote the rights of lesbian, gay and bisexual people?',\n",
              "       'What would allow you to be more comfortable living as a lesbian, gay or bisexual person in the country where you live? Training of public servants (eg police, teachers) on the rights of lesbian, gay and bisexual people?',\n",
              "       'What would allow you to be more comfortable living as a lesbian, gay or bisexual person in the country where you live? Better acceptance of differences in sexual orientations by religious leaders?',\n",
              "       'What would allow you to be more comfortable living as a lesbian, gay or bisexual person in the country where you live? The possibility to marry and/or register a partnership?',\n",
              "       'What would allow you to be more comfortable living as a lesbian, gay or bisexual person in the country where you live? The possibility to foster / adopt children?',\n",
              "       'Recognition of same-sex partnerships across the European Union - What would allow you to be more comfortable living as a lesbian, gay or bisexual person in the country where you live?',\n",
              "       'In your opinion, in the country where you live, how widespread is discrimination because a person is Lesbian?',\n",
              "       'In your opinion, in the country where you live, how widespread is discrimination because a person is Gay?',\n",
              "       'In your opinion, in the country where you live, how widespread is discrimination because a person is Bisexual?',\n",
              "       'In your opinion, in the country where you live, how widespread is discrimination because a person is Transgender?',\n",
              "       'For each of the following types of discrimination, could you please specify whether, in your opinion, it is very rare, fairly rare, fairly widespread or very widespread in the country where you live?',\n",
              "       'Does your current partner know that you are L, G, B or T?',\n",
              "       'In your opinion, how many people know that you are L, G, B or T? Family members (other than your partner(s))?',\n",
              "       'In your opinion, how many people know that you are L, G, B or T? Friends?',\n",
              "       'In your opinion, how many people know that you are L, G, B or T? Neighbours?',\n",
              "       'In your opinion, how many people know that you are L, G, B or T? Work colleagues / schoolmates?',\n",
              "       'To how many people among the following groups are you open about yourself being L, G, B or T? Family members (other than your partner(s))?',\n",
              "       'To how many people among the following groups are you open about yourself being L, G, B or T ? Friends ?',\n",
              "       'To how many people among the following groups are you open about yourself being L, G, B or T? Neighbours ?',\n",
              "       'To how many people among the following groups are you open about yourself being L, G, B or T? Work colleagues / schoolmates?',\n",
              "       'To how many people among the following groups are you open about yourself being L, G, B or T? Immediate superior/head of department',\n",
              "       'To how many people among the following groups are you open about yourself being L, G, B or T? Customers, clients, etc at work?',\n",
              "       'To how many people among the following groups are you open about yourself being L, G, B or T? Medical staff / health care providers?',\n",
              "       'You have been treated with less courtesy than other people - In the last six months, in your day-to-day life, how often have any of the following things happened to you because you are or are assumed to be lesbian, gay, bisexual and/or transgender?',\n",
              "       'You have been treated with less respect than other people - In the last six months, in your day-to-day life, how often have any of the following things happened to you because you are or are assumed to be lesbian, gay, bisexual and/or transgender?',\n",
              "       'You have received poorer services than others (eg in restaurants, shops) - In the last six months, in your day-to-day life, how often have any of the following things happened to you because you are or are assumed to be L,G,B,T',\n",
              "       'All things considered, how satisfied would you say you are with your life these days? *',\n",
              "       'In terms of your civil status in the country where you live, are you *',\n",
              "       'What best describes your current situation in the country where you live *',\n",
              "       'Have you ever moved to an EU country (and also taken up local residence) together with your same-sex partner, since you married or registered your partnership?',\n",
              "       'In the country where you have moved to (taken u p residence), have you or your partner been denied or restricted access to any benefits or services that would have been available for a different-sex spouse or partner because of you having a same-sex partner or spouse?',\n",
              "       'In the country where you live, do you consider yourself to be part of any of the following? *',\n",
              "       'Do any children (under the age of 18) live in your household?',\n",
              "       'Are you a parent or legal guardian of a child (or children)?',\n",
              "       'Is someone in the household a parent or legal guardian of a child (or children)?',\n",
              "       'how did you come to know about this survey?',\n",
              "       'Have you been open about you being L, G, B or T? *',\n",
              "       '4 levels of being open about LGBT background *'], dtype=object)"
            ]
          },
          "metadata": {},
          "execution_count": 10
        }
      ]
    },
    {
      "cell_type": "code",
      "source": [
        "life_df.question_code.unique()"
      ],
      "metadata": {
        "colab": {
          "base_uri": "https://localhost:8080/"
        },
        "id": "YOA_wgWusddu",
        "outputId": "b1a2d830-dd7d-4b23-8b93-5359aa878a87"
      },
      "execution_count": 11,
      "outputs": [
        {
          "output_type": "execute_result",
          "data": {
            "text/plain": [
              "array(['b1_a', 'b1_b', 'b1_c', 'b1_d', 'b1_e', 'b1_f', 'b1_g', 'b1_h',\n",
              "       'b1_i', 'b2_a', 'b2_b', 'b2_c', 'b2_d', 'b2_e', 'b2_f', 'b2_g',\n",
              "       'b2_h', 'b2_i', 'c1a_a', 'c1a_b', 'c1a_c', 'c1a_d', 'c1_b', 'c1_c',\n",
              "       'g1_a', 'g2_a', 'g2_b', 'g2_c', 'g2_d', 'g3_a', 'g3_b', 'g3_c',\n",
              "       'g3_d', 'g3_e', 'g3_f', 'g3_g', 'g4_a', 'g4_b', 'g4_c', 'g5',\n",
              "       'h10', 'h11', 'h14', 'h15', 'h16', 'h9', 'h9_1', 'h9_2', 'i1',\n",
              "       'open_at_school', 'open_at_work', 'openness_cat4'], dtype=object)"
            ]
          },
          "metadata": {},
          "execution_count": 11
        }
      ]
    },
    {
      "cell_type": "markdown",
      "source": [
        "###### The questions seems to be organized into categories."
      ],
      "metadata": {
        "id": "_AFTAcTSskTc"
      }
    },
    {
      "cell_type": "code",
      "source": [
        "life_df.answer.unique()"
      ],
      "metadata": {
        "colab": {
          "base_uri": "https://localhost:8080/"
        },
        "id": "RgiMuNp7smul",
        "outputId": "9e6dac68-9f56-4057-8195-caeddc3bce3a"
      },
      "execution_count": 12,
      "outputs": [
        {
          "output_type": "execute_result",
          "data": {
            "text/plain": [
              "array(['Very widespread', 'Fairly widespread', 'Fairly rare', 'Very rare',\n",
              "       'Don`t know', 'Strongly agree', 'Agree', 'Disagree',\n",
              "       'Strongly disagree', 'Current situation is fine', 'Yes', 'No',\n",
              "       'I do not have a partner (Does not apply to me)', 'None', 'A few',\n",
              "       'Most', 'All', 'Never happened in the last sixth months',\n",
              "       'Happened only once in the last six months',\n",
              "       '2-5 times in the last six months',\n",
              "       '6 times or more in the last six months', '1', '10', '2', '3', '4',\n",
              "       '5', '6', '7', '8', '9', 'Single',\n",
              "       'Married/in a registered partnership', 'Divorced', 'Separated',\n",
              "       'Widowed', 'Living together with a partner /spouse',\n",
              "       'Involved in a relationship without living together',\n",
              "       'Have no relationship / do not have a partner',\n",
              "       'I did not need or use any benefits or services',\n",
              "       'An ethnic minority (including of migrant background)',\n",
              "       'A sexual minority',\n",
              "       'A minority in terms of disability (excluding diagnosis of gender dysphoria/gender identity disorder)',\n",
              "       'A religious minority', 'Other minority group',\n",
              "       'None of the above',\n",
              "       'I read about it in a newspaper (online or printed)',\n",
              "       'I received an email from an organisation or online network',\n",
              "       'Somebody told me about it or sent me the link',\n",
              "       'Through social media (facebook, twitter or etc.)',\n",
              "       'I saw an advertisement (banner) online, please specify where:',\n",
              "       'Somewhere else', 'Always open', 'selectively open',\n",
              "       'hide LGBT identity', 'Never Open', 'Rarely Open', 'Fairly open',\n",
              "       'Very open'], dtype=object)"
            ]
          },
          "metadata": {},
          "execution_count": 12
        }
      ]
    },
    {
      "cell_type": "code",
      "source": [
        "life_df.loc[life_df.question_code.str.contains(\"b1\")].answer.unique()"
      ],
      "metadata": {
        "colab": {
          "base_uri": "https://localhost:8080/"
        },
        "id": "RhaDrLxZsqOW",
        "outputId": "5c9b6871-7a19-4e3a-d9c3-9dd27e13d7ee"
      },
      "execution_count": 13,
      "outputs": [
        {
          "output_type": "execute_result",
          "data": {
            "text/plain": [
              "array(['Very widespread', 'Fairly widespread', 'Fairly rare', 'Very rare',\n",
              "       'Don`t know'], dtype=object)"
            ]
          },
          "metadata": {},
          "execution_count": 13
        }
      ]
    },
    {
      "cell_type": "markdown",
      "source": [
        "###### Each category seem to have it's set of possible answers"
      ],
      "metadata": {
        "id": "bXLhrgGAsv4E"
      }
    },
    {
      "cell_type": "code",
      "source": [
        "life_df.CountryCode.unique()"
      ],
      "metadata": {
        "colab": {
          "base_uri": "https://localhost:8080/"
        },
        "id": "cicDi10Nsz2w",
        "outputId": "a68d3f5b-b1e8-45e5-d14f-ba5bb2fa9f6e"
      },
      "execution_count": 14,
      "outputs": [
        {
          "output_type": "execute_result",
          "data": {
            "text/plain": [
              "array(['Austria', 'Belgium', 'Bulgaria', 'Cyprus', 'Czech Republic',\n",
              "       'Germany', 'Denmark', 'Estonia', 'Greece', 'Spain', 'Finland',\n",
              "       'France', 'Croatia', 'Hungary', 'Ireland', 'Italy', 'Lithuania',\n",
              "       'Luxembourg', 'Latvia', 'Malta', 'Netherlands', 'Poland',\n",
              "       'Portugal', 'Romania', 'Sweden', 'Slovenia', 'Slovakia',\n",
              "       'United Kingdom', 'Average'], dtype=object)"
            ]
          },
          "metadata": {},
          "execution_count": 14
        }
      ]
    },
    {
      "cell_type": "markdown",
      "source": [
        "28 countries + 1 Average\n",
        "\n",
        "Total amount of categories: 29 countries x5 subsets x4 question_code x5 answer = 725 rows"
      ],
      "metadata": {
        "id": "JLGJQVbSuBEm"
      }
    },
    {
      "cell_type": "code",
      "source": [
        "life_df.isnull().sum()"
      ],
      "metadata": {
        "colab": {
          "base_uri": "https://localhost:8080/"
        },
        "id": "Hk3XudRkuDMZ",
        "outputId": "df8ccdbc-06f9-4843-972d-b79c02c7cb77"
      },
      "execution_count": 15,
      "outputs": [
        {
          "output_type": "execute_result",
          "data": {
            "text/plain": [
              "CountryCode           0\n",
              "subset                0\n",
              "question_code         0\n",
              "question_label        0\n",
              "answer                0\n",
              "percentage            0\n",
              "notes             18724\n",
              "dtype: int64"
            ]
          },
          "metadata": {},
          "execution_count": 15
        }
      ]
    },
    {
      "cell_type": "code",
      "source": [
        "life_df.notes.unique()\n"
      ],
      "metadata": {
        "colab": {
          "base_uri": "https://localhost:8080/"
        },
        "id": "C1geUraJuIP9",
        "outputId": "dcb73bf4-2b81-4c44-efc3-754654b9323f"
      },
      "execution_count": 16,
      "outputs": [
        {
          "output_type": "execute_result",
          "data": {
            "text/plain": [
              "array([nan, '[0]', ' [1] '], dtype=object)"
            ]
          },
          "metadata": {},
          "execution_count": 16
        }
      ]
    },
    {
      "cell_type": "markdown",
      "source": [
        "The column \"notes\" doesn't seem to hold any significant value. We can drop it."
      ],
      "metadata": {
        "id": "YpxIlPg0uPwh"
      }
    },
    {
      "cell_type": "code",
      "source": [
        "life_df = life_df.drop(\"notes\", axis=1)\n",
        "life_df.shape"
      ],
      "metadata": {
        "colab": {
          "base_uri": "https://localhost:8080/"
        },
        "id": "CieVbpTkuRAA",
        "outputId": "753e4004-21ee-49d2-cef6-b5f6e324a6e1"
      },
      "execution_count": 17,
      "outputs": [
        {
          "output_type": "execute_result",
          "data": {
            "text/plain": [
              "(34020, 6)"
            ]
          },
          "metadata": {},
          "execution_count": 17
        }
      ]
    },
    {
      "cell_type": "code",
      "source": [
        "life_df.dtypes"
      ],
      "metadata": {
        "colab": {
          "base_uri": "https://localhost:8080/"
        },
        "id": "MUJlFYeCuUwd",
        "outputId": "041abb22-9a6e-45a9-a1e8-23e655c92b60"
      },
      "execution_count": 18,
      "outputs": [
        {
          "output_type": "execute_result",
          "data": {
            "text/plain": [
              "CountryCode       object\n",
              "subset            object\n",
              "question_code     object\n",
              "question_label    object\n",
              "answer            object\n",
              "percentage        object\n",
              "dtype: object"
            ]
          },
          "metadata": {},
          "execution_count": 18
        }
      ]
    },
    {
      "cell_type": "markdown",
      "source": [
        "\"percentage\" should be a number"
      ],
      "metadata": {
        "id": "XhQLHpT7uZdS"
      }
    },
    {
      "cell_type": "code",
      "source": [
        "life_df.percentage.unique()"
      ],
      "metadata": {
        "colab": {
          "base_uri": "https://localhost:8080/"
        },
        "id": "KwWAR5ATubNr",
        "outputId": "3c273ea8-dbc9-44b7-917a-40833c837bef"
      },
      "execution_count": 19,
      "outputs": [
        {
          "output_type": "execute_result",
          "data": {
            "text/plain": [
              "array(['8', '34', '45', '9', '4', '21', '52', '20', '29', '48', '6', '5',\n",
              "       '47', '25', '51', '13', '2', '12', '33', '1', '7', '40', '36',\n",
              "       '43', '42', '31', '32', '14', '18', '3', '39', '37', '17', '38',\n",
              "       '26', '24', '27', '30', '28', ':', '46', '19', '49', '11', '60',\n",
              "       '59', '22', '41', '50', '15', '0', '35', '44', '10', '23', '16',\n",
              "       '55', '61', '63', '56', '54', '64', '53', '67', '57', '72', '66',\n",
              "       '69', '68', '65', '58', '62', '88', '75', '90', '81', '85', '70',\n",
              "       '91', '80', '76', '86', '79', '89', '77', '78', '73', '71', '87',\n",
              "       '83', '74', '82', '84', '92', '93', '94', '95', '98', '96', '97',\n",
              "       '100', '99'], dtype=object)"
            ]
          },
          "metadata": {},
          "execution_count": 19
        }
      ]
    },
    {
      "cell_type": "code",
      "source": [
        "# Clean & Convert\n",
        "life_df.percentage = life_df.percentage.replace(\":\", 0)\n",
        "life_df.percentage = life_df.percentage.astype(int)"
      ],
      "metadata": {
        "id": "ZMNqomPSueG5"
      },
      "execution_count": 20,
      "outputs": []
    },
    {
      "cell_type": "markdown",
      "source": [
        "## Openess\n",
        "### Category G1"
      ],
      "metadata": {
        "id": "UfIWJ0UyuhCW"
      }
    },
    {
      "cell_type": "code",
      "source": [
        "g1_df = life_df.loc[life_df.question_code.str.contains(\"g1\")]\n",
        "g1_df.shape"
      ],
      "metadata": {
        "colab": {
          "base_uri": "https://localhost:8080/"
        },
        "id": "O4YZ7TU2umqT",
        "outputId": "b8381dda-c11f-474c-a45e-52c8d68dc29e"
      },
      "execution_count": 21,
      "outputs": [
        {
          "output_type": "execute_result",
          "data": {
            "text/plain": [
              "(580, 6)"
            ]
          },
          "metadata": {},
          "execution_count": 21
        }
      ]
    },
    {
      "cell_type": "code",
      "source": [
        "g1_df.question_label.unique()"
      ],
      "metadata": {
        "colab": {
          "base_uri": "https://localhost:8080/"
        },
        "id": "dl8ZE0sRu1kc",
        "outputId": "077934b5-b17e-457e-a45d-0b3a78b6abd9"
      },
      "execution_count": 22,
      "outputs": [
        {
          "output_type": "execute_result",
          "data": {
            "text/plain": [
              "array(['Does your current partner know that you are L, G, B or T?'],\n",
              "      dtype=object)"
            ]
          },
          "metadata": {},
          "execution_count": 22
        }
      ]
    },
    {
      "cell_type": "code",
      "source": [
        "g1_df.answer.unique()"
      ],
      "metadata": {
        "id": "cTeqzs9vvKgZ",
        "outputId": "f33858cf-903b-411e-da79-9840943d0d69",
        "colab": {
          "base_uri": "https://localhost:8080/"
        }
      },
      "execution_count": 23,
      "outputs": [
        {
          "output_type": "execute_result",
          "data": {
            "text/plain": [
              "array(['Yes', 'No', 'I do not have a partner (Does not apply to me)',\n",
              "       'Don`t know'], dtype=object)"
            ]
          },
          "metadata": {},
          "execution_count": 23
        }
      ]
    },
    {
      "cell_type": "code",
      "source": [
        "g1_df['score'] = np.zeros"
      ],
      "metadata": {
        "id": "5gIZOYGpvPyi",
        "outputId": "656b2f05-06e5-4d07-b25b-e6f3061b9dbc",
        "colab": {
          "base_uri": "https://localhost:8080/"
        }
      },
      "execution_count": 24,
      "outputs": [
        {
          "output_type": "stream",
          "name": "stderr",
          "text": [
            "<ipython-input-24-b282c47f0ac9>:1: SettingWithCopyWarning: \n",
            "A value is trying to be set on a copy of a slice from a DataFrame.\n",
            "Try using .loc[row_indexer,col_indexer] = value instead\n",
            "\n",
            "See the caveats in the documentation: https://pandas.pydata.org/pandas-docs/stable/user_guide/indexing.html#returning-a-view-versus-a-copy\n",
            "  g1_df['score'] = np.zeros\n"
          ]
        }
      ]
    },
    {
      "cell_type": "code",
      "source": [
        "g1_df.dtypes"
      ],
      "metadata": {
        "id": "6ur1R5YSvcLJ",
        "outputId": "54faf39f-28e2-4902-cbf1-15f40a648a10",
        "colab": {
          "base_uri": "https://localhost:8080/"
        }
      },
      "execution_count": 25,
      "outputs": [
        {
          "output_type": "execute_result",
          "data": {
            "text/plain": [
              "CountryCode       object\n",
              "subset            object\n",
              "question_code     object\n",
              "question_label    object\n",
              "answer            object\n",
              "percentage         int64\n",
              "score             object\n",
              "dtype: object"
            ]
          },
          "metadata": {},
          "execution_count": 25
        }
      ]
    },
    {
      "cell_type": "code",
      "source": [
        "g1_df.percentage = g1_df.percentage.replace(\":\", 0)  # dropna\n",
        "g1_df.percentage = g1_df.percentage.astype(int) # Cast to int"
      ],
      "metadata": {
        "id": "f6bv4yUCvgyl",
        "outputId": "4e65cbc0-93f7-4ed0-83a5-690decb4bf4a",
        "colab": {
          "base_uri": "https://localhost:8080/"
        }
      },
      "execution_count": 26,
      "outputs": [
        {
          "output_type": "stream",
          "name": "stderr",
          "text": [
            "/usr/local/lib/python3.8/dist-packages/pandas/core/generic.py:5516: SettingWithCopyWarning: \n",
            "A value is trying to be set on a copy of a slice from a DataFrame.\n",
            "Try using .loc[row_indexer,col_indexer] = value instead\n",
            "\n",
            "See the caveats in the documentation: https://pandas.pydata.org/pandas-docs/stable/user_guide/indexing.html#returning-a-view-versus-a-copy\n",
            "  self[name] = value\n"
          ]
        }
      ]
    },
    {
      "cell_type": "code",
      "source": [
        "# Define scoring for g1\n",
        "scoring_g1 = {\"Yes\": 1,\n",
        "              \"No\": -1,\n",
        "              \"I do not have a partner (Does not apply to me)\": 0,\n",
        "              \"Don`t know\": 0.5}\n",
        "\n",
        "# Apply scoring g1\n",
        "g1_df['score'] = g1_df.answer.map(scoring_g1).mul(g1_df.percentage)\n",
        "g1_df = g1_df.drop('percentage', axis=1)"
      ],
      "metadata": {
        "colab": {
          "base_uri": "https://localhost:8080/"
        },
        "id": "VqNpIeEPuiXH",
        "outputId": "4e296825-538c-41cb-9281-fb46fa73752a"
      },
      "execution_count": 27,
      "outputs": [
        {
          "output_type": "stream",
          "name": "stderr",
          "text": [
            "<ipython-input-27-d49c6fda4c77>:8: SettingWithCopyWarning: \n",
            "A value is trying to be set on a copy of a slice from a DataFrame.\n",
            "Try using .loc[row_indexer,col_indexer] = value instead\n",
            "\n",
            "See the caveats in the documentation: https://pandas.pydata.org/pandas-docs/stable/user_guide/indexing.html#returning-a-view-versus-a-copy\n",
            "  g1_df['score'] = g1_df.answer.map(scoring_g1).mul(g1_df.percentage)\n"
          ]
        }
      ]
    },
    {
      "cell_type": "code",
      "source": [
        "g1_df.head()"
      ],
      "metadata": {
        "id": "5XGI-bMNvu92",
        "outputId": "889274e6-12e0-4484-d7e3-312ed63fb4d4",
        "colab": {
          "base_uri": "https://localhost:8080/",
          "height": 206
        }
      },
      "execution_count": 28,
      "outputs": [
        {
          "output_type": "execute_result",
          "data": {
            "text/plain": [
              "      CountryCode   subset question_code  \\\n",
              "17139     Austria  Lesbian          g1_a   \n",
              "17140     Austria  Lesbian          g1_a   \n",
              "17141     Austria  Lesbian          g1_a   \n",
              "17142     Austria  Lesbian          g1_a   \n",
              "17143     Austria      Gay          g1_a   \n",
              "\n",
              "                                                  question_label  \\\n",
              "17139  Does your current partner know that you are L, G, B or T?   \n",
              "17140  Does your current partner know that you are L, G, B or T?   \n",
              "17141  Does your current partner know that you are L, G, B or T?   \n",
              "17142  Does your current partner know that you are L, G, B or T?   \n",
              "17143  Does your current partner know that you are L, G, B or T?   \n",
              "\n",
              "                                               answer  score  \n",
              "17139                                             Yes   75.0  \n",
              "17140                                              No   -0.0  \n",
              "17141  I do not have a partner (Does not apply to me)    0.0  \n",
              "17142                                      Don`t know    0.0  \n",
              "17143                                             Yes   60.0  "
            ],
            "text/html": [
              "\n",
              "  <div id=\"df-204f308c-41cb-4b81-b0eb-e843af51f15f\">\n",
              "    <div class=\"colab-df-container\">\n",
              "      <div>\n",
              "<style scoped>\n",
              "    .dataframe tbody tr th:only-of-type {\n",
              "        vertical-align: middle;\n",
              "    }\n",
              "\n",
              "    .dataframe tbody tr th {\n",
              "        vertical-align: top;\n",
              "    }\n",
              "\n",
              "    .dataframe thead th {\n",
              "        text-align: right;\n",
              "    }\n",
              "</style>\n",
              "<table border=\"1\" class=\"dataframe\">\n",
              "  <thead>\n",
              "    <tr style=\"text-align: right;\">\n",
              "      <th></th>\n",
              "      <th>CountryCode</th>\n",
              "      <th>subset</th>\n",
              "      <th>question_code</th>\n",
              "      <th>question_label</th>\n",
              "      <th>answer</th>\n",
              "      <th>score</th>\n",
              "    </tr>\n",
              "  </thead>\n",
              "  <tbody>\n",
              "    <tr>\n",
              "      <th>17139</th>\n",
              "      <td>Austria</td>\n",
              "      <td>Lesbian</td>\n",
              "      <td>g1_a</td>\n",
              "      <td>Does your current partner know that you are L, G, B or T?</td>\n",
              "      <td>Yes</td>\n",
              "      <td>75.0</td>\n",
              "    </tr>\n",
              "    <tr>\n",
              "      <th>17140</th>\n",
              "      <td>Austria</td>\n",
              "      <td>Lesbian</td>\n",
              "      <td>g1_a</td>\n",
              "      <td>Does your current partner know that you are L, G, B or T?</td>\n",
              "      <td>No</td>\n",
              "      <td>-0.0</td>\n",
              "    </tr>\n",
              "    <tr>\n",
              "      <th>17141</th>\n",
              "      <td>Austria</td>\n",
              "      <td>Lesbian</td>\n",
              "      <td>g1_a</td>\n",
              "      <td>Does your current partner know that you are L, G, B or T?</td>\n",
              "      <td>I do not have a partner (Does not apply to me)</td>\n",
              "      <td>0.0</td>\n",
              "    </tr>\n",
              "    <tr>\n",
              "      <th>17142</th>\n",
              "      <td>Austria</td>\n",
              "      <td>Lesbian</td>\n",
              "      <td>g1_a</td>\n",
              "      <td>Does your current partner know that you are L, G, B or T?</td>\n",
              "      <td>Don`t know</td>\n",
              "      <td>0.0</td>\n",
              "    </tr>\n",
              "    <tr>\n",
              "      <th>17143</th>\n",
              "      <td>Austria</td>\n",
              "      <td>Gay</td>\n",
              "      <td>g1_a</td>\n",
              "      <td>Does your current partner know that you are L, G, B or T?</td>\n",
              "      <td>Yes</td>\n",
              "      <td>60.0</td>\n",
              "    </tr>\n",
              "  </tbody>\n",
              "</table>\n",
              "</div>\n",
              "      <button class=\"colab-df-convert\" onclick=\"convertToInteractive('df-204f308c-41cb-4b81-b0eb-e843af51f15f')\"\n",
              "              title=\"Convert this dataframe to an interactive table.\"\n",
              "              style=\"display:none;\">\n",
              "        \n",
              "  <svg xmlns=\"http://www.w3.org/2000/svg\" height=\"24px\"viewBox=\"0 0 24 24\"\n",
              "       width=\"24px\">\n",
              "    <path d=\"M0 0h24v24H0V0z\" fill=\"none\"/>\n",
              "    <path d=\"M18.56 5.44l.94 2.06.94-2.06 2.06-.94-2.06-.94-.94-2.06-.94 2.06-2.06.94zm-11 1L8.5 8.5l.94-2.06 2.06-.94-2.06-.94L8.5 2.5l-.94 2.06-2.06.94zm10 10l.94 2.06.94-2.06 2.06-.94-2.06-.94-.94-2.06-.94 2.06-2.06.94z\"/><path d=\"M17.41 7.96l-1.37-1.37c-.4-.4-.92-.59-1.43-.59-.52 0-1.04.2-1.43.59L10.3 9.45l-7.72 7.72c-.78.78-.78 2.05 0 2.83L4 21.41c.39.39.9.59 1.41.59.51 0 1.02-.2 1.41-.59l7.78-7.78 2.81-2.81c.8-.78.8-2.07 0-2.86zM5.41 20L4 18.59l7.72-7.72 1.47 1.35L5.41 20z\"/>\n",
              "  </svg>\n",
              "      </button>\n",
              "      \n",
              "  <style>\n",
              "    .colab-df-container {\n",
              "      display:flex;\n",
              "      flex-wrap:wrap;\n",
              "      gap: 12px;\n",
              "    }\n",
              "\n",
              "    .colab-df-convert {\n",
              "      background-color: #E8F0FE;\n",
              "      border: none;\n",
              "      border-radius: 50%;\n",
              "      cursor: pointer;\n",
              "      display: none;\n",
              "      fill: #1967D2;\n",
              "      height: 32px;\n",
              "      padding: 0 0 0 0;\n",
              "      width: 32px;\n",
              "    }\n",
              "\n",
              "    .colab-df-convert:hover {\n",
              "      background-color: #E2EBFA;\n",
              "      box-shadow: 0px 1px 2px rgba(60, 64, 67, 0.3), 0px 1px 3px 1px rgba(60, 64, 67, 0.15);\n",
              "      fill: #174EA6;\n",
              "    }\n",
              "\n",
              "    [theme=dark] .colab-df-convert {\n",
              "      background-color: #3B4455;\n",
              "      fill: #D2E3FC;\n",
              "    }\n",
              "\n",
              "    [theme=dark] .colab-df-convert:hover {\n",
              "      background-color: #434B5C;\n",
              "      box-shadow: 0px 1px 3px 1px rgba(0, 0, 0, 0.15);\n",
              "      filter: drop-shadow(0px 1px 2px rgba(0, 0, 0, 0.3));\n",
              "      fill: #FFFFFF;\n",
              "    }\n",
              "  </style>\n",
              "\n",
              "      <script>\n",
              "        const buttonEl =\n",
              "          document.querySelector('#df-204f308c-41cb-4b81-b0eb-e843af51f15f button.colab-df-convert');\n",
              "        buttonEl.style.display =\n",
              "          google.colab.kernel.accessAllowed ? 'block' : 'none';\n",
              "\n",
              "        async function convertToInteractive(key) {\n",
              "          const element = document.querySelector('#df-204f308c-41cb-4b81-b0eb-e843af51f15f');\n",
              "          const dataTable =\n",
              "            await google.colab.kernel.invokeFunction('convertToInteractive',\n",
              "                                                     [key], {});\n",
              "          if (!dataTable) return;\n",
              "\n",
              "          const docLinkHtml = 'Like what you see? Visit the ' +\n",
              "            '<a target=\"_blank\" href=https://colab.research.google.com/notebooks/data_table.ipynb>data table notebook</a>'\n",
              "            + ' to learn more about interactive tables.';\n",
              "          element.innerHTML = '';\n",
              "          dataTable['output_type'] = 'display_data';\n",
              "          await google.colab.output.renderOutput(dataTable, element);\n",
              "          const docLink = document.createElement('div');\n",
              "          docLink.innerHTML = docLinkHtml;\n",
              "          element.appendChild(docLink);\n",
              "        }\n",
              "      </script>\n",
              "    </div>\n",
              "  </div>\n",
              "  "
            ]
          },
          "metadata": {},
          "execution_count": 28
        }
      ]
    },
    {
      "cell_type": "code",
      "source": [
        "g1_df = g1_df.loc[g1_df.subset.str.contains('Bisexual men|Bisexual women')]"
      ],
      "metadata": {
        "id": "il7dnCBBwpmO"
      },
      "execution_count": 29,
      "outputs": []
    },
    {
      "cell_type": "code",
      "source": [
        "fig=plt.figure(figsize=(15,3))\n",
        "plt.title(\"\tDoes your current partner know that you are L, G, B or T?\",family='Serif', weight='bold', size=15)\n",
        "ax = sns.barplot(x='score', y='CountryCode', hue='subset', data=g1_df.loc[g1_df.CountryCode.str.contains('Average')])"
      ],
      "metadata": {
        "id": "0PC1IAk7vnKa",
        "outputId": "2cfbdb3b-3382-40a1-a68b-81fb93021284",
        "colab": {
          "base_uri": "https://localhost:8080/",
          "height": 311
        }
      },
      "execution_count": 30,
      "outputs": [
        {
          "output_type": "stream",
          "name": "stderr",
          "text": [
            "/usr/local/lib/python3.8/dist-packages/matplotlib/backends/backend_agg.py:214: RuntimeWarning: Glyph 9 missing from current font.\n",
            "  font.set_text(s, 0.0, flags=flags)\n",
            "/usr/local/lib/python3.8/dist-packages/matplotlib/backends/backend_agg.py:183: RuntimeWarning: Glyph 9 missing from current font.\n",
            "  font.set_text(s, 0, flags=flags)\n"
          ]
        },
        {
          "output_type": "display_data",
          "data": {
            "text/plain": [
              "<Figure size 1080x216 with 1 Axes>"
            ],
            "image/png": "[encoded data removed]"
          },
          "metadata": {
            "needs_background": "light"
          }
        }
      ]
    },
    {
      "cell_type": "code",
      "source": [
        "g1_df.groupby('subset').mean().round(2)"
      ],
      "metadata": {
        "id": "LRGVCSMcwr_M",
        "outputId": "aa334f8b-83b9-4cb1-9b23-2a3474973bf7",
        "colab": {
          "base_uri": "https://localhost:8080/",
          "height": 143
        }
      },
      "execution_count": 31,
      "outputs": [
        {
          "output_type": "execute_result",
          "data": {
            "text/plain": [
              "                score\n",
              "subset               \n",
              "Bisexual men     6.05\n",
              "Bisexual women  13.19"
            ],
            "text/html": [
              "\n",
              "  <div id=\"df-e6461d70-061c-452a-84ba-fb545323ccff\">\n",
              "    <div class=\"colab-df-container\">\n",
              "      <div>\n",
              "<style scoped>\n",
              "    .dataframe tbody tr th:only-of-type {\n",
              "        vertical-align: middle;\n",
              "    }\n",
              "\n",
              "    .dataframe tbody tr th {\n",
              "        vertical-align: top;\n",
              "    }\n",
              "\n",
              "    .dataframe thead th {\n",
              "        text-align: right;\n",
              "    }\n",
              "</style>\n",
              "<table border=\"1\" class=\"dataframe\">\n",
              "  <thead>\n",
              "    <tr style=\"text-align: right;\">\n",
              "      <th></th>\n",
              "      <th>score</th>\n",
              "    </tr>\n",
              "    <tr>\n",
              "      <th>subset</th>\n",
              "      <th></th>\n",
              "    </tr>\n",
              "  </thead>\n",
              "  <tbody>\n",
              "    <tr>\n",
              "      <th>Bisexual men</th>\n",
              "      <td>6.05</td>\n",
              "    </tr>\n",
              "    <tr>\n",
              "      <th>Bisexual women</th>\n",
              "      <td>13.19</td>\n",
              "    </tr>\n",
              "  </tbody>\n",
              "</table>\n",
              "</div>\n",
              "      <button class=\"colab-df-convert\" onclick=\"convertToInteractive('df-e6461d70-061c-452a-84ba-fb545323ccff')\"\n",
              "              title=\"Convert this dataframe to an interactive table.\"\n",
              "              style=\"display:none;\">\n",
              "        \n",
              "  <svg xmlns=\"http://www.w3.org/2000/svg\" height=\"24px\"viewBox=\"0 0 24 24\"\n",
              "       width=\"24px\">\n",
              "    <path d=\"M0 0h24v24H0V0z\" fill=\"none\"/>\n",
              "    <path d=\"M18.56 5.44l.94 2.06.94-2.06 2.06-.94-2.06-.94-.94-2.06-.94 2.06-2.06.94zm-11 1L8.5 8.5l.94-2.06 2.06-.94-2.06-.94L8.5 2.5l-.94 2.06-2.06.94zm10 10l.94 2.06.94-2.06 2.06-.94-2.06-.94-.94-2.06-.94 2.06-2.06.94z\"/><path d=\"M17.41 7.96l-1.37-1.37c-.4-.4-.92-.59-1.43-.59-.52 0-1.04.2-1.43.59L10.3 9.45l-7.72 7.72c-.78.78-.78 2.05 0 2.83L4 21.41c.39.39.9.59 1.41.59.51 0 1.02-.2 1.41-.59l7.78-7.78 2.81-2.81c.8-.78.8-2.07 0-2.86zM5.41 20L4 18.59l7.72-7.72 1.47 1.35L5.41 20z\"/>\n",
              "  </svg>\n",
              "      </button>\n",
              "      \n",
              "  <style>\n",
              "    .colab-df-container {\n",
              "      display:flex;\n",
              "      flex-wrap:wrap;\n",
              "      gap: 12px;\n",
              "    }\n",
              "\n",
              "    .colab-df-convert {\n",
              "      background-color: #E8F0FE;\n",
              "      border: none;\n",
              "      border-radius: 50%;\n",
              "      cursor: pointer;\n",
              "      display: none;\n",
              "      fill: #1967D2;\n",
              "      height: 32px;\n",
              "      padding: 0 0 0 0;\n",
              "      width: 32px;\n",
              "    }\n",
              "\n",
              "    .colab-df-convert:hover {\n",
              "      background-color: #E2EBFA;\n",
              "      box-shadow: 0px 1px 2px rgba(60, 64, 67, 0.3), 0px 1px 3px 1px rgba(60, 64, 67, 0.15);\n",
              "      fill: #174EA6;\n",
              "    }\n",
              "\n",
              "    [theme=dark] .colab-df-convert {\n",
              "      background-color: #3B4455;\n",
              "      fill: #D2E3FC;\n",
              "    }\n",
              "\n",
              "    [theme=dark] .colab-df-convert:hover {\n",
              "      background-color: #434B5C;\n",
              "      box-shadow: 0px 1px 3px 1px rgba(0, 0, 0, 0.15);\n",
              "      filter: drop-shadow(0px 1px 2px rgba(0, 0, 0, 0.3));\n",
              "      fill: #FFFFFF;\n",
              "    }\n",
              "  </style>\n",
              "\n",
              "      <script>\n",
              "        const buttonEl =\n",
              "          document.querySelector('#df-e6461d70-061c-452a-84ba-fb545323ccff button.colab-df-convert');\n",
              "        buttonEl.style.display =\n",
              "          google.colab.kernel.accessAllowed ? 'block' : 'none';\n",
              "\n",
              "        async function convertToInteractive(key) {\n",
              "          const element = document.querySelector('#df-e6461d70-061c-452a-84ba-fb545323ccff');\n",
              "          const dataTable =\n",
              "            await google.colab.kernel.invokeFunction('convertToInteractive',\n",
              "                                                     [key], {});\n",
              "          if (!dataTable) return;\n",
              "\n",
              "          const docLinkHtml = 'Like what you see? Visit the ' +\n",
              "            '<a target=\"_blank\" href=https://colab.research.google.com/notebooks/data_table.ipynb>data table notebook</a>'\n",
              "            + ' to learn more about interactive tables.';\n",
              "          element.innerHTML = '';\n",
              "          dataTable['output_type'] = 'display_data';\n",
              "          await google.colab.output.renderOutput(dataTable, element);\n",
              "          const docLink = document.createElement('div');\n",
              "          docLink.innerHTML = docLinkHtml;\n",
              "          element.appendChild(docLink);\n",
              "        }\n",
              "      </script>\n",
              "    </div>\n",
              "  </div>\n",
              "  "
            ]
          },
          "metadata": {},
          "execution_count": 31
        }
      ]
    }
  ],
  "metadata": {
    "kernelspec": {
      "display_name": "env",
      "language": "python",
      "name": "python3"
    },
    "language_info": {
      "codemirror_mode": {
        "name": "ipython",
        "version": 3
      },
      "file_extension": ".py",
      "mimetype": "text/x-python",
      "name": "python",
      "nbconvert_exporter": "python",
      "pygments_lexer": "ipython3",
      "version": "3.11.1"
    },
    "orig_nbformat": 4,
    "vscode": {
      "interpreter": {
        "hash": "7b2ee9b949dda8457f98bf909cd2e0e769552971eecca2c51ae048ca552305da"
      }
    },
    "colab": {
      "provenance": [],
      "include_colab_link": true
    }
  },
  "nbformat": 4,
  "nbformat_minor": 0
}