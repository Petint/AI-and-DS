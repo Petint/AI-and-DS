{
 "cells": [
  {
   "cell_type": "markdown",
   "metadata": {},
   "source": [
    "# DS5"
   ]
  },
  {
   "cell_type": "code",
   "execution_count": 15,
   "metadata": {},
   "outputs": [],
   "source": [
    "import pandas as pd\n",
    "import numpy as np\n",
    "from matplotlib import pyplot as plt\n",
    "import scipy\n",
    "import geopy\n",
    "import folium"
   ]
  },
  {
   "cell_type": "markdown",
   "metadata": {},
   "source": [
    "## Prep"
   ]
  },
  {
   "cell_type": "code",
   "execution_count": 16,
   "metadata": {},
   "outputs": [
    {
     "data": {
      "text/html": [
       "<div>\n",
       "<style scoped>\n",
       "    .dataframe tbody tr th:only-of-type {\n",
       "        vertical-align: middle;\n",
       "    }\n",
       "\n",
       "    .dataframe tbody tr th {\n",
       "        vertical-align: top;\n",
       "    }\n",
       "\n",
       "    .dataframe thead th {\n",
       "        text-align: right;\n",
       "    }\n",
       "</style>\n",
       "<table border=\"1\" class=\"dataframe\">\n",
       "  <thead>\n",
       "    <tr style=\"text-align: right;\">\n",
       "      <th></th>\n",
       "      <th>City</th>\n",
       "      <th>Street Address</th>\n",
       "      <th>Longitude</th>\n",
       "      <th>Latitude</th>\n",
       "    </tr>\n",
       "  </thead>\n",
       "  <tbody>\n",
       "    <tr>\n",
       "      <th>20644</th>\n",
       "      <td>Las Vegas</td>\n",
       "      <td>4507 Flamingo Rd</td>\n",
       "      <td>-115.20</td>\n",
       "      <td>36.12</td>\n",
       "    </tr>\n",
       "    <tr>\n",
       "      <th>20645</th>\n",
       "      <td>Las Vegas</td>\n",
       "      <td>475 E Windmill Lane, Fashion Show</td>\n",
       "      <td>-115.15</td>\n",
       "      <td>36.04</td>\n",
       "    </tr>\n",
       "    <tr>\n",
       "      <th>20646</th>\n",
       "      <td>Las Vegas</td>\n",
       "      <td>3200 LAS VEGAS BLVD. S., STE 1795</td>\n",
       "      <td>-115.17</td>\n",
       "      <td>36.13</td>\n",
       "    </tr>\n",
       "    <tr>\n",
       "      <th>20647</th>\n",
       "      <td>Las Vegas</td>\n",
       "      <td>8350 W Cheyenne Ave</td>\n",
       "      <td>-115.28</td>\n",
       "      <td>36.22</td>\n",
       "    </tr>\n",
       "    <tr>\n",
       "      <th>20648</th>\n",
       "      <td>Las Vegas</td>\n",
       "      <td>3730 LAS VEGAS BLVD S</td>\n",
       "      <td>-115.18</td>\n",
       "      <td>36.11</td>\n",
       "    </tr>\n",
       "  </tbody>\n",
       "</table>\n",
       "</div>"
      ],
      "text/plain": [
       "            City                     Street Address  Longitude  Latitude\n",
       "20644  Las Vegas                   4507 Flamingo Rd    -115.20     36.12\n",
       "20645  Las Vegas  475 E Windmill Lane, Fashion Show    -115.15     36.04\n",
       "20646  Las Vegas  3200 LAS VEGAS BLVD. S., STE 1795    -115.17     36.13\n",
       "20647  Las Vegas                8350 W Cheyenne Ave    -115.28     36.22\n",
       "20648  Las Vegas              3730 LAS VEGAS BLVD S    -115.18     36.11"
      ]
     },
     "execution_count": 16,
     "metadata": {},
     "output_type": "execute_result"
    }
   ],
   "source": [
    "dtf = pd.read_csv(\"./directory.csv\")\n",
    "dtf = dtf[dtf[\"City\"] == 'Las Vegas']\n",
    "dtf = dtf[[\"City\", 'Street Address', 'Longitude', 'Latitude']]\n",
    "dtf.head()"
   ]
  },
  {
   "cell_type": "markdown",
   "metadata": {},
   "source": [
    "## Der neun columns"
   ]
  },
  {
   "cell_type": "code",
   "execution_count": 18,
   "metadata": {},
   "outputs": [
    {
     "data": {
      "text/html": [
       "<div>\n",
       "<style scoped>\n",
       "    .dataframe tbody tr th:only-of-type {\n",
       "        vertical-align: middle;\n",
       "    }\n",
       "\n",
       "    .dataframe tbody tr th {\n",
       "        vertical-align: top;\n",
       "    }\n",
       "\n",
       "    .dataframe thead th {\n",
       "        text-align: right;\n",
       "    }\n",
       "</style>\n",
       "<table border=\"1\" class=\"dataframe\">\n",
       "  <thead>\n",
       "    <tr style=\"text-align: right;\">\n",
       "      <th></th>\n",
       "      <th>City</th>\n",
       "      <th>Street Address</th>\n",
       "      <th>Longitude</th>\n",
       "      <th>Latitude</th>\n",
       "      <th>Potential</th>\n",
       "      <th>Staff</th>\n",
       "      <th>Capacity</th>\n",
       "      <th>cost</th>\n",
       "    </tr>\n",
       "  </thead>\n",
       "  <tbody>\n",
       "    <tr>\n",
       "      <th>20644</th>\n",
       "      <td>Las Vegas</td>\n",
       "      <td>4507 Flamingo Rd</td>\n",
       "      <td>-115.20</td>\n",
       "      <td>36.12</td>\n",
       "      <td>3</td>\n",
       "      <td>1</td>\n",
       "      <td>2</td>\n",
       "      <td>high</td>\n",
       "    </tr>\n",
       "    <tr>\n",
       "      <th>20645</th>\n",
       "      <td>Las Vegas</td>\n",
       "      <td>475 E Windmill Lane, Fashion Show</td>\n",
       "      <td>-115.15</td>\n",
       "      <td>36.04</td>\n",
       "      <td>4</td>\n",
       "      <td>3</td>\n",
       "      <td>1</td>\n",
       "      <td>medium</td>\n",
       "    </tr>\n",
       "    <tr>\n",
       "      <th>20646</th>\n",
       "      <td>Las Vegas</td>\n",
       "      <td>3200 LAS VEGAS BLVD. S., STE 1795</td>\n",
       "      <td>-115.17</td>\n",
       "      <td>36.13</td>\n",
       "      <td>4</td>\n",
       "      <td>3</td>\n",
       "      <td>1</td>\n",
       "      <td>medium</td>\n",
       "    </tr>\n",
       "    <tr>\n",
       "      <th>20647</th>\n",
       "      <td>Las Vegas</td>\n",
       "      <td>8350 W Cheyenne Ave</td>\n",
       "      <td>-115.28</td>\n",
       "      <td>36.22</td>\n",
       "      <td>5</td>\n",
       "      <td>4</td>\n",
       "      <td>1</td>\n",
       "      <td>high</td>\n",
       "    </tr>\n",
       "    <tr>\n",
       "      <th>20648</th>\n",
       "      <td>Las Vegas</td>\n",
       "      <td>3730 LAS VEGAS BLVD S</td>\n",
       "      <td>-115.18</td>\n",
       "      <td>36.11</td>\n",
       "      <td>7</td>\n",
       "      <td>6</td>\n",
       "      <td>1</td>\n",
       "      <td>high</td>\n",
       "    </tr>\n",
       "  </tbody>\n",
       "</table>\n",
       "</div>"
      ],
      "text/plain": [
       "            City                     Street Address  Longitude  Latitude  \\\n",
       "20644  Las Vegas                   4507 Flamingo Rd    -115.20     36.12   \n",
       "20645  Las Vegas  475 E Windmill Lane, Fashion Show    -115.15     36.04   \n",
       "20646  Las Vegas  3200 LAS VEGAS BLVD. S., STE 1795    -115.17     36.13   \n",
       "20647  Las Vegas                8350 W Cheyenne Ave    -115.28     36.22   \n",
       "20648  Las Vegas              3730 LAS VEGAS BLVD S    -115.18     36.11   \n",
       "\n",
       "       Potential  Staff  Capacity    cost  \n",
       "20644          3      1         2    high  \n",
       "20645          4      3         1  medium  \n",
       "20646          4      3         1  medium  \n",
       "20647          5      4         1    high  \n",
       "20648          7      6         1    high  "
      ]
     },
     "execution_count": 18,
     "metadata": {},
     "output_type": "execute_result"
    }
   ],
   "source": [
    "dtf['Potential'] = np.random.randint(low=3, high=11, size=len(dtf))\n",
    "dtf['Staff'] = dtf['Potential'].apply(lambda x: int(np.random.rand()*x)+1)\n",
    "dtf['Capacity'] = dtf['Potential'] - dtf['Staff']\n",
    "dtf[\"cost\"] = np.random.choice (['high', 'medium', 'low'], size=len(dtf), p=[0.4, 0.5, 0.1])\n",
    "dtf.head()"
   ]
  }
 ],
 "metadata": {
  "kernelspec": {
   "display_name": "Python 3.9.13 64-bit (microsoft store)",
   "language": "python",
   "name": "python3"
  },
  "language_info": {
   "codemirror_mode": {
    "name": "ipython",
    "version": 3
   },
   "file_extension": ".py",
   "mimetype": "text/x-python",
   "name": "python",
   "nbconvert_exporter": "python",
   "pygments_lexer": "ipython3",
   "version": "3.9.13"
  },
  "orig_nbformat": 4,
  "vscode": {
   "interpreter": {
    "hash": "8f600195697513566cfd9921234c84dcffd7ac51592eaa46493c69d7051ed246"
   }
  }
 },
 "nbformat": 4,
 "nbformat_minor": 2
}
