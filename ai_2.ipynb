{
  "nbformat": 4,
  "nbformat_minor": 0,
  "metadata": {
    "colab": {
      "provenance": [],
      "authorship_tag": "ABX9TyMhVzfOGtyy2AkGBe1CdHHC",
      "include_colab_link": true
    },
    "kernelspec": {
      "name": "python3",
      "display_name": "Python 3"
    },
    "language_info": {
      "name": "python"
    }
  },
  "cells": [
    {
      "cell_type": "markdown",
      "metadata": {
        "id": "view-in-github",
        "colab_type": "text"
      },
      "source": [
        "<a href=\"https://colab.research.google.com/github/Petint/AI-and-DS/blob/main/ai_2.ipynb\" target=\"_parent\"><img src=\"https://colab.research.google.com/assets/colab-badge.svg\" alt=\"Open In Colab\"/></a>"
      ]
    },
    {
      "cell_type": "markdown",
      "source": [
        "# AI-2"
      ],
      "metadata": {
        "id": "TPOEgAYIsF19"
      }
    },
    {
      "cell_type": "code",
      "execution_count": 32,
      "metadata": {
        "id": "17cLlFlosDCy"
      },
      "outputs": [],
      "source": [
        "# Import all necessary\n",
        "import numpy as np\n",
        "import matplotlib.pyplot as plt\n",
        "import os\n",
        "import cv2 as cv\n",
        "\n",
        "from sklearn.preprocessing import LabelBinarizer\n",
        "from sklearn.model_selection import train_test_split\n",
        "\n",
        "from keras.models import Sequential\n",
        "from keras.layers import Conv2D, Dense, Flatten, MaxPooling2D\n",
        "from keras.layers import BatchNormalization, Activation, Dropout\n",
        "from keras.preprocessing.image import ImageDataGenerator"
      ]
    },
    {
      "cell_type": "markdown",
      "source": [
        "# Connect to drive"
      ],
      "metadata": {
        "id": "xI6mnQmqthIb"
      }
    },
    {
      "cell_type": "code",
      "source": [],
      "metadata": {
        "id": "KvBlufiHtE6b"
      },
      "execution_count": 32,
      "outputs": []
    },
    {
      "cell_type": "code",
      "source": [
        "from google.colab import drive\n",
        "drive.mount('/content/drive')"
      ],
      "metadata": {
        "colab": {
          "base_uri": "https://localhost:8080/"
        },
        "id": "oNOSNJdOtkh8",
        "outputId": "21060172-6108-4577-a224-d2ffcea4e193"
      },
      "execution_count": 33,
      "outputs": [
        {
          "output_type": "stream",
          "name": "stdout",
          "text": [
            "Drive already mounted at /content/drive; to attempt to forcibly remount, call drive.mount(\"/content/drive\", force_remount=True).\n"
          ]
        }
      ]
    },
    {
      "cell_type": "markdown",
      "source": [
        "# Dara prep"
      ],
      "metadata": {
        "id": "mumRppexuNcM"
      }
    },
    {
      "cell_type": "code",
      "source": [
        "path = '/content/drive/MyDrive/cropped_images/'\n",
        "input_shape = (96, 96, 3)\n",
        "x = []\n",
        "y = []\n",
        "\n",
        "for folder in os.listdir(path):\n",
        "  for images in os.listdir(os.path.join(path, folder)):\n",
        "    imagepath = os.path.join(path, folder, images)\n",
        "    image = cv.imread(imagepath)\n",
        "    image = cv.resize(image, (input_shape[1], input_shape[0]))\n",
        "    label = folder.replace('_', ' ')\n",
        "    x.append(image)\n",
        "    y.append(label)"
      ],
      "metadata": {
        "id": "U96X20MMuPVH"
      },
      "execution_count": 34,
      "outputs": []
    },
    {
      "cell_type": "markdown",
      "source": [
        "# Norm"
      ],
      "metadata": {
        "id": "YZR5wMKjy61h"
      }
    },
    {
      "cell_type": "code",
      "source": [
        "x = np.array(x) / 255.0\n",
        "y = np.array(y)\n",
        "# Herbalizer\n",
        "names = np.unique(y)\n",
        "print(names)\n",
        "print(y[60])\n",
        "mlb = LabelBinarizer()\n",
        "y = mlb.fit_transform(y)\n",
        "print(y[60])\n"
      ],
      "metadata": {
        "colab": {
          "base_uri": "https://localhost:8080/"
        },
        "id": "EAQsduVmy8f4",
        "outputId": "3118c989-0961-4ee5-cba6-ce10887c97dc"
      },
      "execution_count": 35,
      "outputs": [
        {
          "output_type": "stream",
          "name": "stdout",
          "text": [
            "['chris evans' 'chris hemsworth' 'mark ruffalo' 'robert downey jr'\n",
            " 'scarlett johansson']\n",
            "robert downey jr\n",
            "[0 0 0 1 0]\n"
          ]
        }
      ]
    },
    {
      "cell_type": "markdown",
      "source": [
        "# Train - test - validate"
      ],
      "metadata": {
        "id": "5mwEGqQDz1SI"
      }
    },
    {
      "cell_type": "code",
      "source": [
        "x, x_test, y, y_test, =train_test_split(x, y, test_size=0.1, random_state=1)\n",
        "x_train, x_val, y_train, y_val, =train_test_split(x, y, test_size=0.2, random_state=1)\n",
        "\n",
        "print(x.shape, x_test.shape, y.shape, y_test.shape)\n",
        "print(x_train.shape, x_val.shape, y_train.shape, y_val.shape)"
      ],
      "metadata": {
        "colab": {
          "base_uri": "https://localhost:8080/"
        },
        "id": "o8ntvyYNz8HE",
        "outputId": "eed064cb-4de7-43b6-ea12-a3eab85060e9"
      },
      "execution_count": 36,
      "outputs": [
        {
          "output_type": "stream",
          "name": "stdout",
          "text": [
            "(246, 96, 96, 3) (28, 96, 96, 3) (246, 5) (28, 5)\n",
            "(196, 96, 96, 3) (50, 96, 96, 3) (196, 5) (50, 5)\n"
          ]
        }
      ]
    },
    {
      "cell_type": "markdown",
      "source": [
        "# Datagen"
      ],
      "metadata": {
        "id": "WBgerwb62qYq"
      }
    },
    {
      "cell_type": "code",
      "source": [
        "datagen = ImageDataGenerator(\n",
        "    rotation_range=45,\n",
        "    width_shift_range=0.1,\n",
        "    height_shift_range=0.1,\n",
        "    zoom_range=0.2,\n",
        "    horizontal_flip=True,\n",
        "    validation_split=0.2,\n",
        ")"
      ],
      "metadata": {
        "id": "vQA1PDpZ2sEI"
      },
      "execution_count": 37,
      "outputs": []
    },
    {
      "cell_type": "markdown",
      "source": [
        "# Make Shrek have layers"
      ],
      "metadata": {
        "id": "X32QT5y86xLb"
      }
    },
    {
      "cell_type": "code",
      "source": [
        "onion = Sequential()\n",
        "# Layer 1\n",
        "onion.add(Conv2D(32, 3, input_shape=input_shape, activation='relu'))\n",
        "onion.add(MaxPooling2D(3))\n",
        "onion.add(Dropout(0.25))\n",
        "# Layer 2\n",
        "onion.add(Conv2D(64, 3, padding='same', activation='relu'))\n",
        "onion.add(Conv2D(64, 3, padding='same', activation='relu'))\n",
        "onion.add(MaxPooling2D())\n",
        "onion.add(Dropout(0.25))\n",
        "# Layer 3\n",
        "onion.add(Conv2D(128, 3, padding='same', activation='relu'))\n",
        "onion.add(Conv2D(128, 2, padding='same', activation='relu'))\n",
        "onion.add(MaxPooling2D())\n",
        "onion.add(Dropout(0.25))\n",
        "# Layer 4\n",
        "onion.add(Flatten())\n",
        "onion.add(Dense(1024, activation='relu'))\n",
        "# Layer 5\n",
        "onion.add(Dense(len(mlb.classes_), activation='softmax'))\n",
        "\n",
        "onion.summary()"
      ],
      "metadata": {
        "colab": {
          "base_uri": "https://localhost:8080/"
        },
        "id": "59pIfqrb62WW",
        "outputId": "1d5818f7-8e74-43a8-acf5-5ae6c60edd54"
      },
      "execution_count": 38,
      "outputs": [
        {
          "output_type": "stream",
          "name": "stdout",
          "text": [
            "Model: \"sequential_1\"\n",
            "_________________________________________________________________\n",
            " Layer (type)                Output Shape              Param #   \n",
            "=================================================================\n",
            " conv2d_5 (Conv2D)           (None, 94, 94, 32)        896       \n",
            "                                                                 \n",
            " max_pooling2d_3 (MaxPooling  (None, 31, 31, 32)       0         \n",
            " 2D)                                                             \n",
            "                                                                 \n",
            " dropout_3 (Dropout)         (None, 31, 31, 32)        0         \n",
            "                                                                 \n",
            " conv2d_6 (Conv2D)           (None, 31, 31, 64)        18496     \n",
            "                                                                 \n",
            " conv2d_7 (Conv2D)           (None, 31, 31, 64)        36928     \n",
            "                                                                 \n",
            " max_pooling2d_4 (MaxPooling  (None, 15, 15, 64)       0         \n",
            " 2D)                                                             \n",
            "                                                                 \n",
            " dropout_4 (Dropout)         (None, 15, 15, 64)        0         \n",
            "                                                                 \n",
            " conv2d_8 (Conv2D)           (None, 15, 15, 128)       73856     \n",
            "                                                                 \n",
            " conv2d_9 (Conv2D)           (None, 15, 15, 128)       65664     \n",
            "                                                                 \n",
            " max_pooling2d_5 (MaxPooling  (None, 7, 7, 128)        0         \n",
            " 2D)                                                             \n",
            "                                                                 \n",
            " dropout_5 (Dropout)         (None, 7, 7, 128)         0         \n",
            "                                                                 \n",
            " flatten_1 (Flatten)         (None, 6272)              0         \n",
            "                                                                 \n",
            " dense_2 (Dense)             (None, 1024)              6423552   \n",
            "                                                                 \n",
            " dense_3 (Dense)             (None, 5)                 5125      \n",
            "                                                                 \n",
            "=================================================================\n",
            "Total params: 6,624,517\n",
            "Trainable params: 6,624,517\n",
            "Non-trainable params: 0\n",
            "_________________________________________________________________\n"
          ]
        }
      ]
    },
    {
      "cell_type": "markdown",
      "source": [
        "# Fti moddel"
      ],
      "metadata": {
        "id": "45_r_vPr9sW6"
      }
    },
    {
      "cell_type": "code",
      "source": [
        "onion.compile(optimizer='adam', loss='categorical_crossentropy', metrics=['accuracy', 'AUC'])\n",
        "onion.fit(datagen.flow(x_train, y_train, batch_size=128), validation_data=(x_val, y_val), epochs=100)"
      ],
      "metadata": {
        "colab": {
          "base_uri": "https://localhost:8080/"
        },
        "id": "PjweIf8K9r53",
        "outputId": "190210bc-b3d2-473d-d009-876f01bede2c"
      },
      "execution_count": 39,
      "outputs": [
        {
          "output_type": "stream",
          "name": "stdout",
          "text": [
            "Epoch 1/100\n",
            "2/2 [==============================] - 8s 2s/step - loss: 1.9118 - accuracy: 0.1684 - auc: 0.4904 - val_loss: 1.5954 - val_accuracy: 0.2800 - val_auc: 0.5482\n",
            "Epoch 2/100\n",
            "2/2 [==============================] - 5s 3s/step - loss: 1.6182 - accuracy: 0.2449 - auc: 0.5259 - val_loss: 1.6053 - val_accuracy: 0.3200 - val_auc: 0.5740\n",
            "Epoch 3/100\n",
            "2/2 [==============================] - 5s 3s/step - loss: 1.6070 - accuracy: 0.2143 - auc: 0.5315 - val_loss: 1.6085 - val_accuracy: 0.2000 - val_auc: 0.5464\n",
            "Epoch 4/100\n",
            "2/2 [==============================] - 5s 2s/step - loss: 1.6097 - accuracy: 0.1684 - auc: 0.5045 - val_loss: 1.6076 - val_accuracy: 0.2800 - val_auc: 0.5427\n",
            "Epoch 5/100\n",
            "2/2 [==============================] - 5s 3s/step - loss: 1.6060 - accuracy: 0.2500 - auc: 0.5322 - val_loss: 1.6025 - val_accuracy: 0.2800 - val_auc: 0.5441\n",
            "Epoch 6/100\n",
            "2/2 [==============================] - 5s 2s/step - loss: 1.6037 - accuracy: 0.2449 - auc: 0.5323 - val_loss: 1.5980 - val_accuracy: 0.2800 - val_auc: 0.5643\n",
            "Epoch 7/100\n",
            "2/2 [==============================] - 5s 2s/step - loss: 1.6025 - accuracy: 0.2449 - auc: 0.5468 - val_loss: 1.5962 - val_accuracy: 0.2800 - val_auc: 0.5673\n",
            "Epoch 8/100\n",
            "2/2 [==============================] - 5s 3s/step - loss: 1.6048 - accuracy: 0.2449 - auc: 0.5275 - val_loss: 1.6013 - val_accuracy: 0.2800 - val_auc: 0.5397\n",
            "Epoch 9/100\n",
            "2/2 [==============================] - 5s 3s/step - loss: 1.6056 - accuracy: 0.2449 - auc: 0.5345 - val_loss: 1.6057 - val_accuracy: 0.2800 - val_auc: 0.5085\n",
            "Epoch 10/100\n",
            "2/2 [==============================] - 5s 3s/step - loss: 1.6040 - accuracy: 0.2449 - auc: 0.5327 - val_loss: 1.6062 - val_accuracy: 0.2800 - val_auc: 0.5195\n",
            "Epoch 11/100\n",
            "2/2 [==============================] - 5s 2s/step - loss: 1.6045 - accuracy: 0.2449 - auc: 0.5325 - val_loss: 1.6044 - val_accuracy: 0.2800 - val_auc: 0.5095\n",
            "Epoch 12/100\n",
            "2/2 [==============================] - 5s 2s/step - loss: 1.6029 - accuracy: 0.2449 - auc: 0.5426 - val_loss: 1.6020 - val_accuracy: 0.2800 - val_auc: 0.5269\n",
            "Epoch 13/100\n",
            "2/2 [==============================] - 4s 2s/step - loss: 1.6024 - accuracy: 0.2449 - auc: 0.5378 - val_loss: 1.6003 - val_accuracy: 0.2800 - val_auc: 0.5332\n",
            "Epoch 14/100\n",
            "2/2 [==============================] - 5s 3s/step - loss: 1.6029 - accuracy: 0.2449 - auc: 0.5319 - val_loss: 1.5976 - val_accuracy: 0.2800 - val_auc: 0.5731\n",
            "Epoch 15/100\n",
            "2/2 [==============================] - 4s 2s/step - loss: 1.6028 - accuracy: 0.2449 - auc: 0.5468 - val_loss: 1.5962 - val_accuracy: 0.2800 - val_auc: 0.5698\n",
            "Epoch 16/100\n",
            "2/2 [==============================] - 4s 2s/step - loss: 1.6008 - accuracy: 0.2449 - auc: 0.5441 - val_loss: 1.5946 - val_accuracy: 0.2800 - val_auc: 0.5798\n",
            "Epoch 17/100\n",
            "2/2 [==============================] - 4s 2s/step - loss: 1.5999 - accuracy: 0.2449 - auc: 0.5606 - val_loss: 1.5923 - val_accuracy: 0.2800 - val_auc: 0.5774\n",
            "Epoch 18/100\n",
            "2/2 [==============================] - 4s 2s/step - loss: 1.6000 - accuracy: 0.2449 - auc: 0.5651 - val_loss: 1.5933 - val_accuracy: 0.2800 - val_auc: 0.5606\n",
            "Epoch 19/100\n",
            "2/2 [==============================] - 4s 2s/step - loss: 1.5991 - accuracy: 0.2449 - auc: 0.5628 - val_loss: 1.5931 - val_accuracy: 0.2800 - val_auc: 0.5625\n",
            "Epoch 20/100\n",
            "2/2 [==============================] - 5s 3s/step - loss: 1.5984 - accuracy: 0.2449 - auc: 0.5580 - val_loss: 1.5967 - val_accuracy: 0.2800 - val_auc: 0.5828\n",
            "Epoch 21/100\n",
            "2/2 [==============================] - 4s 3s/step - loss: 1.5985 - accuracy: 0.2500 - auc: 0.5652 - val_loss: 1.5977 - val_accuracy: 0.3000 - val_auc: 0.5810\n",
            "Epoch 22/100\n",
            "2/2 [==============================] - 4s 2s/step - loss: 1.5996 - accuracy: 0.2500 - auc: 0.5600 - val_loss: 1.5977 - val_accuracy: 0.2800 - val_auc: 0.5754\n",
            "Epoch 23/100\n",
            "2/2 [==============================] - 4s 2s/step - loss: 1.5996 - accuracy: 0.2449 - auc: 0.5593 - val_loss: 1.5917 - val_accuracy: 0.2800 - val_auc: 0.6132\n",
            "Epoch 24/100\n",
            "2/2 [==============================] - 4s 3s/step - loss: 1.5976 - accuracy: 0.2602 - auc: 0.5529 - val_loss: 1.5891 - val_accuracy: 0.2800 - val_auc: 0.6055\n",
            "Epoch 25/100\n",
            "2/2 [==============================] - 4s 2s/step - loss: 1.5927 - accuracy: 0.2500 - auc: 0.5689 - val_loss: 1.5944 - val_accuracy: 0.2600 - val_auc: 0.5853\n",
            "Epoch 26/100\n",
            "2/2 [==============================] - 5s 2s/step - loss: 1.5894 - accuracy: 0.2551 - auc: 0.5795 - val_loss: 1.5955 - val_accuracy: 0.2600 - val_auc: 0.5889\n",
            "Epoch 27/100\n",
            "2/2 [==============================] - 5s 3s/step - loss: 1.5868 - accuracy: 0.2551 - auc: 0.5856 - val_loss: 1.5768 - val_accuracy: 0.2800 - val_auc: 0.6212\n",
            "Epoch 28/100\n",
            "2/2 [==============================] - 4s 3s/step - loss: 1.5866 - accuracy: 0.2500 - auc: 0.5800 - val_loss: 1.5748 - val_accuracy: 0.2800 - val_auc: 0.6199\n",
            "Epoch 29/100\n",
            "2/2 [==============================] - 5s 3s/step - loss: 1.5919 - accuracy: 0.2551 - auc: 0.5649 - val_loss: 1.5979 - val_accuracy: 0.1800 - val_auc: 0.5410\n",
            "Epoch 30/100\n",
            "2/2 [==============================] - 4s 3s/step - loss: 1.5628 - accuracy: 0.2959 - auc: 0.6502 - val_loss: 1.5566 - val_accuracy: 0.4400 - val_auc: 0.6621\n",
            "Epoch 31/100\n",
            "2/2 [==============================] - 5s 2s/step - loss: 1.5657 - accuracy: 0.3061 - auc: 0.6114 - val_loss: 1.5870 - val_accuracy: 0.2600 - val_auc: 0.5641\n",
            "Epoch 32/100\n",
            "2/2 [==============================] - 5s 2s/step - loss: 1.5856 - accuracy: 0.2500 - auc: 0.5828 - val_loss: 1.6034 - val_accuracy: 0.1800 - val_auc: 0.5364\n",
            "Epoch 33/100\n",
            "2/2 [==============================] - 4s 3s/step - loss: 1.6074 - accuracy: 0.2041 - auc: 0.5306 - val_loss: 1.5941 - val_accuracy: 0.1200 - val_auc: 0.5677\n",
            "Epoch 34/100\n",
            "2/2 [==============================] - 4s 3s/step - loss: 1.5847 - accuracy: 0.2347 - auc: 0.5841 - val_loss: 1.5636 - val_accuracy: 0.3200 - val_auc: 0.6572\n",
            "Epoch 35/100\n",
            "2/2 [==============================] - 5s 3s/step - loss: 1.5668 - accuracy: 0.3112 - auc: 0.6144 - val_loss: 1.5922 - val_accuracy: 0.2600 - val_auc: 0.5590\n",
            "Epoch 36/100\n",
            "2/2 [==============================] - 5s 2s/step - loss: 1.5677 - accuracy: 0.2653 - auc: 0.5973 - val_loss: 1.5678 - val_accuracy: 0.2800 - val_auc: 0.5854\n",
            "Epoch 37/100\n",
            "2/2 [==============================] - 5s 3s/step - loss: 1.5781 - accuracy: 0.2500 - auc: 0.5986 - val_loss: 1.5448 - val_accuracy: 0.2800 - val_auc: 0.6515\n",
            "Epoch 38/100\n",
            "2/2 [==============================] - 4s 3s/step - loss: 1.5657 - accuracy: 0.2704 - auc: 0.6087 - val_loss: 1.5710 - val_accuracy: 0.2400 - val_auc: 0.5892\n",
            "Epoch 39/100\n",
            "2/2 [==============================] - 6s 5s/step - loss: 1.5600 - accuracy: 0.2959 - auc: 0.6229 - val_loss: 1.5304 - val_accuracy: 0.4200 - val_auc: 0.6962\n",
            "Epoch 40/100\n",
            "2/2 [==============================] - 4s 3s/step - loss: 1.5621 - accuracy: 0.2908 - auc: 0.6165 - val_loss: 1.5777 - val_accuracy: 0.1600 - val_auc: 0.5704\n",
            "Epoch 41/100\n",
            "2/2 [==============================] - 5s 2s/step - loss: 1.5432 - accuracy: 0.3776 - auc: 0.6524 - val_loss: 1.5081 - val_accuracy: 0.5000 - val_auc: 0.7026\n",
            "Epoch 42/100\n",
            "2/2 [==============================] - 4s 3s/step - loss: 1.5591 - accuracy: 0.3316 - auc: 0.6163 - val_loss: 1.5500 - val_accuracy: 0.3000 - val_auc: 0.6174\n",
            "Epoch 43/100\n",
            "2/2 [==============================] - 5s 2s/step - loss: 1.5424 - accuracy: 0.2704 - auc: 0.6252 - val_loss: 1.5107 - val_accuracy: 0.3600 - val_auc: 0.6734\n",
            "Epoch 44/100\n",
            "2/2 [==============================] - 5s 3s/step - loss: 1.5517 - accuracy: 0.2551 - auc: 0.6198 - val_loss: 1.4625 - val_accuracy: 0.4400 - val_auc: 0.7225\n",
            "Epoch 45/100\n",
            "2/2 [==============================] - 5s 3s/step - loss: 1.5497 - accuracy: 0.3010 - auc: 0.6305 - val_loss: 1.5510 - val_accuracy: 0.3200 - val_auc: 0.6010\n",
            "Epoch 46/100\n",
            "2/2 [==============================] - 5s 3s/step - loss: 1.5222 - accuracy: 0.3520 - auc: 0.6571 - val_loss: 1.4440 - val_accuracy: 0.4800 - val_auc: 0.7278\n",
            "Epoch 47/100\n",
            "2/2 [==============================] - 5s 2s/step - loss: 1.4894 - accuracy: 0.3724 - auc: 0.6756 - val_loss: 1.4416 - val_accuracy: 0.4200 - val_auc: 0.7218\n",
            "Epoch 48/100\n",
            "2/2 [==============================] - 5s 2s/step - loss: 1.5043 - accuracy: 0.3112 - auc: 0.6561 - val_loss: 1.4870 - val_accuracy: 0.4600 - val_auc: 0.6765\n",
            "Epoch 49/100\n",
            "2/2 [==============================] - 5s 2s/step - loss: 1.5171 - accuracy: 0.2908 - auc: 0.6366 - val_loss: 1.4049 - val_accuracy: 0.4800 - val_auc: 0.7372\n",
            "Epoch 50/100\n",
            "2/2 [==============================] - 5s 2s/step - loss: 1.4883 - accuracy: 0.3316 - auc: 0.6675 - val_loss: 1.3673 - val_accuracy: 0.4600 - val_auc: 0.7566\n",
            "Epoch 51/100\n",
            "2/2 [==============================] - 5s 2s/step - loss: 1.4728 - accuracy: 0.3469 - auc: 0.6758 - val_loss: 1.3640 - val_accuracy: 0.4600 - val_auc: 0.7582\n",
            "Epoch 52/100\n",
            "2/2 [==============================] - 5s 3s/step - loss: 1.4257 - accuracy: 0.3827 - auc: 0.7037 - val_loss: 1.4086 - val_accuracy: 0.4400 - val_auc: 0.7383\n",
            "Epoch 53/100\n",
            "2/2 [==============================] - 5s 2s/step - loss: 1.4542 - accuracy: 0.3776 - auc: 0.6882 - val_loss: 1.3320 - val_accuracy: 0.4800 - val_auc: 0.7785\n",
            "Epoch 54/100\n",
            "2/2 [==============================] - 5s 3s/step - loss: 1.4056 - accuracy: 0.4133 - auc: 0.7201 - val_loss: 1.3083 - val_accuracy: 0.5200 - val_auc: 0.7801\n",
            "Epoch 55/100\n",
            "2/2 [==============================] - 5s 2s/step - loss: 1.3843 - accuracy: 0.4235 - auc: 0.7298 - val_loss: 1.2580 - val_accuracy: 0.4800 - val_auc: 0.7829\n",
            "Epoch 56/100\n",
            "2/2 [==============================] - 5s 3s/step - loss: 1.4199 - accuracy: 0.3776 - auc: 0.6969 - val_loss: 1.3275 - val_accuracy: 0.4200 - val_auc: 0.7865\n",
            "Epoch 57/100\n",
            "2/2 [==============================] - 4s 2s/step - loss: 1.4426 - accuracy: 0.3929 - auc: 0.6902 - val_loss: 1.2867 - val_accuracy: 0.4800 - val_auc: 0.7905\n",
            "Epoch 58/100\n",
            "2/2 [==============================] - 5s 2s/step - loss: 1.4040 - accuracy: 0.3878 - auc: 0.7199 - val_loss: 1.3921 - val_accuracy: 0.4000 - val_auc: 0.7426\n",
            "Epoch 59/100\n",
            "2/2 [==============================] - 5s 2s/step - loss: 1.4001 - accuracy: 0.4031 - auc: 0.7250 - val_loss: 1.2810 - val_accuracy: 0.4800 - val_auc: 0.7697\n",
            "Epoch 60/100\n",
            "2/2 [==============================] - 5s 3s/step - loss: 1.4028 - accuracy: 0.3673 - auc: 0.7188 - val_loss: 1.3712 - val_accuracy: 0.4600 - val_auc: 0.7458\n",
            "Epoch 61/100\n",
            "2/2 [==============================] - 4s 3s/step - loss: 1.4097 - accuracy: 0.3673 - auc: 0.7194 - val_loss: 1.2530 - val_accuracy: 0.5000 - val_auc: 0.7929\n",
            "Epoch 62/100\n",
            "2/2 [==============================] - 5s 2s/step - loss: 1.3297 - accuracy: 0.4847 - auc: 0.7603 - val_loss: 1.3001 - val_accuracy: 0.5200 - val_auc: 0.7722\n",
            "Epoch 63/100\n",
            "2/2 [==============================] - 5s 2s/step - loss: 1.3046 - accuracy: 0.4541 - auc: 0.7706 - val_loss: 1.1853 - val_accuracy: 0.5200 - val_auc: 0.8102\n",
            "Epoch 64/100\n",
            "2/2 [==============================] - 5s 2s/step - loss: 1.2262 - accuracy: 0.5102 - auc: 0.7991 - val_loss: 1.1838 - val_accuracy: 0.5600 - val_auc: 0.8086\n",
            "Epoch 65/100\n",
            "2/2 [==============================] - 4s 3s/step - loss: 1.3600 - accuracy: 0.4490 - auc: 0.7541 - val_loss: 1.0883 - val_accuracy: 0.5600 - val_auc: 0.8419\n",
            "Epoch 66/100\n",
            "2/2 [==============================] - 5s 3s/step - loss: 1.2089 - accuracy: 0.5000 - auc: 0.8069 - val_loss: 1.1175 - val_accuracy: 0.5800 - val_auc: 0.8379\n",
            "Epoch 67/100\n",
            "2/2 [==============================] - 5s 3s/step - loss: 1.1908 - accuracy: 0.5306 - auc: 0.8160 - val_loss: 1.0373 - val_accuracy: 0.6800 - val_auc: 0.8582\n",
            "Epoch 68/100\n",
            "2/2 [==============================] - 5s 3s/step - loss: 1.2819 - accuracy: 0.4643 - auc: 0.7776 - val_loss: 1.0972 - val_accuracy: 0.6600 - val_auc: 0.8553\n",
            "Epoch 69/100\n",
            "2/2 [==============================] - 5s 2s/step - loss: 1.2704 - accuracy: 0.4592 - auc: 0.7726 - val_loss: 1.0321 - val_accuracy: 0.6400 - val_auc: 0.8635\n",
            "Epoch 70/100\n",
            "2/2 [==============================] - 5s 2s/step - loss: 1.2389 - accuracy: 0.5000 - auc: 0.7921 - val_loss: 1.1116 - val_accuracy: 0.5800 - val_auc: 0.8400\n",
            "Epoch 71/100\n",
            "2/2 [==============================] - 5s 2s/step - loss: 1.1441 - accuracy: 0.5663 - auc: 0.8286 - val_loss: 1.1925 - val_accuracy: 0.5800 - val_auc: 0.8080\n",
            "Epoch 72/100\n",
            "2/2 [==============================] - 5s 2s/step - loss: 1.1642 - accuracy: 0.5204 - auc: 0.8233 - val_loss: 1.1445 - val_accuracy: 0.6200 - val_auc: 0.8250\n",
            "Epoch 73/100\n",
            "2/2 [==============================] - 5s 3s/step - loss: 1.1871 - accuracy: 0.5357 - auc: 0.8119 - val_loss: 1.0988 - val_accuracy: 0.5600 - val_auc: 0.8389\n",
            "Epoch 74/100\n",
            "2/2 [==============================] - 5s 3s/step - loss: 1.1587 - accuracy: 0.5510 - auc: 0.8210 - val_loss: 1.0129 - val_accuracy: 0.6400 - val_auc: 0.8731\n",
            "Epoch 75/100\n",
            "2/2 [==============================] - 5s 2s/step - loss: 1.0925 - accuracy: 0.5612 - auc: 0.8463 - val_loss: 0.9609 - val_accuracy: 0.5800 - val_auc: 0.8909\n",
            "Epoch 76/100\n",
            "2/2 [==============================] - 5s 3s/step - loss: 1.1589 - accuracy: 0.5051 - auc: 0.8204 - val_loss: 0.9816 - val_accuracy: 0.6000 - val_auc: 0.8760\n",
            "Epoch 77/100\n",
            "2/2 [==============================] - 5s 3s/step - loss: 1.1170 - accuracy: 0.5510 - auc: 0.8396 - val_loss: 1.0099 - val_accuracy: 0.6000 - val_auc: 0.8613\n",
            "Epoch 78/100\n",
            "2/2 [==============================] - 5s 2s/step - loss: 1.0798 - accuracy: 0.5459 - auc: 0.8506 - val_loss: 0.9718 - val_accuracy: 0.6000 - val_auc: 0.8828\n",
            "Epoch 79/100\n",
            "2/2 [==============================] - 5s 3s/step - loss: 1.0643 - accuracy: 0.5612 - auc: 0.8554 - val_loss: 0.8878 - val_accuracy: 0.6200 - val_auc: 0.9004\n",
            "Epoch 80/100\n",
            "2/2 [==============================] - 5s 2s/step - loss: 1.1038 - accuracy: 0.5612 - auc: 0.8428 - val_loss: 0.9611 - val_accuracy: 0.7000 - val_auc: 0.8808\n",
            "Epoch 81/100\n",
            "2/2 [==============================] - 5s 3s/step - loss: 1.2064 - accuracy: 0.5306 - auc: 0.8110 - val_loss: 0.9547 - val_accuracy: 0.6200 - val_auc: 0.8799\n",
            "Epoch 82/100\n",
            "2/2 [==============================] - 5s 3s/step - loss: 1.0378 - accuracy: 0.6122 - auc: 0.8604 - val_loss: 1.0567 - val_accuracy: 0.6000 - val_auc: 0.8573\n",
            "Epoch 83/100\n",
            "2/2 [==============================] - 5s 2s/step - loss: 1.1239 - accuracy: 0.5255 - auc: 0.8318 - val_loss: 1.1243 - val_accuracy: 0.4800 - val_auc: 0.8324\n",
            "Epoch 84/100\n",
            "2/2 [==============================] - 5s 2s/step - loss: 1.1520 - accuracy: 0.5204 - auc: 0.8247 - val_loss: 1.1583 - val_accuracy: 0.5000 - val_auc: 0.8187\n",
            "Epoch 85/100\n",
            "2/2 [==============================] - 5s 2s/step - loss: 1.1071 - accuracy: 0.5459 - auc: 0.8385 - val_loss: 1.0858 - val_accuracy: 0.5800 - val_auc: 0.8456\n",
            "Epoch 86/100\n",
            "2/2 [==============================] - 5s 3s/step - loss: 1.1558 - accuracy: 0.5663 - auc: 0.8298 - val_loss: 0.9467 - val_accuracy: 0.6200 - val_auc: 0.8849\n",
            "Epoch 87/100\n",
            "2/2 [==============================] - 5s 2s/step - loss: 1.1100 - accuracy: 0.5357 - auc: 0.8377 - val_loss: 0.9161 - val_accuracy: 0.7200 - val_auc: 0.8920\n",
            "Epoch 88/100\n",
            "2/2 [==============================] - 5s 3s/step - loss: 1.0445 - accuracy: 0.6071 - auc: 0.8633 - val_loss: 0.9584 - val_accuracy: 0.6800 - val_auc: 0.8799\n",
            "Epoch 89/100\n",
            "2/2 [==============================] - 5s 3s/step - loss: 1.0050 - accuracy: 0.6020 - auc: 0.8714 - val_loss: 0.9911 - val_accuracy: 0.6600 - val_auc: 0.8764\n",
            "Epoch 90/100\n",
            "2/2 [==============================] - 5s 3s/step - loss: 1.0415 - accuracy: 0.5612 - auc: 0.8607 - val_loss: 0.8693 - val_accuracy: 0.7200 - val_auc: 0.9038\n",
            "Epoch 91/100\n",
            "2/2 [==============================] - 5s 2s/step - loss: 0.9345 - accuracy: 0.6684 - auc: 0.8907 - val_loss: 0.8224 - val_accuracy: 0.7000 - val_auc: 0.9154\n",
            "Epoch 92/100\n",
            "2/2 [==============================] - 5s 2s/step - loss: 0.9738 - accuracy: 0.5816 - auc: 0.8781 - val_loss: 0.9331 - val_accuracy: 0.6600 - val_auc: 0.8859\n",
            "Epoch 93/100\n",
            "2/2 [==============================] - 5s 2s/step - loss: 0.9270 - accuracy: 0.6531 - auc: 0.8905 - val_loss: 1.0191 - val_accuracy: 0.6400 - val_auc: 0.8717\n",
            "Epoch 94/100\n",
            "2/2 [==============================] - 5s 2s/step - loss: 0.9643 - accuracy: 0.5867 - auc: 0.8793 - val_loss: 0.8384 - val_accuracy: 0.6800 - val_auc: 0.9112\n",
            "Epoch 95/100\n",
            "2/2 [==============================] - 5s 2s/step - loss: 0.8860 - accuracy: 0.6837 - auc: 0.8998 - val_loss: 0.8966 - val_accuracy: 0.7000 - val_auc: 0.9042\n",
            "Epoch 96/100\n",
            "2/2 [==============================] - 5s 3s/step - loss: 1.0033 - accuracy: 0.6071 - auc: 0.8731 - val_loss: 0.8910 - val_accuracy: 0.7000 - val_auc: 0.9041\n",
            "Epoch 97/100\n",
            "2/2 [==============================] - 5s 2s/step - loss: 0.9041 - accuracy: 0.6582 - auc: 0.8960 - val_loss: 0.8722 - val_accuracy: 0.6600 - val_auc: 0.9072\n",
            "Epoch 98/100\n",
            "2/2 [==============================] - 5s 2s/step - loss: 0.8390 - accuracy: 0.6837 - auc: 0.9098 - val_loss: 0.8202 - val_accuracy: 0.7000 - val_auc: 0.9144\n",
            "Epoch 99/100\n",
            "2/2 [==============================] - 5s 2s/step - loss: 0.8963 - accuracy: 0.6735 - auc: 0.8981 - val_loss: 0.7673 - val_accuracy: 0.7000 - val_auc: 0.9245\n",
            "Epoch 100/100\n",
            "2/2 [==============================] - 5s 2s/step - loss: 0.8738 - accuracy: 0.6378 - auc: 0.9025 - val_loss: 0.7691 - val_accuracy: 0.7200 - val_auc: 0.9230\n"
          ]
        },
        {
          "output_type": "execute_result",
          "data": {
            "text/plain": [
              "<keras.callbacks.History at 0x7fd72157cfa0>"
            ]
          },
          "metadata": {},
          "execution_count": 39
        }
      ]
    },
    {
      "cell_type": "markdown",
      "source": [
        "# Eval"
      ],
      "metadata": {
        "id": "DpUbp_-m_GjE"
      }
    },
    {
      "cell_type": "code",
      "source": [
        "loss, acc, auc = onion.evaluate(x_test, y_test, batch_size=100)\n",
        "print('\\nTest accuracy: %.1f%%' % (100.0 * acc))\n",
        "print('\\nTest AUC: %.1f%%' % (100.0 * auc))"
      ],
      "metadata": {
        "colab": {
          "base_uri": "https://localhost:8080/"
        },
        "id": "5qeraKzQ_IQH",
        "outputId": "b981fee4-f112-4916-b3fb-4e2efc94aabe"
      },
      "execution_count": 40,
      "outputs": [
        {
          "output_type": "stream",
          "name": "stdout",
          "text": [
            "1/1 [==============================] - 0s 169ms/step - loss: 0.8241 - accuracy: 0.7143 - auc: 0.9147\n",
            "\n",
            "Test accuracy: 71.4%\n",
            "\n",
            "Test AUC: 91.5%\n"
          ]
        }
      ]
    },
    {
      "cell_type": "code",
      "source": [
        "yfit = onion.predict(x_test)\n",
        "y_prediction = []\n",
        "for i in yfit:\n",
        "  i=list(i)\n",
        "  y_prediction.append(i.index(max(i)))\n",
        "print(y_prediction)\n",
        "\n",
        "y_real=[]\n",
        "for j in y_test:\n",
        "  j = list(j)\n",
        "  y_real.append(j.index(max(j)))\n",
        "print(y_real)"
      ],
      "metadata": {
        "colab": {
          "base_uri": "https://localhost:8080/"
        },
        "id": "kxm_DH2TAtvT",
        "outputId": "25a248c4-b97c-47d6-b66c-e0f4a1de3d8a"
      },
      "execution_count": 41,
      "outputs": [
        {
          "output_type": "stream",
          "name": "stdout",
          "text": [
            "1/1 [==============================] - 0s 248ms/step\n",
            "[3, 0, 4, 2, 4, 1, 0, 2, 1, 2, 1, 1, 4, 0, 4, 3, 4, 4, 1, 0, 1, 3, 1, 1, 4, 2, 2, 4]\n",
            "[3, 3, 1, 2, 4, 4, 0, 2, 1, 2, 3, 1, 0, 0, 4, 3, 4, 4, 1, 0, 1, 0, 3, 1, 4, 0, 2, 4]\n"
          ]
        }
      ]
    },
    {
      "cell_type": "code",
      "source": [
        "from sklearn.metrics import confusion_matrix\n",
        "import seaborn as sns\n",
        "\n",
        "mat = confusion_matrix(y_real, y_prediction)\n",
        "sns.heatmap(mat.T, square=True, annot=True,fmt='d',cbar=False, xticklabels=np.unique(names), yticklabels=np.unique(names))\n",
        "\n",
        "plt.xlabel('True table')\n",
        "plt.ylabel('Predicted label')"
      ],
      "metadata": {
        "colab": {
          "base_uri": "https://localhost:8080/",
          "height": 378
        },
        "id": "0VreGOdRCeoJ",
        "outputId": "a89855dc-019c-42c9-bc25-5a2b5e2dd3d7"
      },
      "execution_count": 42,
      "outputs": [
        {
          "output_type": "execute_result",
          "data": {
            "text/plain": [
              "Text(91.68, 0.5, 'Predicted label')"
            ]
          },
          "metadata": {},
          "execution_count": 42
        },
        {
          "output_type": "display_data",
          "data": {
            "text/plain": [
              "<Figure size 432x288 with 1 Axes>"
            ],
            "image/png": "[encoded data removed]"
          },
          "metadata": {
            "needs_background": "light"
          }
        }
      ]
    }
  ]
}