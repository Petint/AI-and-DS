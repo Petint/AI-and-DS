{
  "nbformat": 4,
  "nbformat_minor": 0,
  "metadata": {
    "colab": {
      "provenance": [],
      "authorship_tag": "ABX9TyMCzQhjyzYSmsnqoJJZmInV",
      "include_colab_link": true
    },
    "kernelspec": {
      "name": "python3",
      "display_name": "Python 3"
    },
    "language_info": {
      "name": "python"
    }
  },
  "cells": [
    {
      "cell_type": "markdown",
      "metadata": {
        "id": "view-in-github",
        "colab_type": "text"
      },
      "source": [
        "<a href=\"https://colab.research.google.com/github/Petint/AI-and-DS/blob/main/ai_2.ipynb\" target=\"_parent\"><img src=\"https://colab.research.google.com/assets/colab-badge.svg\" alt=\"Open In Colab\"/></a>"
      ]
    },
    {
      "cell_type": "markdown",
      "source": [
        "# AI-2"
      ],
      "metadata": {
        "id": "TPOEgAYIsF19"
      }
    },
    {
      "cell_type": "code",
      "execution_count": null,
      "metadata": {
        "id": "17cLlFlosDCy"
      },
      "outputs": [],
      "source": [
        "# Import all necessary\n",
        "import numpy as np\n",
        "import matplotlib.pyplot as plt\n",
        "import os\n",
        "import cv2 as cv\n",
        "\n",
        "from sklearn.preprocessing import LabelBinarizer\n",
        "from sklearn.model_selection import train_test_split\n",
        "\n",
        "from keras.models import Sequential\n",
        "from keras.layers import Conv2D, Dense, Flatten, MaxPooling2D\n",
        "from keras.layers import BatchNormalization, Activation, Dropout\n",
        "from keras.preprocessing.image import ImageDataGenerator"
      ]
    },
    {
      "cell_type": "markdown",
      "source": [
        "# Connect to drive"
      ],
      "metadata": {
        "id": "xI6mnQmqthIb"
      }
    },
    {
      "cell_type": "code",
      "source": [],
      "metadata": {
        "id": "KvBlufiHtE6b"
      },
      "execution_count": null,
      "outputs": []
    },
    {
      "cell_type": "code",
      "source": [
        "from google.colab import drive\n",
        "drive.mount('/content/drive')"
      ],
      "metadata": {
        "colab": {
          "base_uri": "https://localhost:8080/"
        },
        "id": "oNOSNJdOtkh8",
        "outputId": "aab4fc52-77f2-441e-e989-f88f9a373d13"
      },
      "execution_count": 4,
      "outputs": [
        {
          "output_type": "stream",
          "name": "stdout",
          "text": [
            "Drive already mounted at /content/drive; to attempt to forcibly remount, call drive.mount(\"/content/drive\", force_remount=True).\n"
          ]
        }
      ]
    },
    {
      "cell_type": "markdown",
      "source": [
        "# Dara prep"
      ],
      "metadata": {
        "id": "mumRppexuNcM"
      }
    },
    {
      "cell_type": "code",
      "source": [
        "path = '/content/drive/MyDrive/cropped_images/'\n",
        "input_shape = (96, 96, 3)\n",
        "x = []\n",
        "y = []\n",
        "\n",
        "for folder in os.listdir(path):\n",
        "  for images in os.listdir(os.path.join(path, folder)):\n",
        "    imagepath = os.path.join(path, folder, images)\n",
        "    image = cv.imread(imagepath)\n",
        "    image = cv.resize(image, (input_shape[1], input_shape[0]))\n",
        "    label = folder.replace('_', ' ')\n",
        "    x.append(image)\n",
        "    y.append(label)"
      ],
      "metadata": {
        "id": "U96X20MMuPVH"
      },
      "execution_count": 5,
      "outputs": []
    },
    {
      "cell_type": "markdown",
      "source": [
        "# Norm"
      ],
      "metadata": {
        "id": "YZR5wMKjy61h"
      }
    },
    {
      "cell_type": "code",
      "source": [
        "x = np.array(x) / 255.0\n",
        "y = np.array(y)\n",
        "# Herbalizer\n",
        "names = np.unique(y)\n",
        "print(names)\n",
        "mlb = LabelBinarizer()\n",
        "y = mlb.fit_transform(y)\n",
        "\n"
      ],
      "metadata": {
        "id": "EAQsduVmy8f4"
      },
      "execution_count": null,
      "outputs": []
    }
  ]
}